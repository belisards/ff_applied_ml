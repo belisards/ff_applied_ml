{
 "cells": [
  {
   "cell_type": "code",
   "execution_count": 1,
   "metadata": {},
   "outputs": [],
   "source": [
    "import  numpy as np\n",
    "import pandas as pd\n",
    "import statsmodels.api as sm\n",
    "\n",
    "from sklearn.linear_model import Lasso\n",
    "from sklearn.linear_model import LogisticRegression\n",
    "from sklearn.linear_model import RidgeCV\n",
    "\n",
    "from sklearn.preprocessing import QuantileTransformer, quantile_transform\n",
    "\n",
    "from sklearn.metrics import median_absolute_error, r2_score\n",
    "# ....\n",
    "\n",
    "from sklearn.model_selection import train_test_split\n",
    "\n",
    "from matplotlib import pyplot as plt\n",
    "%matplotlib inline"
   ]
  },
  {
   "cell_type": "markdown",
   "metadata": {},
   "source": [
    "## Load the data\n",
    "\n",
    "Let's load the data and have a look at it (make sure you copy the folder FFChallenge_v5 in your working directory). "
   ]
  },
  {
   "cell_type": "code",
   "execution_count": 2,
   "metadata": {},
   "outputs": [
    {
     "name": "stderr",
     "output_type": "stream",
     "text": [
      "/Users/stefan/anaconda3/lib/python3.6/site-packages/IPython/core/interactiveshell.py:3018: DtypeWarning: Columns (5168,5272,5328,5329,5340,5341,5351,5470,5479,5661,5663,5685,5695,5696,5706,5764,5772,5788,5803,5815,5816,5828,5900,5901,5937,5946,5965,5966,9287,12349,12353,12356) have mixed types.Specify dtype option on import or set low_memory=False.\n",
      "  interactivity=interactivity, compiler=compiler, result=result)\n"
     ]
    }
   ],
   "source": [
    "# background.csv contains 4,242 rows (one per family) and 13,027 columns\n",
    "#                index by challengeID: A unique numeric identifier for each child.\n",
    "#                features: 13,026 background variables asked from birth to age 9, \n",
    "#                which you may use in building your model.\n",
    "background = pd.read_csv('FFChallenge_v5/background.csv', sep=',', header=0,index_col=0)\n",
    "\n",
    "# train.csv contains 2,121 rows (one per child in the training set) and 7 columns.\n",
    "train = pd.read_csv('FFChallenge_v5/train.csv', sep=',', header=0, index_col=0)\n",
    "\n",
    "#constantVariables.txt gives the column names of variables that are constant in the data.\n",
    "#We recommend that the first step in any analysis be to remove the variables that are constant.\n",
    "constantVariables = pd.read_csv('FFChallenge_v5/constantVariables.txt',header=None, index_col=0)"
   ]
  },
  {
   "cell_type": "code",
   "execution_count": 3,
   "metadata": {},
   "outputs": [
    {
     "name": "stdout",
     "output_type": "stream",
     "text": [
      "(2121, 6)\n"
     ]
    },
    {
     "data": {
      "text/html": [
       "<div>\n",
       "<style scoped>\n",
       "    .dataframe tbody tr th:only-of-type {\n",
       "        vertical-align: middle;\n",
       "    }\n",
       "\n",
       "    .dataframe tbody tr th {\n",
       "        vertical-align: top;\n",
       "    }\n",
       "\n",
       "    .dataframe thead th {\n",
       "        text-align: right;\n",
       "    }\n",
       "</style>\n",
       "<table border=\"1\" class=\"dataframe\">\n",
       "  <thead>\n",
       "    <tr style=\"text-align: right;\">\n",
       "      <th></th>\n",
       "      <th>gpa</th>\n",
       "      <th>grit</th>\n",
       "      <th>materialHardship</th>\n",
       "      <th>eviction</th>\n",
       "      <th>layoff</th>\n",
       "      <th>jobTraining</th>\n",
       "    </tr>\n",
       "    <tr>\n",
       "      <th>challengeID</th>\n",
       "      <th></th>\n",
       "      <th></th>\n",
       "      <th></th>\n",
       "      <th></th>\n",
       "      <th></th>\n",
       "      <th></th>\n",
       "    </tr>\n",
       "  </thead>\n",
       "  <tbody>\n",
       "    <tr>\n",
       "      <th>1</th>\n",
       "      <td>NaN</td>\n",
       "      <td>NaN</td>\n",
       "      <td>NaN</td>\n",
       "      <td>NaN</td>\n",
       "      <td>NaN</td>\n",
       "      <td>NaN</td>\n",
       "    </tr>\n",
       "    <tr>\n",
       "      <th>3</th>\n",
       "      <td>NaN</td>\n",
       "      <td>NaN</td>\n",
       "      <td>NaN</td>\n",
       "      <td>NaN</td>\n",
       "      <td>NaN</td>\n",
       "      <td>NaN</td>\n",
       "    </tr>\n",
       "    <tr>\n",
       "      <th>6</th>\n",
       "      <td>NaN</td>\n",
       "      <td>3.50</td>\n",
       "      <td>0.090909</td>\n",
       "      <td>0.0</td>\n",
       "      <td>0.0</td>\n",
       "      <td>0.0</td>\n",
       "    </tr>\n",
       "    <tr>\n",
       "      <th>7</th>\n",
       "      <td>2.5</td>\n",
       "      <td>3.25</td>\n",
       "      <td>0.000000</td>\n",
       "      <td>0.0</td>\n",
       "      <td>0.0</td>\n",
       "      <td>0.0</td>\n",
       "    </tr>\n",
       "    <tr>\n",
       "      <th>8</th>\n",
       "      <td>NaN</td>\n",
       "      <td>NaN</td>\n",
       "      <td>NaN</td>\n",
       "      <td>NaN</td>\n",
       "      <td>NaN</td>\n",
       "      <td>NaN</td>\n",
       "    </tr>\n",
       "  </tbody>\n",
       "</table>\n",
       "</div>"
      ],
      "text/plain": [
       "             gpa  grit  materialHardship  eviction  layoff  jobTraining\n",
       "challengeID                                                            \n",
       "1            NaN   NaN               NaN       NaN     NaN          NaN\n",
       "3            NaN   NaN               NaN       NaN     NaN          NaN\n",
       "6            NaN  3.50          0.090909       0.0     0.0          0.0\n",
       "7            2.5  3.25          0.000000       0.0     0.0          0.0\n",
       "8            NaN   NaN               NaN       NaN     NaN          NaN"
      ]
     },
     "execution_count": 3,
     "metadata": {},
     "output_type": "execute_result"
    }
   ],
   "source": [
    "print(train.shape)\n",
    "train.head()"
   ]
  },
  {
   "cell_type": "code",
   "execution_count": 4,
   "metadata": {},
   "outputs": [
    {
     "name": "stdout",
     "output_type": "stream",
     "text": [
      "(4242, 13026)\n"
     ]
    },
    {
     "data": {
      "text/html": [
       "<div>\n",
       "<style scoped>\n",
       "    .dataframe tbody tr th:only-of-type {\n",
       "        vertical-align: middle;\n",
       "    }\n",
       "\n",
       "    .dataframe tbody tr th {\n",
       "        vertical-align: top;\n",
       "    }\n",
       "\n",
       "    .dataframe thead th {\n",
       "        text-align: right;\n",
       "    }\n",
       "</style>\n",
       "<table border=\"1\" class=\"dataframe\">\n",
       "  <thead>\n",
       "    <tr style=\"text-align: right;\">\n",
       "      <th></th>\n",
       "      <th>cf1intmon</th>\n",
       "      <th>cf1intyr</th>\n",
       "      <th>cf1lenhr</th>\n",
       "      <th>cf1lenmin</th>\n",
       "      <th>cf1twoc</th>\n",
       "      <th>cf1fint</th>\n",
       "      <th>cf1natsm</th>\n",
       "      <th>f1natwt</th>\n",
       "      <th>cf1natsmx</th>\n",
       "      <th>f1natwtx</th>\n",
       "      <th>...</th>\n",
       "      <th>m4d9</th>\n",
       "      <th>m4e23</th>\n",
       "      <th>f4d6</th>\n",
       "      <th>f4d7</th>\n",
       "      <th>f4d9</th>\n",
       "      <th>m5c6</th>\n",
       "      <th>m5d20</th>\n",
       "      <th>m5k10</th>\n",
       "      <th>f5c6</th>\n",
       "      <th>k5f1</th>\n",
       "    </tr>\n",
       "    <tr>\n",
       "      <th>challengeID</th>\n",
       "      <th></th>\n",
       "      <th></th>\n",
       "      <th></th>\n",
       "      <th></th>\n",
       "      <th></th>\n",
       "      <th></th>\n",
       "      <th></th>\n",
       "      <th></th>\n",
       "      <th></th>\n",
       "      <th></th>\n",
       "      <th></th>\n",
       "      <th></th>\n",
       "      <th></th>\n",
       "      <th></th>\n",
       "      <th></th>\n",
       "      <th></th>\n",
       "      <th></th>\n",
       "      <th></th>\n",
       "      <th></th>\n",
       "      <th></th>\n",
       "      <th></th>\n",
       "    </tr>\n",
       "  </thead>\n",
       "  <tbody>\n",
       "    <tr>\n",
       "      <th>1</th>\n",
       "      <td>-3</td>\n",
       "      <td>-3</td>\n",
       "      <td>-9</td>\n",
       "      <td>-9</td>\n",
       "      <td>-3</td>\n",
       "      <td>0</td>\n",
       "      <td>-3</td>\n",
       "      <td>-3</td>\n",
       "      <td>-3</td>\n",
       "      <td>-3</td>\n",
       "      <td>...</td>\n",
       "      <td>6.269946</td>\n",
       "      <td>5.180325</td>\n",
       "      <td>2.511131</td>\n",
       "      <td>1.718804</td>\n",
       "      <td>6.473537</td>\n",
       "      <td>16.369411</td>\n",
       "      <td>4.476881</td>\n",
       "      <td>9.628369</td>\n",
       "      <td>15.981275</td>\n",
       "      <td>24.038266</td>\n",
       "    </tr>\n",
       "    <tr>\n",
       "      <th>2</th>\n",
       "      <td>-3</td>\n",
       "      <td>-3</td>\n",
       "      <td>0</td>\n",
       "      <td>40</td>\n",
       "      <td>-3</td>\n",
       "      <td>1</td>\n",
       "      <td>-3</td>\n",
       "      <td>-3</td>\n",
       "      <td>-3</td>\n",
       "      <td>-3</td>\n",
       "      <td>...</td>\n",
       "      <td>6.269946</td>\n",
       "      <td>27.680196</td>\n",
       "      <td>2.511131</td>\n",
       "      <td>1.718804</td>\n",
       "      <td>6.473537</td>\n",
       "      <td>16.369411</td>\n",
       "      <td>26.671897</td>\n",
       "      <td>9.628369</td>\n",
       "      <td>15.981275</td>\n",
       "      <td>3.667679</td>\n",
       "    </tr>\n",
       "    <tr>\n",
       "      <th>3</th>\n",
       "      <td>-3</td>\n",
       "      <td>-3</td>\n",
       "      <td>0</td>\n",
       "      <td>45</td>\n",
       "      <td>-3</td>\n",
       "      <td>1</td>\n",
       "      <td>-3</td>\n",
       "      <td>-3</td>\n",
       "      <td>-3</td>\n",
       "      <td>-3</td>\n",
       "      <td>...</td>\n",
       "      <td>6.269946</td>\n",
       "      <td>5.180325</td>\n",
       "      <td>20.867881</td>\n",
       "      <td>24.115867</td>\n",
       "      <td>6.473537</td>\n",
       "      <td>16.369411</td>\n",
       "      <td>4.476881</td>\n",
       "      <td>9.628369</td>\n",
       "      <td>15.981275</td>\n",
       "      <td>24.038266</td>\n",
       "    </tr>\n",
       "    <tr>\n",
       "      <th>4</th>\n",
       "      <td>-3</td>\n",
       "      <td>-3</td>\n",
       "      <td>0</td>\n",
       "      <td>45</td>\n",
       "      <td>-3</td>\n",
       "      <td>1</td>\n",
       "      <td>-3</td>\n",
       "      <td>-3</td>\n",
       "      <td>-3</td>\n",
       "      <td>-3</td>\n",
       "      <td>...</td>\n",
       "      <td>6.269946</td>\n",
       "      <td>5.180325</td>\n",
       "      <td>22.018875</td>\n",
       "      <td>22.932641</td>\n",
       "      <td>6.473537</td>\n",
       "      <td>-5.169243</td>\n",
       "      <td>4.476881</td>\n",
       "      <td>9.628369</td>\n",
       "      <td>-6.303171</td>\n",
       "      <td>4.140511</td>\n",
       "    </tr>\n",
       "    <tr>\n",
       "      <th>5</th>\n",
       "      <td>-3</td>\n",
       "      <td>-3</td>\n",
       "      <td>-6</td>\n",
       "      <td>50</td>\n",
       "      <td>-3</td>\n",
       "      <td>1</td>\n",
       "      <td>-3</td>\n",
       "      <td>-3</td>\n",
       "      <td>-3</td>\n",
       "      <td>-3</td>\n",
       "      <td>...</td>\n",
       "      <td>6.269946</td>\n",
       "      <td>5.180325</td>\n",
       "      <td>22.916602</td>\n",
       "      <td>22.988036</td>\n",
       "      <td>6.473537</td>\n",
       "      <td>-6.034660</td>\n",
       "      <td>4.476881</td>\n",
       "      <td>9.628369</td>\n",
       "      <td>-6.211828</td>\n",
       "      <td>3.668879</td>\n",
       "    </tr>\n",
       "  </tbody>\n",
       "</table>\n",
       "<p>5 rows × 13026 columns</p>\n",
       "</div>"
      ],
      "text/plain": [
       "             cf1intmon  cf1intyr  cf1lenhr  cf1lenmin  cf1twoc  cf1fint  \\\n",
       "challengeID                                                               \n",
       "1                   -3        -3        -9         -9       -3        0   \n",
       "2                   -3        -3         0         40       -3        1   \n",
       "3                   -3        -3         0         45       -3        1   \n",
       "4                   -3        -3         0         45       -3        1   \n",
       "5                   -3        -3        -6         50       -3        1   \n",
       "\n",
       "             cf1natsm  f1natwt  cf1natsmx  f1natwtx  ...      m4d9      m4e23  \\\n",
       "challengeID                                          ...                        \n",
       "1                  -3       -3         -3        -3  ...  6.269946   5.180325   \n",
       "2                  -3       -3         -3        -3  ...  6.269946  27.680196   \n",
       "3                  -3       -3         -3        -3  ...  6.269946   5.180325   \n",
       "4                  -3       -3         -3        -3  ...  6.269946   5.180325   \n",
       "5                  -3       -3         -3        -3  ...  6.269946   5.180325   \n",
       "\n",
       "                  f4d6       f4d7      f4d9       m5c6      m5d20     m5k10  \\\n",
       "challengeID                                                                   \n",
       "1             2.511131   1.718804  6.473537  16.369411   4.476881  9.628369   \n",
       "2             2.511131   1.718804  6.473537  16.369411  26.671897  9.628369   \n",
       "3            20.867881  24.115867  6.473537  16.369411   4.476881  9.628369   \n",
       "4            22.018875  22.932641  6.473537  -5.169243   4.476881  9.628369   \n",
       "5            22.916602  22.988036  6.473537  -6.034660   4.476881  9.628369   \n",
       "\n",
       "                  f5c6       k5f1  \n",
       "challengeID                        \n",
       "1            15.981275  24.038266  \n",
       "2            15.981275   3.667679  \n",
       "3            15.981275  24.038266  \n",
       "4            -6.303171   4.140511  \n",
       "5            -6.211828   3.668879  \n",
       "\n",
       "[5 rows x 13026 columns]"
      ]
     },
     "execution_count": 4,
     "metadata": {},
     "output_type": "execute_result"
    }
   ],
   "source": [
    "print(background.shape)\n",
    "background.head()"
   ]
  },
  {
   "cell_type": "markdown",
   "metadata": {},
   "source": [
    "## Cleaning the data\n",
    "\n",
    "There is a lot of things you can do with regard to cleaning the data. I just show two example and leave the rest to you."
   ]
  },
  {
   "cell_type": "code",
   "execution_count": 5,
   "metadata": {},
   "outputs": [],
   "source": [
    "# Drop constant columns\n",
    "background= background.drop(constantVariables.index.values, axis = 1)"
   ]
  },
  {
   "cell_type": "code",
   "execution_count": 6,
   "metadata": {},
   "outputs": [
    {
     "data": {
      "text/html": [
       "<div>\n",
       "<style scoped>\n",
       "    .dataframe tbody tr th:only-of-type {\n",
       "        vertical-align: middle;\n",
       "    }\n",
       "\n",
       "    .dataframe tbody tr th {\n",
       "        vertical-align: top;\n",
       "    }\n",
       "\n",
       "    .dataframe thead th {\n",
       "        text-align: right;\n",
       "    }\n",
       "</style>\n",
       "<table border=\"1\" class=\"dataframe\">\n",
       "  <thead>\n",
       "    <tr style=\"text-align: right;\">\n",
       "      <th></th>\n",
       "      <th>cf1lenhr</th>\n",
       "      <th>cf1lenmin</th>\n",
       "      <th>cf1fint</th>\n",
       "      <th>cf1citsm</th>\n",
       "      <th>f1citywt</th>\n",
       "      <th>f1a2</th>\n",
       "      <th>f1a3</th>\n",
       "      <th>f1a4</th>\n",
       "      <th>f1a4a</th>\n",
       "      <th>f1a5</th>\n",
       "      <th>...</th>\n",
       "      <th>m4d9</th>\n",
       "      <th>m4e23</th>\n",
       "      <th>f4d6</th>\n",
       "      <th>f4d7</th>\n",
       "      <th>f4d9</th>\n",
       "      <th>m5c6</th>\n",
       "      <th>m5d20</th>\n",
       "      <th>m5k10</th>\n",
       "      <th>f5c6</th>\n",
       "      <th>k5f1</th>\n",
       "    </tr>\n",
       "    <tr>\n",
       "      <th>challengeID</th>\n",
       "      <th></th>\n",
       "      <th></th>\n",
       "      <th></th>\n",
       "      <th></th>\n",
       "      <th></th>\n",
       "      <th></th>\n",
       "      <th></th>\n",
       "      <th></th>\n",
       "      <th></th>\n",
       "      <th></th>\n",
       "      <th></th>\n",
       "      <th></th>\n",
       "      <th></th>\n",
       "      <th></th>\n",
       "      <th></th>\n",
       "      <th></th>\n",
       "      <th></th>\n",
       "      <th></th>\n",
       "      <th></th>\n",
       "      <th></th>\n",
       "      <th></th>\n",
       "    </tr>\n",
       "  </thead>\n",
       "  <tbody>\n",
       "    <tr>\n",
       "      <th>1</th>\n",
       "      <td>-9</td>\n",
       "      <td>-9</td>\n",
       "      <td>0</td>\n",
       "      <td>-9</td>\n",
       "      <td>-3.000000</td>\n",
       "      <td>-9</td>\n",
       "      <td>-9</td>\n",
       "      <td>-9</td>\n",
       "      <td>-9</td>\n",
       "      <td>-9</td>\n",
       "      <td>...</td>\n",
       "      <td>6.269946</td>\n",
       "      <td>5.180325</td>\n",
       "      <td>2.511131</td>\n",
       "      <td>1.718804</td>\n",
       "      <td>6.473537</td>\n",
       "      <td>16.369411</td>\n",
       "      <td>4.476881</td>\n",
       "      <td>9.628369</td>\n",
       "      <td>15.981275</td>\n",
       "      <td>24.038266</td>\n",
       "    </tr>\n",
       "    <tr>\n",
       "      <th>2</th>\n",
       "      <td>0</td>\n",
       "      <td>40</td>\n",
       "      <td>1</td>\n",
       "      <td>1</td>\n",
       "      <td>68.455658</td>\n",
       "      <td>2</td>\n",
       "      <td>1</td>\n",
       "      <td>1</td>\n",
       "      <td>-6</td>\n",
       "      <td>1</td>\n",
       "      <td>...</td>\n",
       "      <td>6.269946</td>\n",
       "      <td>27.680196</td>\n",
       "      <td>2.511131</td>\n",
       "      <td>1.718804</td>\n",
       "      <td>6.473537</td>\n",
       "      <td>16.369411</td>\n",
       "      <td>26.671897</td>\n",
       "      <td>9.628369</td>\n",
       "      <td>15.981275</td>\n",
       "      <td>3.667679</td>\n",
       "    </tr>\n",
       "    <tr>\n",
       "      <th>3</th>\n",
       "      <td>0</td>\n",
       "      <td>45</td>\n",
       "      <td>1</td>\n",
       "      <td>1</td>\n",
       "      <td>42.319057</td>\n",
       "      <td>1</td>\n",
       "      <td>1</td>\n",
       "      <td>1</td>\n",
       "      <td>-6</td>\n",
       "      <td>1</td>\n",
       "      <td>...</td>\n",
       "      <td>6.269946</td>\n",
       "      <td>5.180325</td>\n",
       "      <td>20.867881</td>\n",
       "      <td>24.115867</td>\n",
       "      <td>6.473537</td>\n",
       "      <td>16.369411</td>\n",
       "      <td>4.476881</td>\n",
       "      <td>9.628369</td>\n",
       "      <td>15.981275</td>\n",
       "      <td>24.038266</td>\n",
       "    </tr>\n",
       "    <tr>\n",
       "      <th>4</th>\n",
       "      <td>0</td>\n",
       "      <td>45</td>\n",
       "      <td>1</td>\n",
       "      <td>1</td>\n",
       "      <td>25.628830</td>\n",
       "      <td>1</td>\n",
       "      <td>1</td>\n",
       "      <td>1</td>\n",
       "      <td>-6</td>\n",
       "      <td>1</td>\n",
       "      <td>...</td>\n",
       "      <td>6.269946</td>\n",
       "      <td>5.180325</td>\n",
       "      <td>22.018875</td>\n",
       "      <td>22.932641</td>\n",
       "      <td>6.473537</td>\n",
       "      <td>-5.169243</td>\n",
       "      <td>4.476881</td>\n",
       "      <td>9.628369</td>\n",
       "      <td>-6.303171</td>\n",
       "      <td>4.140511</td>\n",
       "    </tr>\n",
       "    <tr>\n",
       "      <th>5</th>\n",
       "      <td>-6</td>\n",
       "      <td>50</td>\n",
       "      <td>1</td>\n",
       "      <td>1</td>\n",
       "      <td>41.954487</td>\n",
       "      <td>2</td>\n",
       "      <td>1</td>\n",
       "      <td>1</td>\n",
       "      <td>-6</td>\n",
       "      <td>1</td>\n",
       "      <td>...</td>\n",
       "      <td>6.269946</td>\n",
       "      <td>5.180325</td>\n",
       "      <td>22.916602</td>\n",
       "      <td>22.988036</td>\n",
       "      <td>6.473537</td>\n",
       "      <td>-6.034660</td>\n",
       "      <td>4.476881</td>\n",
       "      <td>9.628369</td>\n",
       "      <td>-6.211828</td>\n",
       "      <td>3.668879</td>\n",
       "    </tr>\n",
       "  </tbody>\n",
       "</table>\n",
       "<p>5 rows × 10560 columns</p>\n",
       "</div>"
      ],
      "text/plain": [
       "             cf1lenhr  cf1lenmin  cf1fint  cf1citsm   f1citywt  f1a2  f1a3  \\\n",
       "challengeID                                                                  \n",
       "1                  -9         -9        0        -9  -3.000000    -9    -9   \n",
       "2                   0         40        1         1  68.455658     2     1   \n",
       "3                   0         45        1         1  42.319057     1     1   \n",
       "4                   0         45        1         1  25.628830     1     1   \n",
       "5                  -6         50        1         1  41.954487     2     1   \n",
       "\n",
       "             f1a4  f1a4a  f1a5  ...      m4d9      m4e23       f4d6  \\\n",
       "challengeID                     ...                                   \n",
       "1              -9     -9    -9  ...  6.269946   5.180325   2.511131   \n",
       "2               1     -6     1  ...  6.269946  27.680196   2.511131   \n",
       "3               1     -6     1  ...  6.269946   5.180325  20.867881   \n",
       "4               1     -6     1  ...  6.269946   5.180325  22.018875   \n",
       "5               1     -6     1  ...  6.269946   5.180325  22.916602   \n",
       "\n",
       "                  f4d7      f4d9       m5c6      m5d20     m5k10       f5c6  \\\n",
       "challengeID                                                                   \n",
       "1             1.718804  6.473537  16.369411   4.476881  9.628369  15.981275   \n",
       "2             1.718804  6.473537  16.369411  26.671897  9.628369  15.981275   \n",
       "3            24.115867  6.473537  16.369411   4.476881  9.628369  15.981275   \n",
       "4            22.932641  6.473537  -5.169243   4.476881  9.628369  -6.303171   \n",
       "5            22.988036  6.473537  -6.034660   4.476881  9.628369  -6.211828   \n",
       "\n",
       "                  k5f1  \n",
       "challengeID             \n",
       "1            24.038266  \n",
       "2             3.667679  \n",
       "3            24.038266  \n",
       "4             4.140511  \n",
       "5             3.668879  \n",
       "\n",
       "[5 rows x 10560 columns]"
      ]
     },
     "execution_count": 6,
     "metadata": {},
     "output_type": "execute_result"
    }
   ],
   "source": [
    "# Lets remove all columns with more than 80% NAs\n",
    "mask = (background.isna().sum(axis=0)/len(background)<0.8)\n",
    "background = background[mask[mask].index]\n",
    "background.head()"
   ]
  },
  {
   "cell_type": "markdown",
   "metadata": {},
   "source": [
    "You can do more data cleaning:\n",
    "- What to do about the non-numerical columns?\n",
    "- Here I just drop them ..."
   ]
  },
  {
   "cell_type": "code",
   "execution_count": 7,
   "metadata": {},
   "outputs": [
    {
     "name": "stdout",
     "output_type": "stream",
     "text": [
      "Number of numerical columns 10479\n"
     ]
    },
    {
     "data": {
      "text/html": [
       "<div>\n",
       "<style scoped>\n",
       "    .dataframe tbody tr th:only-of-type {\n",
       "        vertical-align: middle;\n",
       "    }\n",
       "\n",
       "    .dataframe tbody tr th {\n",
       "        vertical-align: top;\n",
       "    }\n",
       "\n",
       "    .dataframe thead th {\n",
       "        text-align: right;\n",
       "    }\n",
       "</style>\n",
       "<table border=\"1\" class=\"dataframe\">\n",
       "  <thead>\n",
       "    <tr style=\"text-align: right;\">\n",
       "      <th></th>\n",
       "      <th>cf1lenhr</th>\n",
       "      <th>cf1lenmin</th>\n",
       "      <th>cf1fint</th>\n",
       "      <th>cf1citsm</th>\n",
       "      <th>f1citywt</th>\n",
       "      <th>f1a2</th>\n",
       "      <th>f1a3</th>\n",
       "      <th>f1a4</th>\n",
       "      <th>f1a4a</th>\n",
       "      <th>f1a5</th>\n",
       "      <th>...</th>\n",
       "      <th>m4d9</th>\n",
       "      <th>m4e23</th>\n",
       "      <th>f4d6</th>\n",
       "      <th>f4d7</th>\n",
       "      <th>f4d9</th>\n",
       "      <th>m5c6</th>\n",
       "      <th>m5d20</th>\n",
       "      <th>m5k10</th>\n",
       "      <th>f5c6</th>\n",
       "      <th>k5f1</th>\n",
       "    </tr>\n",
       "    <tr>\n",
       "      <th>challengeID</th>\n",
       "      <th></th>\n",
       "      <th></th>\n",
       "      <th></th>\n",
       "      <th></th>\n",
       "      <th></th>\n",
       "      <th></th>\n",
       "      <th></th>\n",
       "      <th></th>\n",
       "      <th></th>\n",
       "      <th></th>\n",
       "      <th></th>\n",
       "      <th></th>\n",
       "      <th></th>\n",
       "      <th></th>\n",
       "      <th></th>\n",
       "      <th></th>\n",
       "      <th></th>\n",
       "      <th></th>\n",
       "      <th></th>\n",
       "      <th></th>\n",
       "      <th></th>\n",
       "    </tr>\n",
       "  </thead>\n",
       "  <tbody>\n",
       "    <tr>\n",
       "      <th>1</th>\n",
       "      <td>-9</td>\n",
       "      <td>-9</td>\n",
       "      <td>0</td>\n",
       "      <td>-9</td>\n",
       "      <td>-3.000000</td>\n",
       "      <td>-9</td>\n",
       "      <td>-9</td>\n",
       "      <td>-9</td>\n",
       "      <td>-9</td>\n",
       "      <td>-9</td>\n",
       "      <td>...</td>\n",
       "      <td>6.269946</td>\n",
       "      <td>5.180325</td>\n",
       "      <td>2.511131</td>\n",
       "      <td>1.718804</td>\n",
       "      <td>6.473537</td>\n",
       "      <td>16.369411</td>\n",
       "      <td>4.476881</td>\n",
       "      <td>9.628369</td>\n",
       "      <td>15.981275</td>\n",
       "      <td>24.038266</td>\n",
       "    </tr>\n",
       "    <tr>\n",
       "      <th>2</th>\n",
       "      <td>0</td>\n",
       "      <td>40</td>\n",
       "      <td>1</td>\n",
       "      <td>1</td>\n",
       "      <td>68.455658</td>\n",
       "      <td>2</td>\n",
       "      <td>1</td>\n",
       "      <td>1</td>\n",
       "      <td>-6</td>\n",
       "      <td>1</td>\n",
       "      <td>...</td>\n",
       "      <td>6.269946</td>\n",
       "      <td>27.680196</td>\n",
       "      <td>2.511131</td>\n",
       "      <td>1.718804</td>\n",
       "      <td>6.473537</td>\n",
       "      <td>16.369411</td>\n",
       "      <td>26.671897</td>\n",
       "      <td>9.628369</td>\n",
       "      <td>15.981275</td>\n",
       "      <td>3.667679</td>\n",
       "    </tr>\n",
       "    <tr>\n",
       "      <th>3</th>\n",
       "      <td>0</td>\n",
       "      <td>45</td>\n",
       "      <td>1</td>\n",
       "      <td>1</td>\n",
       "      <td>42.319057</td>\n",
       "      <td>1</td>\n",
       "      <td>1</td>\n",
       "      <td>1</td>\n",
       "      <td>-6</td>\n",
       "      <td>1</td>\n",
       "      <td>...</td>\n",
       "      <td>6.269946</td>\n",
       "      <td>5.180325</td>\n",
       "      <td>20.867881</td>\n",
       "      <td>24.115867</td>\n",
       "      <td>6.473537</td>\n",
       "      <td>16.369411</td>\n",
       "      <td>4.476881</td>\n",
       "      <td>9.628369</td>\n",
       "      <td>15.981275</td>\n",
       "      <td>24.038266</td>\n",
       "    </tr>\n",
       "    <tr>\n",
       "      <th>4</th>\n",
       "      <td>0</td>\n",
       "      <td>45</td>\n",
       "      <td>1</td>\n",
       "      <td>1</td>\n",
       "      <td>25.628830</td>\n",
       "      <td>1</td>\n",
       "      <td>1</td>\n",
       "      <td>1</td>\n",
       "      <td>-6</td>\n",
       "      <td>1</td>\n",
       "      <td>...</td>\n",
       "      <td>6.269946</td>\n",
       "      <td>5.180325</td>\n",
       "      <td>22.018875</td>\n",
       "      <td>22.932641</td>\n",
       "      <td>6.473537</td>\n",
       "      <td>-5.169243</td>\n",
       "      <td>4.476881</td>\n",
       "      <td>9.628369</td>\n",
       "      <td>-6.303171</td>\n",
       "      <td>4.140511</td>\n",
       "    </tr>\n",
       "    <tr>\n",
       "      <th>5</th>\n",
       "      <td>-6</td>\n",
       "      <td>50</td>\n",
       "      <td>1</td>\n",
       "      <td>1</td>\n",
       "      <td>41.954487</td>\n",
       "      <td>2</td>\n",
       "      <td>1</td>\n",
       "      <td>1</td>\n",
       "      <td>-6</td>\n",
       "      <td>1</td>\n",
       "      <td>...</td>\n",
       "      <td>6.269946</td>\n",
       "      <td>5.180325</td>\n",
       "      <td>22.916602</td>\n",
       "      <td>22.988036</td>\n",
       "      <td>6.473537</td>\n",
       "      <td>-6.034660</td>\n",
       "      <td>4.476881</td>\n",
       "      <td>9.628369</td>\n",
       "      <td>-6.211828</td>\n",
       "      <td>3.668879</td>\n",
       "    </tr>\n",
       "  </tbody>\n",
       "</table>\n",
       "<p>5 rows × 10479 columns</p>\n",
       "</div>"
      ],
      "text/plain": [
       "             cf1lenhr  cf1lenmin  cf1fint  cf1citsm   f1citywt  f1a2  f1a3  \\\n",
       "challengeID                                                                  \n",
       "1                  -9         -9        0        -9  -3.000000    -9    -9   \n",
       "2                   0         40        1         1  68.455658     2     1   \n",
       "3                   0         45        1         1  42.319057     1     1   \n",
       "4                   0         45        1         1  25.628830     1     1   \n",
       "5                  -6         50        1         1  41.954487     2     1   \n",
       "\n",
       "             f1a4  f1a4a  f1a5  ...      m4d9      m4e23       f4d6  \\\n",
       "challengeID                     ...                                   \n",
       "1              -9     -9    -9  ...  6.269946   5.180325   2.511131   \n",
       "2               1     -6     1  ...  6.269946  27.680196   2.511131   \n",
       "3               1     -6     1  ...  6.269946   5.180325  20.867881   \n",
       "4               1     -6     1  ...  6.269946   5.180325  22.018875   \n",
       "5               1     -6     1  ...  6.269946   5.180325  22.916602   \n",
       "\n",
       "                  f4d7      f4d9       m5c6      m5d20     m5k10       f5c6  \\\n",
       "challengeID                                                                   \n",
       "1             1.718804  6.473537  16.369411   4.476881  9.628369  15.981275   \n",
       "2             1.718804  6.473537  16.369411  26.671897  9.628369  15.981275   \n",
       "3            24.115867  6.473537  16.369411   4.476881  9.628369  15.981275   \n",
       "4            22.932641  6.473537  -5.169243   4.476881  9.628369  -6.303171   \n",
       "5            22.988036  6.473537  -6.034660   4.476881  9.628369  -6.211828   \n",
       "\n",
       "                  k5f1  \n",
       "challengeID             \n",
       "1            24.038266  \n",
       "2             3.667679  \n",
       "3            24.038266  \n",
       "4             4.140511  \n",
       "5             3.668879  \n",
       "\n",
       "[5 rows x 10479 columns]"
      ]
     },
     "execution_count": 7,
     "metadata": {},
     "output_type": "execute_result"
    }
   ],
   "source": [
    "numerical_columns = [c for c,v in background.dtypes.iteritems() if v in [np.float,np.int]]\n",
    "print('Number of numerical columns %s' % len(numerical_columns))\n",
    "background = background[numerical_columns]\n",
    "background.head()"
   ]
  },
  {
   "cell_type": "markdown",
   "metadata": {},
   "source": [
    "## Splitting the data "
   ]
  },
  {
   "cell_type": "markdown",
   "metadata": {},
   "source": [
    "- You should split the data in a train and CV set. \n",
    "- Apply any transformation and imputation correctly! Many people do this wrong"
   ]
  },
  {
   "cell_type": "code",
   "execution_count": 8,
   "metadata": {},
   "outputs": [],
   "source": [
    "X_train, X_CV, y_train, y_CV = train_test_split(background.loc[train.index] , train, test_size=0.33, random_state=42)"
   ]
  },
  {
   "cell_type": "markdown",
   "metadata": {},
   "source": [
    "Here we replace NAs in the predictors with their population mean (on the training set). \n",
    "\n",
    "You can probably do better than this"
   ]
  },
  {
   "cell_type": "code",
   "execution_count": 9,
   "metadata": {},
   "outputs": [],
   "source": [
    "means_train = X_train.mean()\n",
    "X_train = X_train.fillna(means_train)\n",
    "X_CV = X_CV.fillna(means_train)"
   ]
  },
  {
   "cell_type": "markdown",
   "metadata": {},
   "source": [
    "## Fitting models"
   ]
  },
  {
   "cell_type": "markdown",
   "metadata": {},
   "source": [
    "The variables we want to pridict are\n",
    "\n",
    "- Continuous variables: grit, gpa, materialHardship\n",
    "- Binary variables: eviction, layoff, jobTraining\n",
    "\n",
    "There are several things you have to consider.\n",
    "\n",
    "For the continous variables:\n",
    "\n",
    "- What is the distribution of the response variabel? Is it normal, log-normal or different? Can I use transformations, such as quantile transforms to make modelling it more ameanable?\n",
    "\n",
    "Binary variable:\n",
    "\n",
    "- Are there strong class imbalances? How do I deal with them?"
   ]
  },
  {
   "cell_type": "markdown",
   "metadata": {},
   "source": [
    "### Example\n",
    "\n",
    "Let's look at one of the variables here. You have to do all 6."
   ]
  },
  {
   "cell_type": "code",
   "execution_count": 10,
   "metadata": {},
   "outputs": [],
   "source": [
    "variable = 'gpa'\n",
    "\n",
    "# Let's drop instances where the response is NA\n",
    "y_train = y_train[variable].dropna()\n",
    "X_train = X_train.loc[y_train.index.values]"
   ]
  },
  {
   "cell_type": "markdown",
   "metadata": {},
   "source": [
    "Let's look a bit more at the response variable"
   ]
  },
  {
   "cell_type": "code",
   "execution_count": 11,
   "metadata": {},
   "outputs": [
    {
     "data": {
      "text/plain": [
       "challengeID\n",
       "2434    4.00\n",
       "911     2.25\n",
       "3206    2.25\n",
       "2175    2.50\n",
       "1679    2.50\n",
       "Name: gpa, dtype: float64"
      ]
     },
     "execution_count": 11,
     "metadata": {},
     "output_type": "execute_result"
    }
   ],
   "source": [
    "y_train.tail()"
   ]
  },
  {
   "cell_type": "code",
   "execution_count": 12,
   "metadata": {},
   "outputs": [
    {
     "data": {
      "text/plain": [
       "<matplotlib.axes._subplots.AxesSubplot at 0x7f8cb0d6c0f0>"
      ]
     },
     "execution_count": 12,
     "metadata": {},
     "output_type": "execute_result"
    },
    {
     "data": {
      "image/png": "[encoded data removed]",
      "text/plain": [
       "<matplotlib.figure.Figure at 0x7f8ca48a5b38>"
      ]
     },
     "metadata": {
      "needs_background": "light"
     },
     "output_type": "display_data"
    }
   ],
   "source": [
    "y_train.hist(bins=50)"
   ]
  },
  {
   "cell_type": "markdown",
   "metadata": {},
   "source": [
    "Not very normal. We can at least rescale it to help make predictions."
   ]
  },
  {
   "cell_type": "code",
   "execution_count": 13,
   "metadata": {},
   "outputs": [],
   "source": [
    "y_train_mean = y_train.mean()\n",
    "y_train_std = y_train.std()\n",
    "\n",
    "y_train_trans = (y_train-y_train_mean)/y_train_std"
   ]
  },
  {
   "cell_type": "markdown",
   "metadata": {},
   "source": [
    "Better even, you can also use quantile tansformations to change the shape of the distribution."
   ]
  },
  {
   "cell_type": "code",
   "execution_count": 14,
   "metadata": {},
   "outputs": [
    {
     "data": {
      "text/plain": [
       "<matplotlib.axes._subplots.AxesSubplot at 0x7f8c9f786390>"
      ]
     },
     "execution_count": 14,
     "metadata": {},
     "output_type": "execute_result"
    },
    {
     "data": {
      "image/png": "[encoded data removed]",
      "text/plain": [
       "<matplotlib.figure.Figure at 0x7f8cb253dbe0>"
      ]
     },
     "metadata": {
      "needs_background": "light"
     },
     "output_type": "display_data"
    }
   ],
   "source": [
    "pd.Series(y_train_trans).hist(bins=50)"
   ]
  },
  {
   "cell_type": "markdown",
   "metadata": {},
   "source": [
    "Let us fit a Lasso model to the transformed data\n",
    "\n",
    "- How do you choose which model to use?\n",
    "- What about the hyperparamaters of the model, how do you choose those? Here we just take a fixed value."
   ]
  },
  {
   "cell_type": "code",
   "execution_count": 15,
   "metadata": {},
   "outputs": [
    {
     "data": {
      "text/plain": [
       "Lasso(alpha=1000.0, copy_X=True, fit_intercept=True, max_iter=10000,\n",
       "   normalize=False, positive=False, precompute=False, random_state=None,\n",
       "   selection='cyclic', tol=0.0001, warm_start=False)"
      ]
     },
     "execution_count": 15,
     "metadata": {},
     "output_type": "execute_result"
    }
   ],
   "source": [
    "model = Lasso(alpha=1000.0,max_iter=10000)\n",
    "model.fit(X_train, y_train_trans)"
   ]
  },
  {
   "cell_type": "markdown",
   "metadata": {},
   "source": [
    "Let's make predictions on the CV set and plot the distribution: "
   ]
  },
  {
   "cell_type": "code",
   "execution_count": 16,
   "metadata": {},
   "outputs": [
    {
     "data": {
      "text/plain": [
       "<matplotlib.axes._subplots.AxesSubplot at 0x7f8ca8cad7f0>"
      ]
     },
     "execution_count": 16,
     "metadata": {},
     "output_type": "execute_result"
    },
    {
     "data": {
      "image/png": "[encoded data removed]",
      "text/plain": [
       "<matplotlib.figure.Figure at 0x7f8cb2509160>"
      ]
     },
     "metadata": {
      "needs_background": "light"
     },
     "output_type": "display_data"
    }
   ],
   "source": [
    "y_pred_trans = model.predict(X_CV)\n",
    "y_pred = y_train_mean + y_train_std*y_pred_trans\n",
    "y_pred = np.clip(y_pred,0,None)\n",
    "pd.Series(y_pred).hist(bins=50)"
   ]
  },
  {
   "cell_type": "markdown",
   "metadata": {},
   "source": [
    "We can compute the R^2 on the CV set:"
   ]
  },
  {
   "cell_type": "code",
   "execution_count": 17,
   "metadata": {},
   "outputs": [
    {
     "data": {
      "text/plain": [
       "0.05394944404827606"
      ]
     },
     "execution_count": 17,
     "metadata": {},
     "output_type": "execute_result"
    }
   ],
   "source": [
    "y = y_CV[variable]\n",
    "mask = y.isna()\n",
    "r2_score(y[~mask],y_pred[~mask])"
   ]
  },
  {
   "cell_type": "markdown",
   "metadata": {},
   "source": [
    "A Rˆ2 of 5% is not very high, but the data is very noisy (for example, for financial data prediction performance is equally low in the 3% R^2 range). \n",
    "\n",
    "In any case, we do better than using the mean as Rˆ2 is positive and this is just a linear model with simple pre-processing and without any hyper-parameter optimisation! You can do better!"
   ]
  },
  {
   "cell_type": "markdown",
   "metadata": {},
   "source": [
    "Let's now make predictions on the entire data for submission"
   ]
  },
  {
   "cell_type": "code",
   "execution_count": 18,
   "metadata": {},
   "outputs": [],
   "source": [
    "X = background.fillna(means_train)\n",
    "y_pred_trans = model.predict(X)\n",
    "y_pred = y_train_mean + y_train_std*y_pred_trans\n",
    "y_pred = np.clip(y_pred,0,None)"
   ]
  },
  {
   "cell_type": "code",
   "execution_count": 19,
   "metadata": {},
   "outputs": [
    {
     "data": {
      "text/html": [
       "<div>\n",
       "<style scoped>\n",
       "    .dataframe tbody tr th:only-of-type {\n",
       "        vertical-align: middle;\n",
       "    }\n",
       "\n",
       "    .dataframe tbody tr th {\n",
       "        vertical-align: top;\n",
       "    }\n",
       "\n",
       "    .dataframe thead th {\n",
       "        text-align: right;\n",
       "    }\n",
       "</style>\n",
       "<table border=\"1\" class=\"dataframe\">\n",
       "  <thead>\n",
       "    <tr style=\"text-align: right;\">\n",
       "      <th></th>\n",
       "      <th>gpa</th>\n",
       "    </tr>\n",
       "    <tr>\n",
       "      <th>challengeID</th>\n",
       "      <th></th>\n",
       "    </tr>\n",
       "  </thead>\n",
       "  <tbody>\n",
       "    <tr>\n",
       "      <th>1</th>\n",
       "      <td>2.628665</td>\n",
       "    </tr>\n",
       "    <tr>\n",
       "      <th>2</th>\n",
       "      <td>2.828415</td>\n",
       "    </tr>\n",
       "    <tr>\n",
       "      <th>3</th>\n",
       "      <td>2.728882</td>\n",
       "    </tr>\n",
       "    <tr>\n",
       "      <th>4</th>\n",
       "      <td>2.961724</td>\n",
       "    </tr>\n",
       "    <tr>\n",
       "      <th>5</th>\n",
       "      <td>2.709656</td>\n",
       "    </tr>\n",
       "  </tbody>\n",
       "</table>\n",
       "</div>"
      ],
      "text/plain": [
       "                  gpa\n",
       "challengeID          \n",
       "1            2.628665\n",
       "2            2.828415\n",
       "3            2.728882\n",
       "4            2.961724\n",
       "5            2.709656"
      ]
     },
     "execution_count": 19,
     "metadata": {},
     "output_type": "execute_result"
    }
   ],
   "source": [
    "gpa_predictions = pd.DataFrame(y_pred ,columns = [variable],index=X.index)\n",
    "gpa_predictions.head()"
   ]
  },
  {
   "cell_type": "code",
   "execution_count": null,
   "metadata": {},
   "outputs": [],
   "source": []
  },
  {
   "cell_type": "markdown",
   "metadata": {},
   "source": [
    "## Benchmarks and submission\n",
    "\n",
    "For the benchmarks we simply take the mean of each continous response variable and the majority class for the binary variables. Given that the classes are highly imbalanced we are actually doing quite well in accuracy."
   ]
  },
  {
   "cell_type": "code",
   "execution_count": 20,
   "metadata": {},
   "outputs": [
    {
     "name": "stdout",
     "output_type": "stream",
     "text": [
      "gpa mean 2.8667381974248927\n",
      "grit mean 3.4275387870239773\n",
      "materialHardship mean 0.10374478160633116\n",
      "No eviction prevalence 0.9403701165181632\n",
      "No layoff prevalence 0.7909162098668755\n",
      "No jobTraining prevalence 0.7652292950034223\n"
     ]
    }
   ],
   "source": [
    "gpa_benchmark = train['gpa'].mean()\n",
    "print('gpa mean',gpa_benchmark)\n",
    "grit_benchmark = train['grit'].mean()\n",
    "print('grit mean',grit_benchmark)\n",
    "materialHardship_benchmark = train['materialHardship'].mean()\n",
    "print('materialHardship mean',materialHardship_benchmark)\n",
    "x = train['eviction'].dropna()==0\n",
    "print(\"No eviction prevalence\" , np.sum(x)/len(x))\n",
    "eviction_benchmark =0\n",
    "x = train['layoff'].dropna()==0\n",
    "print(\"No layoff prevalence\" , np.sum(x)/len(x))\n",
    "layoff_benchmark =0\n",
    "x = train['jobTraining'].dropna()==0\n",
    "print(\"No jobTraining prevalence\" , np.sum(x)/len(x))\n",
    "jobTraining_benchmark =0"
   ]
  },
  {
   "cell_type": "markdown",
   "metadata": {},
   "source": [
    "We see that the archive provides a sample file for a submission:\n"
   ]
  },
  {
   "cell_type": "code",
   "execution_count": 21,
   "metadata": {},
   "outputs": [
    {
     "data": {
      "text/html": [
       "<div>\n",
       "<style scoped>\n",
       "    .dataframe tbody tr th:only-of-type {\n",
       "        vertical-align: middle;\n",
       "    }\n",
       "\n",
       "    .dataframe tbody tr th {\n",
       "        vertical-align: top;\n",
       "    }\n",
       "\n",
       "    .dataframe thead th {\n",
       "        text-align: right;\n",
       "    }\n",
       "</style>\n",
       "<table border=\"1\" class=\"dataframe\">\n",
       "  <thead>\n",
       "    <tr style=\"text-align: right;\">\n",
       "      <th></th>\n",
       "      <th>gpa</th>\n",
       "      <th>grit</th>\n",
       "      <th>materialHardship</th>\n",
       "      <th>eviction</th>\n",
       "      <th>layoff</th>\n",
       "      <th>jobTraining</th>\n",
       "    </tr>\n",
       "    <tr>\n",
       "      <th>challengeID</th>\n",
       "      <th></th>\n",
       "      <th></th>\n",
       "      <th></th>\n",
       "      <th></th>\n",
       "      <th></th>\n",
       "      <th></th>\n",
       "    </tr>\n",
       "  </thead>\n",
       "  <tbody>\n",
       "    <tr>\n",
       "      <th>1</th>\n",
       "      <td>2.866738</td>\n",
       "      <td>3.427539</td>\n",
       "      <td>0.103745</td>\n",
       "      <td>0.05963</td>\n",
       "      <td>0.209084</td>\n",
       "      <td>0.234771</td>\n",
       "    </tr>\n",
       "    <tr>\n",
       "      <th>2</th>\n",
       "      <td>2.866738</td>\n",
       "      <td>3.427539</td>\n",
       "      <td>0.103745</td>\n",
       "      <td>0.05963</td>\n",
       "      <td>0.209084</td>\n",
       "      <td>0.234771</td>\n",
       "    </tr>\n",
       "    <tr>\n",
       "      <th>3</th>\n",
       "      <td>2.866738</td>\n",
       "      <td>3.427539</td>\n",
       "      <td>0.103745</td>\n",
       "      <td>0.05963</td>\n",
       "      <td>0.209084</td>\n",
       "      <td>0.234771</td>\n",
       "    </tr>\n",
       "    <tr>\n",
       "      <th>4</th>\n",
       "      <td>2.866738</td>\n",
       "      <td>3.427539</td>\n",
       "      <td>0.103745</td>\n",
       "      <td>0.05963</td>\n",
       "      <td>0.209084</td>\n",
       "      <td>0.234771</td>\n",
       "    </tr>\n",
       "    <tr>\n",
       "      <th>5</th>\n",
       "      <td>2.866738</td>\n",
       "      <td>3.427539</td>\n",
       "      <td>0.103745</td>\n",
       "      <td>0.05963</td>\n",
       "      <td>0.209084</td>\n",
       "      <td>0.234771</td>\n",
       "    </tr>\n",
       "  </tbody>\n",
       "</table>\n",
       "</div>"
      ],
      "text/plain": [
       "                  gpa      grit  materialHardship  eviction    layoff  \\\n",
       "challengeID                                                             \n",
       "1            2.866738  3.427539          0.103745   0.05963  0.209084   \n",
       "2            2.866738  3.427539          0.103745   0.05963  0.209084   \n",
       "3            2.866738  3.427539          0.103745   0.05963  0.209084   \n",
       "4            2.866738  3.427539          0.103745   0.05963  0.209084   \n",
       "5            2.866738  3.427539          0.103745   0.05963  0.209084   \n",
       "\n",
       "             jobTraining  \n",
       "challengeID               \n",
       "1               0.234771  \n",
       "2               0.234771  \n",
       "3               0.234771  \n",
       "4               0.234771  \n",
       "5               0.234771  "
      ]
     },
     "execution_count": 21,
     "metadata": {},
     "output_type": "execute_result"
    }
   ],
   "source": [
    "\n",
    "prediction = pd.read_csv('FFChallenge_v5/prediction.csv', sep=',', header=0, index_col=0)\n",
    "prediction.head()"
   ]
  },
  {
   "cell_type": "markdown",
   "metadata": {},
   "source": [
    "It's basically our benchmark, but we have set the binary variables to the majority rather than the mean. In the evaluation on the leaderboard it would end up in the same outcome."
   ]
  },
  {
   "cell_type": "code",
   "execution_count": 22,
   "metadata": {},
   "outputs": [],
   "source": [
    "prediction['gpa'] = gpa_benchmark\n",
    "prediction['grit'] = grit_benchmark\n",
    "prediction['materialHardship'] = materialHardship_benchmark\n",
    "prediction['eviction'] = eviction_benchmark\n",
    "prediction['layoff'] = layoff_benchmark\n",
    "prediction['jobTraining'] = jobTraining_benchmark"
   ]
  },
  {
   "cell_type": "code",
   "execution_count": 23,
   "metadata": {},
   "outputs": [
    {
     "data": {
      "text/html": [
       "<div>\n",
       "<style scoped>\n",
       "    .dataframe tbody tr th:only-of-type {\n",
       "        vertical-align: middle;\n",
       "    }\n",
       "\n",
       "    .dataframe tbody tr th {\n",
       "        vertical-align: top;\n",
       "    }\n",
       "\n",
       "    .dataframe thead th {\n",
       "        text-align: right;\n",
       "    }\n",
       "</style>\n",
       "<table border=\"1\" class=\"dataframe\">\n",
       "  <thead>\n",
       "    <tr style=\"text-align: right;\">\n",
       "      <th></th>\n",
       "      <th>gpa</th>\n",
       "      <th>grit</th>\n",
       "      <th>materialHardship</th>\n",
       "      <th>eviction</th>\n",
       "      <th>layoff</th>\n",
       "      <th>jobTraining</th>\n",
       "    </tr>\n",
       "    <tr>\n",
       "      <th>challengeID</th>\n",
       "      <th></th>\n",
       "      <th></th>\n",
       "      <th></th>\n",
       "      <th></th>\n",
       "      <th></th>\n",
       "      <th></th>\n",
       "    </tr>\n",
       "  </thead>\n",
       "  <tbody>\n",
       "    <tr>\n",
       "      <th>1</th>\n",
       "      <td>2.866738</td>\n",
       "      <td>3.427539</td>\n",
       "      <td>0.103745</td>\n",
       "      <td>0</td>\n",
       "      <td>0</td>\n",
       "      <td>0</td>\n",
       "    </tr>\n",
       "    <tr>\n",
       "      <th>2</th>\n",
       "      <td>2.866738</td>\n",
       "      <td>3.427539</td>\n",
       "      <td>0.103745</td>\n",
       "      <td>0</td>\n",
       "      <td>0</td>\n",
       "      <td>0</td>\n",
       "    </tr>\n",
       "    <tr>\n",
       "      <th>3</th>\n",
       "      <td>2.866738</td>\n",
       "      <td>3.427539</td>\n",
       "      <td>0.103745</td>\n",
       "      <td>0</td>\n",
       "      <td>0</td>\n",
       "      <td>0</td>\n",
       "    </tr>\n",
       "    <tr>\n",
       "      <th>4</th>\n",
       "      <td>2.866738</td>\n",
       "      <td>3.427539</td>\n",
       "      <td>0.103745</td>\n",
       "      <td>0</td>\n",
       "      <td>0</td>\n",
       "      <td>0</td>\n",
       "    </tr>\n",
       "    <tr>\n",
       "      <th>5</th>\n",
       "      <td>2.866738</td>\n",
       "      <td>3.427539</td>\n",
       "      <td>0.103745</td>\n",
       "      <td>0</td>\n",
       "      <td>0</td>\n",
       "      <td>0</td>\n",
       "    </tr>\n",
       "  </tbody>\n",
       "</table>\n",
       "</div>"
      ],
      "text/plain": [
       "                  gpa      grit  materialHardship  eviction  layoff  \\\n",
       "challengeID                                                           \n",
       "1            2.866738  3.427539          0.103745         0       0   \n",
       "2            2.866738  3.427539          0.103745         0       0   \n",
       "3            2.866738  3.427539          0.103745         0       0   \n",
       "4            2.866738  3.427539          0.103745         0       0   \n",
       "5            2.866738  3.427539          0.103745         0       0   \n",
       "\n",
       "             jobTraining  \n",
       "challengeID               \n",
       "1                      0  \n",
       "2                      0  \n",
       "3                      0  \n",
       "4                      0  \n",
       "5                      0  "
      ]
     },
     "execution_count": 23,
     "metadata": {},
     "output_type": "execute_result"
    }
   ],
   "source": [
    "prediction.head()"
   ]
  },
  {
   "cell_type": "markdown",
   "metadata": {},
   "source": [
    "This is the benchmark you could submit. Let's replace the benchmark for gpa with our prediction:"
   ]
  },
  {
   "cell_type": "code",
   "execution_count": 24,
   "metadata": {},
   "outputs": [],
   "source": [
    "prediction['gpa'] = gpa_predictions"
   ]
  },
  {
   "cell_type": "code",
   "execution_count": 25,
   "metadata": {},
   "outputs": [
    {
     "data": {
      "text/html": [
       "<div>\n",
       "<style scoped>\n",
       "    .dataframe tbody tr th:only-of-type {\n",
       "        vertical-align: middle;\n",
       "    }\n",
       "\n",
       "    .dataframe tbody tr th {\n",
       "        vertical-align: top;\n",
       "    }\n",
       "\n",
       "    .dataframe thead th {\n",
       "        text-align: right;\n",
       "    }\n",
       "</style>\n",
       "<table border=\"1\" class=\"dataframe\">\n",
       "  <thead>\n",
       "    <tr style=\"text-align: right;\">\n",
       "      <th></th>\n",
       "      <th>gpa</th>\n",
       "      <th>grit</th>\n",
       "      <th>materialHardship</th>\n",
       "      <th>eviction</th>\n",
       "      <th>layoff</th>\n",
       "      <th>jobTraining</th>\n",
       "    </tr>\n",
       "    <tr>\n",
       "      <th>challengeID</th>\n",
       "      <th></th>\n",
       "      <th></th>\n",
       "      <th></th>\n",
       "      <th></th>\n",
       "      <th></th>\n",
       "      <th></th>\n",
       "    </tr>\n",
       "  </thead>\n",
       "  <tbody>\n",
       "    <tr>\n",
       "      <th>1</th>\n",
       "      <td>2.628665</td>\n",
       "      <td>3.427539</td>\n",
       "      <td>0.103745</td>\n",
       "      <td>0</td>\n",
       "      <td>0</td>\n",
       "      <td>0</td>\n",
       "    </tr>\n",
       "    <tr>\n",
       "      <th>2</th>\n",
       "      <td>2.828415</td>\n",
       "      <td>3.427539</td>\n",
       "      <td>0.103745</td>\n",
       "      <td>0</td>\n",
       "      <td>0</td>\n",
       "      <td>0</td>\n",
       "    </tr>\n",
       "    <tr>\n",
       "      <th>3</th>\n",
       "      <td>2.728882</td>\n",
       "      <td>3.427539</td>\n",
       "      <td>0.103745</td>\n",
       "      <td>0</td>\n",
       "      <td>0</td>\n",
       "      <td>0</td>\n",
       "    </tr>\n",
       "    <tr>\n",
       "      <th>4</th>\n",
       "      <td>2.961724</td>\n",
       "      <td>3.427539</td>\n",
       "      <td>0.103745</td>\n",
       "      <td>0</td>\n",
       "      <td>0</td>\n",
       "      <td>0</td>\n",
       "    </tr>\n",
       "    <tr>\n",
       "      <th>5</th>\n",
       "      <td>2.709656</td>\n",
       "      <td>3.427539</td>\n",
       "      <td>0.103745</td>\n",
       "      <td>0</td>\n",
       "      <td>0</td>\n",
       "      <td>0</td>\n",
       "    </tr>\n",
       "  </tbody>\n",
       "</table>\n",
       "</div>"
      ],
      "text/plain": [
       "                  gpa      grit  materialHardship  eviction  layoff  \\\n",
       "challengeID                                                           \n",
       "1            2.628665  3.427539          0.103745         0       0   \n",
       "2            2.828415  3.427539          0.103745         0       0   \n",
       "3            2.728882  3.427539          0.103745         0       0   \n",
       "4            2.961724  3.427539          0.103745         0       0   \n",
       "5            2.709656  3.427539          0.103745         0       0   \n",
       "\n",
       "             jobTraining  \n",
       "challengeID               \n",
       "1                      0  \n",
       "2                      0  \n",
       "3                      0  \n",
       "4                      0  \n",
       "5                      0  "
      ]
     },
     "execution_count": 25,
     "metadata": {},
     "output_type": "execute_result"
    }
   ],
   "source": [
    "prediction.head()"
   ]
  },
  {
   "cell_type": "code",
   "execution_count": 26,
   "metadata": {},
   "outputs": [],
   "source": [
    "prediction.to_csv('prediction.csv',index=True)"
   ]
  },
  {
   "cell_type": "code",
   "execution_count": null,
   "metadata": {},
   "outputs": [],
   "source": []
  }
 ],
 "metadata": {
  "kernelspec": {
   "display_name": "Python 3",
   "language": "python",
   "name": "python3"
  },
  "language_info": {
   "codemirror_mode": {
    "name": "ipython",
    "version": 3
   },
   "file_extension": ".py",
   "mimetype": "text/x-python",
   "name": "python",
   "nbconvert_exporter": "python",
   "pygments_lexer": "ipython3",
   "version": "3.6.4"
  }
 },
 "nbformat": 4,
 "nbformat_minor": 2
}
