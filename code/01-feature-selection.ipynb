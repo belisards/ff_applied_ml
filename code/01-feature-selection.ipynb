{
 "cells": [
  {
   "cell_type": "code",
   "execution_count": 64,
   "metadata": {},
   "outputs": [],
   "source": [
    "import pandas as pd\n",
    "import json\n",
    "from sklearn.feature_selection import VarianceThreshold\n",
    "from sklearn.preprocessing import OrdinalEncoder\n",
    "import numpy as np\n"
   ]
  },
  {
   "cell_type": "code",
   "execution_count": 65,
   "metadata": {},
   "outputs": [
    {
     "name": "stdout",
     "output_type": "stream",
     "text": [
      "Background: 13026 variables\n",
      "Meta: 25684 variables\n",
      "Constant: 2432 variables\n"
     ]
    }
   ],
   "source": [
    "meta = pd.read_csv('../data/FFMetadata_v10.csv',low_memory=False)\n",
    "df = pd.read_csv('../data/FFChallenge_v5/background.csv',low_memory=False,index_col=0,na_values=[-9,-8,-6,-5,-4,-3,-2,-1])\n",
    "constant = pd.read_csv('../data/FFChallenge_v5/constantVariables.txt',header=None,index_col=0)\n",
    "\n",
    "print(f'Background: {df.shape[1]} variables')\n",
    "\n",
    "print(f'Meta: {meta.shape[0]} variables')\n",
    "\n",
    "print(f'Constant: {constant.shape[0]} variables')"
   ]
  },
  {
   "cell_type": "code",
   "execution_count": 66,
   "metadata": {},
   "outputs": [
    {
     "name": "stdout",
     "output_type": "stream",
     "text": [
      "<class 'pandas.core.frame.DataFrame'>\n",
      "Int64Index: 4242 entries, 1 to 4242\n",
      "Columns: 13026 entries, cf1intmon to k5f1\n",
      "dtypes: float64(12880), int64(30), object(116)\n",
      "memory usage: 421.6+ MB\n"
     ]
    }
   ],
   "source": [
    "df.info()"
   ]
  },
  {
   "cell_type": "code",
   "execution_count": 67,
   "metadata": {},
   "outputs": [
    {
     "data": {
      "text/plain": [
       "Index(['cf1intmon', 'cf1intyr', 'cf1lenhr', 'cf1lenmin', 'cf1twoc', 'cf1fint',\n",
       "       'cf1natsm', 'f1natwt', 'cf1natsmx', 'f1natwtx',\n",
       "       ...\n",
       "       'q5citywt_rep63', 'q5citywt_rep64', 'q5citywt_rep65', 'q5citywt_rep66',\n",
       "       'q5citywt_rep67', 'q5citywt_rep68', 'q5citywt_rep69', 'q5citywt_rep70',\n",
       "       'q5citywt_rep71', 'q5citywt_rep72'],\n",
       "      dtype='object', length=12840)"
      ]
     },
     "execution_count": 67,
     "metadata": {},
     "output_type": "execute_result"
    }
   ],
   "source": [
    "df.columns[df.columns.isin(meta.new_name)]"
   ]
  },
  {
   "attachments": {},
   "cell_type": "markdown",
   "metadata": {},
   "source": [
    "# Drop constantVariables.txt"
   ]
  },
  {
   "cell_type": "code",
   "execution_count": 68,
   "metadata": {},
   "outputs": [
    {
     "name": "stderr",
     "output_type": "stream",
     "text": [
      "/tmp/ipykernel_43971/1791826707.py:2: FutureWarning: The default value of numeric_only in DataFrame.std is deprecated. In a future version, it will default to False. In addition, specifying 'numeric_only=None' is deprecated. Select only valid columns or specify the value of numeric_only to silence this warning.\n",
      "  delcols = df.std()[df.std() == 0].index\n"
     ]
    },
    {
     "name": "stdout",
     "output_type": "stream",
     "text": [
      "Background without constant: 10211 variables\n"
     ]
    },
    {
     "name": "stderr",
     "output_type": "stream",
     "text": [
      "/tmp/ipykernel_43971/1791826707.py:2: FutureWarning: The default value of numeric_only in DataFrame.std is deprecated. In a future version, it will default to False. In addition, specifying 'numeric_only=None' is deprecated. Select only valid columns or specify the value of numeric_only to silence this warning.\n",
      "  delcols = df.std()[df.std() == 0].index\n"
     ]
    }
   ],
   "source": [
    "df.drop(constant.index.values,axis=1,inplace=True)\n",
    "delcols = df.std()[df.std() == 0].index\n",
    "df.drop(delcols,axis=1,inplace=True)\n",
    "\n",
    "print(f'Background without constant: {df.shape[1]} variables')"
   ]
  },
  {
   "cell_type": "code",
   "execution_count": 69,
   "metadata": {},
   "outputs": [
    {
     "data": {
      "text/plain": [
       "cf1lenhr     False\n",
       "cf1lenmin    False\n",
       "cf1fint      False\n",
       "cf1citsm     False\n",
       "f1citywt     False\n",
       "             ...  \n",
       "m5c6         False\n",
       "m5d20        False\n",
       "m5k10        False\n",
       "f5c6         False\n",
       "k5f1         False\n",
       "Length: 10211, dtype: bool"
      ]
     },
     "execution_count": 69,
     "metadata": {},
     "output_type": "execute_result"
    }
   ],
   "source": [
    "df.T.duplicated(keep='first')"
   ]
  },
  {
   "cell_type": "code",
   "execution_count": 70,
   "metadata": {},
   "outputs": [
    {
     "data": {
      "text/plain": [
       "False    10069\n",
       "True       142\n",
       "dtype: int64"
      ]
     },
     "execution_count": 70,
     "metadata": {},
     "output_type": "execute_result"
    }
   ],
   "source": [
    "df.T.duplicated(keep='first').value_counts()"
   ]
  },
  {
   "cell_type": "code",
   "execution_count": 71,
   "metadata": {},
   "outputs": [
    {
     "name": "stdout",
     "output_type": "stream",
     "text": [
      "Background without constant and duplicates: 10069 variables\n"
     ]
    }
   ],
   "source": [
    "# Drop one copy of identical variables\n",
    "\n",
    "df = df.loc[:,~df.T.duplicated(keep='first')]\n",
    "\n",
    "print(f'Background without constant and duplicates: {df.shape[1]} variables')"
   ]
  },
  {
   "attachments": {},
   "cell_type": "markdown",
   "metadata": {},
   "source": [
    "# Drop columns with excessive real missing values"
   ]
  },
  {
   "cell_type": "code",
   "execution_count": 72,
   "metadata": {},
   "outputs": [
    {
     "data": {
      "text/html": [
       "<div>\n",
       "<style scoped>\n",
       "    .dataframe tbody tr th:only-of-type {\n",
       "        vertical-align: middle;\n",
       "    }\n",
       "\n",
       "    .dataframe tbody tr th {\n",
       "        vertical-align: top;\n",
       "    }\n",
       "\n",
       "    .dataframe thead th {\n",
       "        text-align: right;\n",
       "    }\n",
       "</style>\n",
       "<table border=\"1\" class=\"dataframe\">\n",
       "  <thead>\n",
       "    <tr style=\"text-align: right;\">\n",
       "      <th></th>\n",
       "      <th>cf1lenmin</th>\n",
       "      <th>cf1fint</th>\n",
       "      <th>cf1citsm</th>\n",
       "      <th>f1citywt</th>\n",
       "      <th>f1a2</th>\n",
       "      <th>f1a3</th>\n",
       "      <th>f1a4</th>\n",
       "      <th>f1a5</th>\n",
       "      <th>f1a6</th>\n",
       "      <th>f1b1a</th>\n",
       "      <th>...</th>\n",
       "      <th>m4d9</th>\n",
       "      <th>m4e23</th>\n",
       "      <th>f4d6</th>\n",
       "      <th>f4d7</th>\n",
       "      <th>f4d9</th>\n",
       "      <th>m5c6</th>\n",
       "      <th>m5d20</th>\n",
       "      <th>m5k10</th>\n",
       "      <th>f5c6</th>\n",
       "      <th>k5f1</th>\n",
       "    </tr>\n",
       "    <tr>\n",
       "      <th>challengeID</th>\n",
       "      <th></th>\n",
       "      <th></th>\n",
       "      <th></th>\n",
       "      <th></th>\n",
       "      <th></th>\n",
       "      <th></th>\n",
       "      <th></th>\n",
       "      <th></th>\n",
       "      <th></th>\n",
       "      <th></th>\n",
       "      <th></th>\n",
       "      <th></th>\n",
       "      <th></th>\n",
       "      <th></th>\n",
       "      <th></th>\n",
       "      <th></th>\n",
       "      <th></th>\n",
       "      <th></th>\n",
       "      <th></th>\n",
       "      <th></th>\n",
       "      <th></th>\n",
       "    </tr>\n",
       "  </thead>\n",
       "  <tbody>\n",
       "    <tr>\n",
       "      <th>1</th>\n",
       "      <td>NaN</td>\n",
       "      <td>0</td>\n",
       "      <td>NaN</td>\n",
       "      <td>NaN</td>\n",
       "      <td>NaN</td>\n",
       "      <td>NaN</td>\n",
       "      <td>NaN</td>\n",
       "      <td>NaN</td>\n",
       "      <td>NaN</td>\n",
       "      <td>NaN</td>\n",
       "      <td>...</td>\n",
       "      <td>6.27</td>\n",
       "      <td>5.18</td>\n",
       "      <td>2.51</td>\n",
       "      <td>1.72</td>\n",
       "      <td>6.47</td>\n",
       "      <td>16.37</td>\n",
       "      <td>4.48</td>\n",
       "      <td>9.63</td>\n",
       "      <td>15.98</td>\n",
       "      <td>24.04</td>\n",
       "    </tr>\n",
       "    <tr>\n",
       "      <th>2</th>\n",
       "      <td>40.00</td>\n",
       "      <td>1</td>\n",
       "      <td>1.00</td>\n",
       "      <td>68.46</td>\n",
       "      <td>2.00</td>\n",
       "      <td>1.00</td>\n",
       "      <td>1.00</td>\n",
       "      <td>1.00</td>\n",
       "      <td>1.00</td>\n",
       "      <td>1.00</td>\n",
       "      <td>...</td>\n",
       "      <td>6.27</td>\n",
       "      <td>27.68</td>\n",
       "      <td>2.51</td>\n",
       "      <td>1.72</td>\n",
       "      <td>6.47</td>\n",
       "      <td>16.37</td>\n",
       "      <td>26.67</td>\n",
       "      <td>9.63</td>\n",
       "      <td>15.98</td>\n",
       "      <td>3.67</td>\n",
       "    </tr>\n",
       "    <tr>\n",
       "      <th>3</th>\n",
       "      <td>45.00</td>\n",
       "      <td>1</td>\n",
       "      <td>1.00</td>\n",
       "      <td>42.32</td>\n",
       "      <td>1.00</td>\n",
       "      <td>1.00</td>\n",
       "      <td>1.00</td>\n",
       "      <td>1.00</td>\n",
       "      <td>2.00</td>\n",
       "      <td>3.00</td>\n",
       "      <td>...</td>\n",
       "      <td>6.27</td>\n",
       "      <td>5.18</td>\n",
       "      <td>20.87</td>\n",
       "      <td>24.12</td>\n",
       "      <td>6.47</td>\n",
       "      <td>16.37</td>\n",
       "      <td>4.48</td>\n",
       "      <td>9.63</td>\n",
       "      <td>15.98</td>\n",
       "      <td>24.04</td>\n",
       "    </tr>\n",
       "    <tr>\n",
       "      <th>4</th>\n",
       "      <td>45.00</td>\n",
       "      <td>1</td>\n",
       "      <td>1.00</td>\n",
       "      <td>25.63</td>\n",
       "      <td>1.00</td>\n",
       "      <td>1.00</td>\n",
       "      <td>1.00</td>\n",
       "      <td>1.00</td>\n",
       "      <td>2.00</td>\n",
       "      <td>3.00</td>\n",
       "      <td>...</td>\n",
       "      <td>6.27</td>\n",
       "      <td>5.18</td>\n",
       "      <td>22.02</td>\n",
       "      <td>22.93</td>\n",
       "      <td>6.47</td>\n",
       "      <td>-5.17</td>\n",
       "      <td>4.48</td>\n",
       "      <td>9.63</td>\n",
       "      <td>-6.30</td>\n",
       "      <td>4.14</td>\n",
       "    </tr>\n",
       "    <tr>\n",
       "      <th>5</th>\n",
       "      <td>50.00</td>\n",
       "      <td>1</td>\n",
       "      <td>1.00</td>\n",
       "      <td>41.95</td>\n",
       "      <td>2.00</td>\n",
       "      <td>1.00</td>\n",
       "      <td>1.00</td>\n",
       "      <td>1.00</td>\n",
       "      <td>2.00</td>\n",
       "      <td>4.00</td>\n",
       "      <td>...</td>\n",
       "      <td>6.27</td>\n",
       "      <td>5.18</td>\n",
       "      <td>22.92</td>\n",
       "      <td>22.99</td>\n",
       "      <td>6.47</td>\n",
       "      <td>-6.03</td>\n",
       "      <td>4.48</td>\n",
       "      <td>9.63</td>\n",
       "      <td>-6.21</td>\n",
       "      <td>3.67</td>\n",
       "    </tr>\n",
       "    <tr>\n",
       "      <th>...</th>\n",
       "      <td>...</td>\n",
       "      <td>...</td>\n",
       "      <td>...</td>\n",
       "      <td>...</td>\n",
       "      <td>...</td>\n",
       "      <td>...</td>\n",
       "      <td>...</td>\n",
       "      <td>...</td>\n",
       "      <td>...</td>\n",
       "      <td>...</td>\n",
       "      <td>...</td>\n",
       "      <td>...</td>\n",
       "      <td>...</td>\n",
       "      <td>...</td>\n",
       "      <td>...</td>\n",
       "      <td>...</td>\n",
       "      <td>...</td>\n",
       "      <td>...</td>\n",
       "      <td>...</td>\n",
       "      <td>...</td>\n",
       "      <td>...</td>\n",
       "    </tr>\n",
       "    <tr>\n",
       "      <th>4238</th>\n",
       "      <td>NaN</td>\n",
       "      <td>0</td>\n",
       "      <td>NaN</td>\n",
       "      <td>NaN</td>\n",
       "      <td>NaN</td>\n",
       "      <td>NaN</td>\n",
       "      <td>NaN</td>\n",
       "      <td>NaN</td>\n",
       "      <td>NaN</td>\n",
       "      <td>NaN</td>\n",
       "      <td>...</td>\n",
       "      <td>27.94</td>\n",
       "      <td>5.18</td>\n",
       "      <td>2.51</td>\n",
       "      <td>1.72</td>\n",
       "      <td>6.47</td>\n",
       "      <td>16.37</td>\n",
       "      <td>4.48</td>\n",
       "      <td>9.63</td>\n",
       "      <td>15.98</td>\n",
       "      <td>24.04</td>\n",
       "    </tr>\n",
       "    <tr>\n",
       "      <th>4239</th>\n",
       "      <td>40.00</td>\n",
       "      <td>1</td>\n",
       "      <td>1.00</td>\n",
       "      <td>64.20</td>\n",
       "      <td>2.00</td>\n",
       "      <td>1.00</td>\n",
       "      <td>1.00</td>\n",
       "      <td>1.00</td>\n",
       "      <td>2.00</td>\n",
       "      <td>0.00</td>\n",
       "      <td>...</td>\n",
       "      <td>28.70</td>\n",
       "      <td>5.18</td>\n",
       "      <td>2.51</td>\n",
       "      <td>1.72</td>\n",
       "      <td>6.47</td>\n",
       "      <td>16.37</td>\n",
       "      <td>4.48</td>\n",
       "      <td>9.63</td>\n",
       "      <td>15.98</td>\n",
       "      <td>3.42</td>\n",
       "    </tr>\n",
       "    <tr>\n",
       "      <th>4240</th>\n",
       "      <td>NaN</td>\n",
       "      <td>0</td>\n",
       "      <td>NaN</td>\n",
       "      <td>NaN</td>\n",
       "      <td>NaN</td>\n",
       "      <td>NaN</td>\n",
       "      <td>NaN</td>\n",
       "      <td>NaN</td>\n",
       "      <td>NaN</td>\n",
       "      <td>NaN</td>\n",
       "      <td>...</td>\n",
       "      <td>6.27</td>\n",
       "      <td>26.99</td>\n",
       "      <td>2.51</td>\n",
       "      <td>1.72</td>\n",
       "      <td>6.47</td>\n",
       "      <td>16.37</td>\n",
       "      <td>4.48</td>\n",
       "      <td>9.63</td>\n",
       "      <td>15.98</td>\n",
       "      <td>24.04</td>\n",
       "    </tr>\n",
       "    <tr>\n",
       "      <th>4241</th>\n",
       "      <td>0.00</td>\n",
       "      <td>1</td>\n",
       "      <td>1.00</td>\n",
       "      <td>27.46</td>\n",
       "      <td>2.00</td>\n",
       "      <td>1.00</td>\n",
       "      <td>2.00</td>\n",
       "      <td>1.00</td>\n",
       "      <td>1.00</td>\n",
       "      <td>0.00</td>\n",
       "      <td>...</td>\n",
       "      <td>6.27</td>\n",
       "      <td>27.19</td>\n",
       "      <td>2.51</td>\n",
       "      <td>1.72</td>\n",
       "      <td>28.51</td>\n",
       "      <td>16.37</td>\n",
       "      <td>4.48</td>\n",
       "      <td>9.63</td>\n",
       "      <td>-6.01</td>\n",
       "      <td>3.66</td>\n",
       "    </tr>\n",
       "    <tr>\n",
       "      <th>4242</th>\n",
       "      <td>NaN</td>\n",
       "      <td>0</td>\n",
       "      <td>NaN</td>\n",
       "      <td>NaN</td>\n",
       "      <td>NaN</td>\n",
       "      <td>NaN</td>\n",
       "      <td>NaN</td>\n",
       "      <td>NaN</td>\n",
       "      <td>NaN</td>\n",
       "      <td>NaN</td>\n",
       "      <td>...</td>\n",
       "      <td>6.27</td>\n",
       "      <td>5.18</td>\n",
       "      <td>23.56</td>\n",
       "      <td>23.94</td>\n",
       "      <td>6.47</td>\n",
       "      <td>-5.42</td>\n",
       "      <td>4.48</td>\n",
       "      <td>9.63</td>\n",
       "      <td>-5.81</td>\n",
       "      <td>3.42</td>\n",
       "    </tr>\n",
       "  </tbody>\n",
       "</table>\n",
       "<p>4242 rows × 1593 columns</p>\n",
       "</div>"
      ],
      "text/plain": [
       "             cf1lenmin  cf1fint  cf1citsm  f1citywt  f1a2  f1a3  f1a4  f1a5  \\\n",
       "challengeID                                                                   \n",
       "1                  NaN        0       NaN       NaN   NaN   NaN   NaN   NaN   \n",
       "2                40.00        1      1.00     68.46  2.00  1.00  1.00  1.00   \n",
       "3                45.00        1      1.00     42.32  1.00  1.00  1.00  1.00   \n",
       "4                45.00        1      1.00     25.63  1.00  1.00  1.00  1.00   \n",
       "5                50.00        1      1.00     41.95  2.00  1.00  1.00  1.00   \n",
       "...                ...      ...       ...       ...   ...   ...   ...   ...   \n",
       "4238               NaN        0       NaN       NaN   NaN   NaN   NaN   NaN   \n",
       "4239             40.00        1      1.00     64.20  2.00  1.00  1.00  1.00   \n",
       "4240               NaN        0       NaN       NaN   NaN   NaN   NaN   NaN   \n",
       "4241              0.00        1      1.00     27.46  2.00  1.00  2.00  1.00   \n",
       "4242               NaN        0       NaN       NaN   NaN   NaN   NaN   NaN   \n",
       "\n",
       "             f1a6  f1b1a  ...  m4d9  m4e23  f4d6  f4d7  f4d9  m5c6  m5d20  \\\n",
       "challengeID               ...                                               \n",
       "1             NaN    NaN  ...  6.27   5.18  2.51  1.72  6.47 16.37   4.48   \n",
       "2            1.00   1.00  ...  6.27  27.68  2.51  1.72  6.47 16.37  26.67   \n",
       "3            2.00   3.00  ...  6.27   5.18 20.87 24.12  6.47 16.37   4.48   \n",
       "4            2.00   3.00  ...  6.27   5.18 22.02 22.93  6.47 -5.17   4.48   \n",
       "5            2.00   4.00  ...  6.27   5.18 22.92 22.99  6.47 -6.03   4.48   \n",
       "...           ...    ...  ...   ...    ...   ...   ...   ...   ...    ...   \n",
       "4238          NaN    NaN  ... 27.94   5.18  2.51  1.72  6.47 16.37   4.48   \n",
       "4239         2.00   0.00  ... 28.70   5.18  2.51  1.72  6.47 16.37   4.48   \n",
       "4240          NaN    NaN  ...  6.27  26.99  2.51  1.72  6.47 16.37   4.48   \n",
       "4241         1.00   0.00  ...  6.27  27.19  2.51  1.72 28.51 16.37   4.48   \n",
       "4242          NaN    NaN  ...  6.27   5.18 23.56 23.94  6.47 -5.42   4.48   \n",
       "\n",
       "             m5k10  f5c6  k5f1  \n",
       "challengeID                     \n",
       "1             9.63 15.98 24.04  \n",
       "2             9.63 15.98  3.67  \n",
       "3             9.63 15.98 24.04  \n",
       "4             9.63 -6.30  4.14  \n",
       "5             9.63 -6.21  3.67  \n",
       "...            ...   ...   ...  \n",
       "4238          9.63 15.98 24.04  \n",
       "4239          9.63 15.98  3.42  \n",
       "4240          9.63 15.98 24.04  \n",
       "4241          9.63 -6.01  3.66  \n",
       "4242          9.63 -5.81  3.42  \n",
       "\n",
       "[4242 rows x 1593 columns]"
      ]
     },
     "execution_count": 72,
     "metadata": {},
     "output_type": "execute_result"
    }
   ],
   "source": [
    "def dropvars(df,nan_threshold=0.7):\n",
    "    # thresh = Require that many non-NA values \n",
    "    return df.dropna(thresh=len(df)*nan_threshold, axis=1)\n",
    "\n",
    "df = dropvars(df)\n",
    "\n",
    "df"
   ]
  },
  {
   "cell_type": "code",
   "execution_count": 73,
   "metadata": {},
   "outputs": [
    {
     "name": "stdout",
     "output_type": "stream",
     "text": [
      "Background without excessive missing values: 1593 variables\n"
     ]
    }
   ],
   "source": [
    "print(f'Background without excessive missing values: {df.shape[1]} variables')"
   ]
  },
  {
   "attachments": {},
   "cell_type": "markdown",
   "metadata": {},
   "source": [
    "# Remove colinear variables"
   ]
  },
  {
   "cell_type": "code",
   "execution_count": 74,
   "metadata": {},
   "outputs": [
    {
     "name": "stderr",
     "output_type": "stream",
     "text": [
      "/tmp/ipykernel_43971/2137515092.py:2: FutureWarning: The default value of numeric_only in DataFrame.corr is deprecated. In a future version, it will default to False. Select only valid columns or specify the value of numeric_only to silence this warning.\n",
      "  corr_matrix = df.corr().abs()\n",
      "/tmp/ipykernel_43971/2137515092.py:3: DeprecationWarning: `np.bool` is a deprecated alias for the builtin `bool`. To silence this warning, use `bool` by itself. Doing this will not modify any behavior and is safe. If you specifically wanted the numpy scalar type, use `np.bool_` here.\n",
      "Deprecated in NumPy 1.20; for more details and guidance: https://numpy.org/devdocs/release/1.20.0-notes.html#deprecations\n",
      "  upper = corr_matrix.where(np.triu(np.ones(corr_matrix.shape), k=1).astype(np.bool))\n"
     ]
    }
   ],
   "source": [
    "def remove_colinear(df,threshold):\n",
    "    corr_matrix = df.corr().abs()\n",
    "    upper = corr_matrix.where(np.triu(np.ones(corr_matrix.shape), k=1).astype(np.bool))\n",
    "    to_drop = [column for column in upper.columns if any(upper[column] > threshold)]\n",
    "    return df.drop(to_drop,axis=1)\n",
    "\n",
    "df = remove_colinear(df,0.95)\n"
   ]
  },
  {
   "attachments": {},
   "cell_type": "markdown",
   "metadata": {},
   "source": [
    "# Select survey and constructed variables"
   ]
  },
  {
   "cell_type": "code",
   "execution_count": null,
   "metadata": {},
   "outputs": [],
   "source": [
    "# dtypes[dtypes.new_name == 'cf4fint']\n",
    "# string = '1960-01-02'\n",
    "# mask = df.isin(['1960-01-01']).any()\n",
    "# df.columns[mask]"
   ]
  },
  {
   "cell_type": "code",
   "execution_count": 75,
   "metadata": {},
   "outputs": [
    {
     "name": "stdout",
     "output_type": "stream",
     "text": [
      "Removed cf4fint from cols\n",
      "Removed m5f23a from cols\n",
      "Removed m5f23e from cols\n",
      "Removed m5f23k from cols\n",
      "Removed m5f23c from cols\n",
      "Background without malformed variables: 1204 variables\n"
     ]
    },
    {
     "name": "stderr",
     "output_type": "stream",
     "text": [
      "/tmp/ipykernel_43971/596351072.py:27: UserWarning: Boolean Series key will be reindexed to match DataFrame index.\n",
      "  meta = meta[meta.new_name.isin(cols)][meta.source.isin(['questionnaire','constructed'])]\n"
     ]
    }
   ],
   "source": [
    "cols = [col for col in df.columns if col in meta.new_name.values]\n",
    "\n",
    "malformed = {\n",
    "    'r3b26_a': 'Has text instead of numerical encodings',\n",
    "    'cf4fint': 'cf4fint encoded as binary but has 1960-01-01',\n",
    "    'm5f23a': 'Used in target variable',\n",
    "    'n5g1e': 'Used in target variable',\n",
    "    'n5g1j': 'Used in target variable',\n",
    "    'm5f23e': 'Used in target variable',\n",
    "    'm5f23k': 'Used in target variable',\n",
    "    'm5f23c': 'Used in target variable',\n",
    "    'f5f23c': 'Used in target variable',\n",
    "}\n",
    "\n",
    "for key in malformed.keys():\n",
    "    if key in cols:\n",
    "        cols.remove(key)\n",
    "        print(f'Removed {key} from cols')\n",
    "\n",
    "# get only questionnaire and constructed variables\n",
    "\n",
    "meta = meta[meta.new_name.isin(cols)][meta.source.isin(['questionnaire','constructed'])]\n",
    "\n",
    "cols = meta[meta.topics != 'Paradata and weights'].new_name\n",
    "\n",
    "df = df[cols]\n",
    "\n",
    "print(f'Background without malformed variables: {df.shape[1]} variables')"
   ]
  },
  {
   "attachments": {},
   "cell_type": "markdown",
   "metadata": {},
   "source": [
    "# Drop cols with low-variance"
   ]
  },
  {
   "cell_type": "code",
   "execution_count": 76,
   "metadata": {},
   "outputs": [
    {
     "data": {
      "text/plain": [
       "count         1204.00\n",
       "mean       6119034.68\n",
       "std       76510058.40\n",
       "min              0.00\n",
       "25%              0.11\n",
       "50%              0.25\n",
       "75%              1.04\n",
       "max     1228819128.68\n",
       "dtype: float64"
      ]
     },
     "execution_count": 76,
     "metadata": {},
     "output_type": "execute_result"
    }
   ],
   "source": [
    "pd.options.display.float_format = '{:.2f}'.format\n",
    "\n",
    "df.var().describe()"
   ]
  },
  {
   "cell_type": "code",
   "execution_count": 77,
   "metadata": {},
   "outputs": [
    {
     "data": {
      "text/plain": [
       "<Axes: >"
      ]
     },
     "execution_count": 77,
     "metadata": {},
     "output_type": "execute_result"
    },
    {
     "data": {
      "image/png": "[encoded data removed]",
      "text/plain": [
       "<Figure size 640x480 with 1 Axes>"
      ]
     },
     "metadata": {},
     "output_type": "display_data"
    }
   ],
   "source": [
    "df.var().hist(bins=10,log=True)"
   ]
  },
  {
   "cell_type": "code",
   "execution_count": 78,
   "metadata": {},
   "outputs": [
    {
     "name": "stdout",
     "output_type": "stream",
     "text": [
      "Background without low variance: 1185 variables\n"
     ]
    }
   ],
   "source": [
    "sel = VarianceThreshold(threshold=0.01)\n",
    "\n",
    "ordinal_encoder = OrdinalEncoder()\n",
    "ordinaldf = ordinal_encoder.fit_transform(df)\n",
    "sel.fit(ordinaldf)\n",
    "\n",
    "df = df[df.columns[sel.get_support(indices=True)]]\n",
    "print(f'Background without low variance: {df.shape[1]} variables')"
   ]
  },
  {
   "cell_type": "code",
   "execution_count": 79,
   "metadata": {},
   "outputs": [
    {
     "data": {
      "text/plain": [
       "count         1185.00\n",
       "mean       6217145.77\n",
       "std       77117546.93\n",
       "min              0.01\n",
       "25%              0.12\n",
       "50%              0.25\n",
       "75%              1.05\n",
       "max     1228819128.68\n",
       "dtype: float64"
      ]
     },
     "execution_count": 79,
     "metadata": {},
     "output_type": "execute_result"
    }
   ],
   "source": [
    "pd.options.display.float_format = '{:.2f}'.format\n",
    "\n",
    "df.var().describe()"
   ]
  },
  {
   "attachments": {},
   "cell_type": "markdown",
   "metadata": {},
   "source": [
    "# Remove by type of variable"
   ]
  },
  {
   "cell_type": "code",
   "execution_count": 80,
   "metadata": {},
   "outputs": [
    {
     "data": {
      "text/plain": [
       "questionnaire    1082\n",
       "constructed       162\n",
       "Name: source, dtype: int64"
      ]
     },
     "execution_count": 80,
     "metadata": {},
     "output_type": "execute_result"
    }
   ],
   "source": [
    "meta.source.value_counts()"
   ]
  },
  {
   "cell_type": "code",
   "execution_count": 81,
   "metadata": {},
   "outputs": [
    {
     "data": {
      "text/plain": [
       "questionnaire    1077\n",
       "constructed       127\n",
       "Name: source, dtype: int64"
      ]
     },
     "execution_count": 81,
     "metadata": {},
     "output_type": "execute_result"
    }
   ],
   "source": [
    "meta[meta.new_name.isin(cols)].source.value_counts()"
   ]
  },
  {
   "attachments": {},
   "cell_type": "markdown",
   "metadata": {},
   "source": [
    "## Check datatypes and topics"
   ]
  },
  {
   "cell_type": "code",
   "execution_count": 82,
   "metadata": {},
   "outputs": [
    {
     "data": {
      "text/plain": [
       "Binary                   570\n",
       "Ordered Categorical      414\n",
       "Unordered Categorical    114\n",
       "Continuous               106\n",
       "Name: type, dtype: int64"
      ]
     },
     "execution_count": 82,
     "metadata": {},
     "output_type": "execute_result"
    }
   ],
   "source": [
    "meta[meta.new_name.isin(cols)].type.value_counts()"
   ]
  },
  {
   "cell_type": "code",
   "execution_count": 83,
   "metadata": {},
   "outputs": [
    {
     "data": {
      "text/plain": [
       "Health and health behavior                 159\n",
       "Finances                                   119\n",
       "Housing and neighborhood                   103\n",
       "Attitudes and expectations                  87\n",
       "Parenting                                   85\n",
       "Romantic relationships                      78\n",
       "Family and social ties                      75\n",
       "Education and school                        66\n",
       "Employment                                  63\n",
       "Cognitive and behavioral development        63\n",
       "Finances ; Housing and neighborhood         23\n",
       "Legal system                                21\n",
       "Housing and neighborhood ; Demographics     21\n",
       "Parenting ; Romantic relationships          20\n",
       "Health and health behavior ; Parenting      13\n",
       "Name: topics, dtype: int64"
      ]
     },
     "execution_count": 83,
     "metadata": {},
     "output_type": "execute_result"
    }
   ],
   "source": [
    "meta[meta.new_name.isin(cols)].topics.value_counts().head(15)"
   ]
  },
  {
   "attachments": {},
   "cell_type": "markdown",
   "metadata": {},
   "source": [
    "# Export metadata"
   ]
  },
  {
   "cell_type": "code",
   "execution_count": 84,
   "metadata": {},
   "outputs": [
    {
     "data": {
      "text/html": [
       "<div>\n",
       "<style scoped>\n",
       "    .dataframe tbody tr th:only-of-type {\n",
       "        vertical-align: middle;\n",
       "    }\n",
       "\n",
       "    .dataframe tbody tr th {\n",
       "        vertical-align: top;\n",
       "    }\n",
       "\n",
       "    .dataframe thead th {\n",
       "        text-align: right;\n",
       "    }\n",
       "</style>\n",
       "<table border=\"1\" class=\"dataframe\">\n",
       "  <thead>\n",
       "    <tr style=\"text-align: right;\">\n",
       "      <th></th>\n",
       "      <th>new_name</th>\n",
       "      <th>varlab</th>\n",
       "      <th>type</th>\n",
       "      <th>one_topic</th>\n",
       "    </tr>\n",
       "  </thead>\n",
       "  <tbody>\n",
       "    <tr>\n",
       "      <th>13</th>\n",
       "      <td>f1a2</td>\n",
       "      <td>Were you present at the birth?</td>\n",
       "      <td>Binary</td>\n",
       "      <td>parenting</td>\n",
       "    </tr>\n",
       "    <tr>\n",
       "      <th>14</th>\n",
       "      <td>f1a3</td>\n",
       "      <td>Have you held baby(ies)?</td>\n",
       "      <td>Binary</td>\n",
       "      <td>parenting</td>\n",
       "    </tr>\n",
       "    <tr>\n",
       "      <th>15</th>\n",
       "      <td>f1a4</td>\n",
       "      <td>Will the baby(ies) have your last name?</td>\n",
       "      <td>Binary</td>\n",
       "      <td>parenting</td>\n",
       "    </tr>\n",
       "    <tr>\n",
       "      <th>17</th>\n",
       "      <td>f1a5</td>\n",
       "      <td>Will your name be on the birth certificate?</td>\n",
       "      <td>Binary</td>\n",
       "      <td>parenting</td>\n",
       "    </tr>\n",
       "    <tr>\n",
       "      <th>19</th>\n",
       "      <td>f1a6</td>\n",
       "      <td>Do you have other biological children?</td>\n",
       "      <td>Binary</td>\n",
       "      <td>health_and_health_behavior</td>\n",
       "    </tr>\n",
       "    <tr>\n",
       "      <th>...</th>\n",
       "      <td>...</td>\n",
       "      <td>...</td>\n",
       "      <td>...</td>\n",
       "      <td>...</td>\n",
       "    </tr>\n",
       "    <tr>\n",
       "      <th>12779</th>\n",
       "      <td>cm5edu</td>\n",
       "      <td>Constructed - Mother's education: year 9</td>\n",
       "      <td>Ordered Categorical</td>\n",
       "      <td>education_and_school</td>\n",
       "    </tr>\n",
       "    <tr>\n",
       "      <th>12781</th>\n",
       "      <td>cm5hhinc</td>\n",
       "      <td>Constructed - Mother's Household income (with ...</td>\n",
       "      <td>Continuous</td>\n",
       "      <td>finances</td>\n",
       "    </tr>\n",
       "    <tr>\n",
       "      <th>12783</th>\n",
       "      <td>cm5hhimp</td>\n",
       "      <td>Flag var for household income imputation - mot...</td>\n",
       "      <td>Unordered Categorical</td>\n",
       "      <td>finances</td>\n",
       "    </tr>\n",
       "    <tr>\n",
       "      <th>12787</th>\n",
       "      <td>cm5povco</td>\n",
       "      <td>Constructed - Mother's household income/povert...</td>\n",
       "      <td>Continuous</td>\n",
       "      <td>finances</td>\n",
       "    </tr>\n",
       "    <tr>\n",
       "      <th>12790</th>\n",
       "      <td>cm5povca</td>\n",
       "      <td>Constructed - Mother's poverty category at 9-year</td>\n",
       "      <td>Ordered Categorical</td>\n",
       "      <td>finances</td>\n",
       "    </tr>\n",
       "  </tbody>\n",
       "</table>\n",
       "<p>1204 rows × 4 columns</p>\n",
       "</div>"
      ],
      "text/plain": [
       "       new_name                                             varlab  \\\n",
       "13         f1a2                     Were you present at the birth?   \n",
       "14         f1a3                           Have you held baby(ies)?   \n",
       "15         f1a4            Will the baby(ies) have your last name?   \n",
       "17         f1a5        Will your name be on the birth certificate?   \n",
       "19         f1a6             Do you have other biological children?   \n",
       "...         ...                                                ...   \n",
       "12779    cm5edu           Constructed - Mother's education: year 9   \n",
       "12781  cm5hhinc  Constructed - Mother's Household income (with ...   \n",
       "12783  cm5hhimp  Flag var for household income imputation - mot...   \n",
       "12787  cm5povco  Constructed - Mother's household income/povert...   \n",
       "12790  cm5povca  Constructed - Mother's poverty category at 9-year   \n",
       "\n",
       "                        type                   one_topic  \n",
       "13                    Binary                   parenting  \n",
       "14                    Binary                   parenting  \n",
       "15                    Binary                   parenting  \n",
       "17                    Binary                   parenting  \n",
       "19                    Binary  health_and_health_behavior  \n",
       "...                      ...                         ...  \n",
       "12779    Ordered Categorical        education_and_school  \n",
       "12781             Continuous                    finances  \n",
       "12783  Unordered Categorical                    finances  \n",
       "12787             Continuous                    finances  \n",
       "12790    Ordered Categorical                    finances  \n",
       "\n",
       "[1204 rows x 4 columns]"
      ]
     },
     "execution_count": 84,
     "metadata": {},
     "output_type": "execute_result"
    }
   ],
   "source": [
    "myvars = meta[meta.new_name.isin(cols)].copy()\n",
    "\n",
    "myvars['one_topic'] = myvars['topics'].str.split(';').str[0]\n",
    "\n",
    "# trim one topic\n",
    "myvars['one_topic'] = myvars['one_topic'].str.strip()\n",
    "\n",
    "# remove space and upper case\n",
    "myvars['one_topic'] = myvars['one_topic'].str.replace(' ','_').str.lower()\n",
    "\n",
    "dtypes = myvars[['new_name','varlab','type','one_topic']].copy()\n",
    "\n",
    "dtypes"
   ]
  },
  {
   "cell_type": "code",
   "execution_count": 85,
   "metadata": {},
   "outputs": [],
   "source": [
    "ordcat_list = dtypes[dtypes.type == 'Ordered Categorical']\n",
    "\n",
    "dictdtype = {\n",
    "    'Binary': 'float64', \n",
    "    # 'Ordered Categorical': CategoricalDtype(categories=ordcat_list, ordered=True),\n",
    "    'Ordered Categorical': 'float64',\n",
    "    'Continuous': 'float64',\n",
    "    'Unordered Categorical': 'category',\n",
    "}\n",
    "\n",
    "dtypes['dtype'] = dtypes.type.map(dictdtype)"
   ]
  },
  {
   "attachments": {},
   "cell_type": "markdown",
   "metadata": {},
   "source": [
    "# Remove strings and export metadata.json"
   ]
  },
  {
   "cell_type": "code",
   "execution_count": 86,
   "metadata": {},
   "outputs": [],
   "source": [
    "dtypes = dtypes[~dtypes.dtype.isna()] # remove strings\n",
    "\n",
    "dtypes_dict = dict(zip(dtypes.new_name,dtypes.dtype))\n",
    "dtypes_dict = {'challengeID': 'Int64', **dtypes_dict}\n",
    "\n",
    "# dtypes_dict = {k: str(v) if isinstance(v, CategoricalDtype) else v for k, v in dtypes_dict.items()}\n",
    "\n",
    "with open('../metadata/metadata.json', 'w') as fp:\n",
    "    json.dump(dtypes_dict, fp)"
   ]
  },
  {
   "cell_type": "code",
   "execution_count": 87,
   "metadata": {},
   "outputs": [
    {
     "data": {
      "text/html": [
       "<div>\n",
       "<style scoped>\n",
       "    .dataframe tbody tr th:only-of-type {\n",
       "        vertical-align: middle;\n",
       "    }\n",
       "\n",
       "    .dataframe tbody tr th {\n",
       "        vertical-align: top;\n",
       "    }\n",
       "\n",
       "    .dataframe thead th {\n",
       "        text-align: right;\n",
       "    }\n",
       "</style>\n",
       "<table border=\"1\" class=\"dataframe\">\n",
       "  <thead>\n",
       "    <tr style=\"text-align: right;\">\n",
       "      <th></th>\n",
       "      <th>f1a2</th>\n",
       "      <th>f1a3</th>\n",
       "      <th>f1a4</th>\n",
       "      <th>f1a5</th>\n",
       "      <th>f1a6</th>\n",
       "      <th>f1b1a</th>\n",
       "      <th>f1b2</th>\n",
       "      <th>f1b26</th>\n",
       "      <th>f1b27</th>\n",
       "      <th>f1b28</th>\n",
       "      <th>...</th>\n",
       "      <th>cm5b_age</th>\n",
       "      <th>cm5md_case_con</th>\n",
       "      <th>cm5md_case_lib</th>\n",
       "      <th>cm5finjail</th>\n",
       "      <th>cm5fevjail</th>\n",
       "      <th>cm5edu</th>\n",
       "      <th>cm5hhinc</th>\n",
       "      <th>cm5hhimp</th>\n",
       "      <th>cm5povco</th>\n",
       "      <th>cm5povca</th>\n",
       "    </tr>\n",
       "    <tr>\n",
       "      <th>challengeID</th>\n",
       "      <th></th>\n",
       "      <th></th>\n",
       "      <th></th>\n",
       "      <th></th>\n",
       "      <th></th>\n",
       "      <th></th>\n",
       "      <th></th>\n",
       "      <th></th>\n",
       "      <th></th>\n",
       "      <th></th>\n",
       "      <th></th>\n",
       "      <th></th>\n",
       "      <th></th>\n",
       "      <th></th>\n",
       "      <th></th>\n",
       "      <th></th>\n",
       "      <th></th>\n",
       "      <th></th>\n",
       "      <th></th>\n",
       "      <th></th>\n",
       "      <th></th>\n",
       "    </tr>\n",
       "  </thead>\n",
       "  <tbody>\n",
       "    <tr>\n",
       "      <th>1</th>\n",
       "      <td>-9.00</td>\n",
       "      <td>-9.00</td>\n",
       "      <td>-9.00</td>\n",
       "      <td>-9.00</td>\n",
       "      <td>-9.00</td>\n",
       "      <td>-9.00</td>\n",
       "      <td>-9.00</td>\n",
       "      <td>-9.00</td>\n",
       "      <td>-9.00</td>\n",
       "      <td>-9.00</td>\n",
       "      <td>...</td>\n",
       "      <td>-9.00</td>\n",
       "      <td>-9.00</td>\n",
       "      <td>-9.00</td>\n",
       "      <td>-9.00</td>\n",
       "      <td>-9.00</td>\n",
       "      <td>-9.00</td>\n",
       "      <td>-9.00</td>\n",
       "      <td>-9</td>\n",
       "      <td>-9.00</td>\n",
       "      <td>-9.00</td>\n",
       "    </tr>\n",
       "    <tr>\n",
       "      <th>2</th>\n",
       "      <td>2.00</td>\n",
       "      <td>1.00</td>\n",
       "      <td>1.00</td>\n",
       "      <td>1.00</td>\n",
       "      <td>1.00</td>\n",
       "      <td>1.00</td>\n",
       "      <td>2.00</td>\n",
       "      <td>1.00</td>\n",
       "      <td>2.00</td>\n",
       "      <td>2.00</td>\n",
       "      <td>...</td>\n",
       "      <td>117.00</td>\n",
       "      <td>0.00</td>\n",
       "      <td>0.00</td>\n",
       "      <td>0.00</td>\n",
       "      <td>0.00</td>\n",
       "      <td>1.00</td>\n",
       "      <td>4337.16</td>\n",
       "      <td>4</td>\n",
       "      <td>0.84</td>\n",
       "      <td>1.00</td>\n",
       "    </tr>\n",
       "    <tr>\n",
       "      <th>3</th>\n",
       "      <td>1.00</td>\n",
       "      <td>1.00</td>\n",
       "      <td>1.00</td>\n",
       "      <td>1.00</td>\n",
       "      <td>2.00</td>\n",
       "      <td>3.00</td>\n",
       "      <td>1.00</td>\n",
       "      <td>1.00</td>\n",
       "      <td>2.00</td>\n",
       "      <td>2.00</td>\n",
       "      <td>...</td>\n",
       "      <td>-9.00</td>\n",
       "      <td>-9.00</td>\n",
       "      <td>-9.00</td>\n",
       "      <td>-9.00</td>\n",
       "      <td>-9.00</td>\n",
       "      <td>-9.00</td>\n",
       "      <td>-9.00</td>\n",
       "      <td>-9</td>\n",
       "      <td>-9.00</td>\n",
       "      <td>-9.00</td>\n",
       "    </tr>\n",
       "    <tr>\n",
       "      <th>4</th>\n",
       "      <td>1.00</td>\n",
       "      <td>1.00</td>\n",
       "      <td>1.00</td>\n",
       "      <td>1.00</td>\n",
       "      <td>2.00</td>\n",
       "      <td>3.00</td>\n",
       "      <td>2.00</td>\n",
       "      <td>1.00</td>\n",
       "      <td>2.00</td>\n",
       "      <td>2.00</td>\n",
       "      <td>...</td>\n",
       "      <td>108.00</td>\n",
       "      <td>0.00</td>\n",
       "      <td>0.00</td>\n",
       "      <td>0.00</td>\n",
       "      <td>0.00</td>\n",
       "      <td>4.00</td>\n",
       "      <td>62960.56</td>\n",
       "      <td>1</td>\n",
       "      <td>2.76</td>\n",
       "      <td>4.00</td>\n",
       "    </tr>\n",
       "    <tr>\n",
       "      <th>5</th>\n",
       "      <td>2.00</td>\n",
       "      <td>1.00</td>\n",
       "      <td>1.00</td>\n",
       "      <td>1.00</td>\n",
       "      <td>2.00</td>\n",
       "      <td>4.00</td>\n",
       "      <td>2.00</td>\n",
       "      <td>1.00</td>\n",
       "      <td>2.00</td>\n",
       "      <td>2.00</td>\n",
       "      <td>...</td>\n",
       "      <td>113.00</td>\n",
       "      <td>0.00</td>\n",
       "      <td>0.00</td>\n",
       "      <td>0.00</td>\n",
       "      <td>0.00</td>\n",
       "      <td>2.00</td>\n",
       "      <td>11631.77</td>\n",
       "      <td>1</td>\n",
       "      <td>0.74</td>\n",
       "      <td>1.00</td>\n",
       "    </tr>\n",
       "    <tr>\n",
       "      <th>...</th>\n",
       "      <td>...</td>\n",
       "      <td>...</td>\n",
       "      <td>...</td>\n",
       "      <td>...</td>\n",
       "      <td>...</td>\n",
       "      <td>...</td>\n",
       "      <td>...</td>\n",
       "      <td>...</td>\n",
       "      <td>...</td>\n",
       "      <td>...</td>\n",
       "      <td>...</td>\n",
       "      <td>...</td>\n",
       "      <td>...</td>\n",
       "      <td>...</td>\n",
       "      <td>...</td>\n",
       "      <td>...</td>\n",
       "      <td>...</td>\n",
       "      <td>...</td>\n",
       "      <td>...</td>\n",
       "      <td>...</td>\n",
       "      <td>...</td>\n",
       "    </tr>\n",
       "    <tr>\n",
       "      <th>4238</th>\n",
       "      <td>-9.00</td>\n",
       "      <td>-9.00</td>\n",
       "      <td>-9.00</td>\n",
       "      <td>-9.00</td>\n",
       "      <td>-9.00</td>\n",
       "      <td>-9.00</td>\n",
       "      <td>-9.00</td>\n",
       "      <td>-9.00</td>\n",
       "      <td>-9.00</td>\n",
       "      <td>-9.00</td>\n",
       "      <td>...</td>\n",
       "      <td>-9.00</td>\n",
       "      <td>-9.00</td>\n",
       "      <td>-9.00</td>\n",
       "      <td>-9.00</td>\n",
       "      <td>-9.00</td>\n",
       "      <td>-9.00</td>\n",
       "      <td>-9.00</td>\n",
       "      <td>-9</td>\n",
       "      <td>-9.00</td>\n",
       "      <td>-9.00</td>\n",
       "    </tr>\n",
       "    <tr>\n",
       "      <th>4239</th>\n",
       "      <td>2.00</td>\n",
       "      <td>1.00</td>\n",
       "      <td>1.00</td>\n",
       "      <td>1.00</td>\n",
       "      <td>2.00</td>\n",
       "      <td>0.00</td>\n",
       "      <td>2.00</td>\n",
       "      <td>3.00</td>\n",
       "      <td>2.00</td>\n",
       "      <td>2.00</td>\n",
       "      <td>...</td>\n",
       "      <td>108.00</td>\n",
       "      <td>1.00</td>\n",
       "      <td>1.00</td>\n",
       "      <td>0.00</td>\n",
       "      <td>1.00</td>\n",
       "      <td>1.00</td>\n",
       "      <td>24696.79</td>\n",
       "      <td>4</td>\n",
       "      <td>0.98</td>\n",
       "      <td>2.00</td>\n",
       "    </tr>\n",
       "    <tr>\n",
       "      <th>4240</th>\n",
       "      <td>-9.00</td>\n",
       "      <td>-9.00</td>\n",
       "      <td>-9.00</td>\n",
       "      <td>-9.00</td>\n",
       "      <td>-9.00</td>\n",
       "      <td>-9.00</td>\n",
       "      <td>-9.00</td>\n",
       "      <td>-9.00</td>\n",
       "      <td>-9.00</td>\n",
       "      <td>-9.00</td>\n",
       "      <td>...</td>\n",
       "      <td>-9.00</td>\n",
       "      <td>-9.00</td>\n",
       "      <td>-9.00</td>\n",
       "      <td>-9.00</td>\n",
       "      <td>-9.00</td>\n",
       "      <td>-9.00</td>\n",
       "      <td>-9.00</td>\n",
       "      <td>-9</td>\n",
       "      <td>-9.00</td>\n",
       "      <td>-9.00</td>\n",
       "    </tr>\n",
       "    <tr>\n",
       "      <th>4241</th>\n",
       "      <td>2.00</td>\n",
       "      <td>1.00</td>\n",
       "      <td>2.00</td>\n",
       "      <td>1.00</td>\n",
       "      <td>1.00</td>\n",
       "      <td>0.00</td>\n",
       "      <td>2.00</td>\n",
       "      <td>3.00</td>\n",
       "      <td>2.00</td>\n",
       "      <td>2.00</td>\n",
       "      <td>...</td>\n",
       "      <td>119.00</td>\n",
       "      <td>0.00</td>\n",
       "      <td>0.00</td>\n",
       "      <td>0.00</td>\n",
       "      <td>1.00</td>\n",
       "      <td>3.00</td>\n",
       "      <td>10560.77</td>\n",
       "      <td>4</td>\n",
       "      <td>0.79</td>\n",
       "      <td>2.00</td>\n",
       "    </tr>\n",
       "    <tr>\n",
       "      <th>4242</th>\n",
       "      <td>-9.00</td>\n",
       "      <td>-9.00</td>\n",
       "      <td>-9.00</td>\n",
       "      <td>-9.00</td>\n",
       "      <td>-9.00</td>\n",
       "      <td>-9.00</td>\n",
       "      <td>-9.00</td>\n",
       "      <td>-9.00</td>\n",
       "      <td>-9.00</td>\n",
       "      <td>-9.00</td>\n",
       "      <td>...</td>\n",
       "      <td>109.00</td>\n",
       "      <td>0.00</td>\n",
       "      <td>0.00</td>\n",
       "      <td>0.00</td>\n",
       "      <td>1.00</td>\n",
       "      <td>1.00</td>\n",
       "      <td>37072.56</td>\n",
       "      <td>1</td>\n",
       "      <td>0.96</td>\n",
       "      <td>3.00</td>\n",
       "    </tr>\n",
       "  </tbody>\n",
       "</table>\n",
       "<p>4242 rows × 1204 columns</p>\n",
       "</div>"
      ],
      "text/plain": [
       "             f1a2  f1a3  f1a4  f1a5  f1a6  f1b1a  f1b2  f1b26  f1b27  f1b28  \\\n",
       "challengeID                                                                   \n",
       "1           -9.00 -9.00 -9.00 -9.00 -9.00  -9.00 -9.00  -9.00  -9.00  -9.00   \n",
       "2            2.00  1.00  1.00  1.00  1.00   1.00  2.00   1.00   2.00   2.00   \n",
       "3            1.00  1.00  1.00  1.00  2.00   3.00  1.00   1.00   2.00   2.00   \n",
       "4            1.00  1.00  1.00  1.00  2.00   3.00  2.00   1.00   2.00   2.00   \n",
       "5            2.00  1.00  1.00  1.00  2.00   4.00  2.00   1.00   2.00   2.00   \n",
       "...           ...   ...   ...   ...   ...    ...   ...    ...    ...    ...   \n",
       "4238        -9.00 -9.00 -9.00 -9.00 -9.00  -9.00 -9.00  -9.00  -9.00  -9.00   \n",
       "4239         2.00  1.00  1.00  1.00  2.00   0.00  2.00   3.00   2.00   2.00   \n",
       "4240        -9.00 -9.00 -9.00 -9.00 -9.00  -9.00 -9.00  -9.00  -9.00  -9.00   \n",
       "4241         2.00  1.00  2.00  1.00  1.00   0.00  2.00   3.00   2.00   2.00   \n",
       "4242        -9.00 -9.00 -9.00 -9.00 -9.00  -9.00 -9.00  -9.00  -9.00  -9.00   \n",
       "\n",
       "             ...  cm5b_age  cm5md_case_con  cm5md_case_lib  cm5finjail  \\\n",
       "challengeID  ...                                                         \n",
       "1            ...     -9.00           -9.00           -9.00       -9.00   \n",
       "2            ...    117.00            0.00            0.00        0.00   \n",
       "3            ...     -9.00           -9.00           -9.00       -9.00   \n",
       "4            ...    108.00            0.00            0.00        0.00   \n",
       "5            ...    113.00            0.00            0.00        0.00   \n",
       "...          ...       ...             ...             ...         ...   \n",
       "4238         ...     -9.00           -9.00           -9.00       -9.00   \n",
       "4239         ...    108.00            1.00            1.00        0.00   \n",
       "4240         ...     -9.00           -9.00           -9.00       -9.00   \n",
       "4241         ...    119.00            0.00            0.00        0.00   \n",
       "4242         ...    109.00            0.00            0.00        0.00   \n",
       "\n",
       "             cm5fevjail  cm5edu  cm5hhinc  cm5hhimp  cm5povco  cm5povca  \n",
       "challengeID                                                              \n",
       "1                 -9.00   -9.00     -9.00        -9     -9.00     -9.00  \n",
       "2                  0.00    1.00   4337.16         4      0.84      1.00  \n",
       "3                 -9.00   -9.00     -9.00        -9     -9.00     -9.00  \n",
       "4                  0.00    4.00  62960.56         1      2.76      4.00  \n",
       "5                  0.00    2.00  11631.77         1      0.74      1.00  \n",
       "...                 ...     ...       ...       ...       ...       ...  \n",
       "4238              -9.00   -9.00     -9.00        -9     -9.00     -9.00  \n",
       "4239               1.00    1.00  24696.79         4      0.98      2.00  \n",
       "4240              -9.00   -9.00     -9.00        -9     -9.00     -9.00  \n",
       "4241               1.00    3.00  10560.77         4      0.79      2.00  \n",
       "4242               1.00    1.00  37072.56         1      0.96      3.00  \n",
       "\n",
       "[4242 rows x 1204 columns]"
      ]
     },
     "execution_count": 87,
     "metadata": {},
     "output_type": "execute_result"
    }
   ],
   "source": [
    "# test\n",
    "pd.read_csv('../data/FFChallenge_v5/background.csv',low_memory=False, \\\n",
    "                            dtype=dtypes_dict,\\\n",
    "                            usecols=dtypes_dict.keys()).set_index('challengeID')"
   ]
  },
  {
   "cell_type": "code",
   "execution_count": 88,
   "metadata": {},
   "outputs": [],
   "source": [
    "dtypes.to_csv('../metadata/variables.csv',index=False)"
   ]
  }
 ],
 "metadata": {
  "kernelspec": {
   "display_name": ".venv",
   "language": "python",
   "name": "python3"
  },
  "language_info": {
   "codemirror_mode": {
    "name": "ipython",
    "version": 3
   },
   "file_extension": ".py",
   "mimetype": "text/x-python",
   "name": "python",
   "nbconvert_exporter": "python",
   "pygments_lexer": "ipython3",
   "version": "3.10.6"
  },
  "orig_nbformat": 4
 },
 "nbformat": 4,
 "nbformat_minor": 2
}
