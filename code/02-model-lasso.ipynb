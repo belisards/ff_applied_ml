{
 "cells": [
  {
   "cell_type": "code",
   "execution_count": 43,
   "metadata": {},
   "outputs": [],
   "source": [
    "from sklearn.preprocessing import OneHotEncoder, OrdinalEncoder, StandardScaler\n",
    "from sklearn.compose import make_column_transformer\n",
    "from sklearn.linear_model import LogisticRegression, Lasso\n",
    "from skopt import BayesSearchCV\n",
    "import skopt.space as space\n",
    "from imblearn.pipeline import Pipeline as imbPipeline\n",
    "from imblearn.over_sampling import SMOTE\n",
    "from sklearn.impute import SimpleImputer\n",
    "from sklearn.pipeline import Pipeline\n",
    "from sklearn.impute import KNNImputer"
   ]
  },
  {
   "cell_type": "code",
   "execution_count": 44,
   "metadata": {},
   "outputs": [
    {
     "name": "stdout",
     "output_type": "stream",
     "text": [
      "(1172, 1210) (294, 1210) (530, 1210) (1111, 1210)\n"
     ]
    }
   ],
   "source": [
    "from ff_custom_scripts import *\n",
    "\n",
    "train, test,leaderboard,holdout = load_files(nanvalues='remove')\n",
    "\n",
    "print(train.shape, test.shape,leaderboard.shape,holdout.shape)"
   ]
  },
  {
   "attachments": {},
   "cell_type": "markdown",
   "metadata": {},
   "source": [
    "# Model"
   ]
  },
  {
   "cell_type": "code",
   "execution_count": 47,
   "metadata": {},
   "outputs": [],
   "source": [
    "def run_model(train, target='gpa', classifier=False):\n",
    "    X_train, y_train = prepare_data(train, target)\n",
    "    print(f'{X_train.shape[1]} features selected for {target}')\n",
    "\n",
    "    categorical_transformer = OneHotEncoder(handle_unknown='ignore')\n",
    "\n",
    "    numeric_transformer = Pipeline(steps=[\n",
    "        ('imputer', KNNImputer(n_neighbors=5)),\n",
    "\n",
    "    ])\n",
    "\n",
    "    ordered_transformer = Pipeline(steps=[\n",
    "        ('target', OrdinalEncoder(handle_unknown='use_encoded_value', unknown_value=-1)),\n",
    "        ('imputer', KNNImputer(n_neighbors=5)),\n",
    "    ])\n",
    "\n",
    "    numerical_features = cols_per_type(X_train, 'Continuous')\n",
    "    print(f'N. of numerical features: {len(numerical_features)}')\n",
    "    categorical_features = cols_per_type(X_train, 'Ordered Categorical')\n",
    "    print(f'N. of categorical features: {len(categorical_features)}')\n",
    "    binary_features = cols_per_type(X_train, 'Binary')\n",
    "    print(f'N. of binary features: {len(binary_features)}')\n",
    "    ordinal_features = cols_per_type(X_train, 'Unordered Categorical')\n",
    "    print(f'N. of ordinal features: {len(ordinal_features)}')\n",
    "\n",
    "    search_space = {\n",
    "        'regressor__max_iter': space.Integer(10_000, 20_000),\n",
    "    }\n",
    "\n",
    "    if classifier:\n",
    "        model = LogisticRegression(penalty='l1', solver='liblinear')\n",
    "\n",
    "        score = 'neg_brier_score'\n",
    "\n",
    "        preprocessor = make_column_transformer(\n",
    "            (categorical_transformer, categorical_features),\n",
    "            (numeric_transformer, numerical_features),\n",
    "            (ordered_transformer, ordinal_features),\n",
    "            (ordered_transformer, binary_features)\n",
    "        )\n",
    "\n",
    "        pipes = imbPipeline(steps=[('preprocessor', preprocessor),\n",
    "                                   ('smote', SMOTE(random_state=24)),\n",
    "                                   ('regressor', model)])\n",
    "\n",
    "    else:\n",
    "        model = Lasso()\n",
    "\n",
    "        score = 'neg_mean_squared_error'\n",
    "\n",
    "        search_space.update({\n",
    "            'regressor__alpha': space.Real(5_00, 1_500),\n",
    "        })\n",
    "\n",
    "        preprocessor = make_column_transformer(\n",
    "            (categorical_transformer, categorical_features),\n",
    "            (numeric_transformer, numerical_features),\n",
    "            (ordered_transformer, ordinal_features),\n",
    "            (ordered_transformer, binary_features)\n",
    "        )\n",
    "\n",
    "        pipes = Pipeline(steps=[('preprocessor', preprocessor),\n",
    "                                ('regressor', model)])\n",
    "\n",
    "    model = BayesSearchCV(\n",
    "        pipes,\n",
    "        search_space,\n",
    "        cv=5,\n",
    "        n_iter=10,\n",
    "        n_jobs=-1,\n",
    "        scoring=score,\n",
    "        refit=True,\n",
    "        verbose=0,\n",
    "        random_state=42\n",
    "    )\n",
    "\n",
    "    model.fit(X_train, y_train)\n",
    "\n",
    "    return model\n"
   ]
  },
  {
   "attachments": {},
   "cell_type": "markdown",
   "metadata": {},
   "source": [
    "# GPA"
   ]
  },
  {
   "cell_type": "code",
   "execution_count": 48,
   "metadata": {},
   "outputs": [
    {
     "name": "stdout",
     "output_type": "stream",
     "text": [
      "1204 features selected for gpa\n",
      "N. of numerical features: 106\n",
      "N. of categorical features: 414\n",
      "N. of binary features: 570\n",
      "N. of ordinal features: 114\n"
     ]
    }
   ],
   "source": [
    "gpa_model = run_model(train,target='gpa', classifier=False)"
   ]
  },
  {
   "cell_type": "code",
   "execution_count": 65,
   "metadata": {},
   "outputs": [
    {
     "name": "stdout",
     "output_type": "stream",
     "text": [
      "Metric: mean_squared_error\n",
      "Best CV score: 0.4094\n",
      "Standard deviation of CV scores: 0.0360\n",
      "Mean CV score: 0.4107\n",
      "Test MSE: 0.3949\n",
      "Test R2: 0.1269\n",
      ">> Leaderboard MSE: 0.3857\n",
      "Leaderboard R2: 0.0126\n"
     ]
    }
   ],
   "source": [
    "score_model(gpa_model,'gpa',test,leaderboard,holdout=None,classifier=False)"
   ]
  },
  {
   "attachments": {},
   "cell_type": "markdown",
   "metadata": {},
   "source": [
    "# Material Hardship"
   ]
  },
  {
   "cell_type": "code",
   "execution_count": 50,
   "metadata": {},
   "outputs": [
    {
     "name": "stdout",
     "output_type": "stream",
     "text": [
      "1204 features selected for materialHardship\n",
      "N. of numerical features: 106\n",
      "N. of categorical features: 414\n",
      "N. of binary features: 570\n",
      "N. of ordinal features: 114\n"
     ]
    }
   ],
   "source": [
    "model_materialHardship = run_model(train,target='materialHardship', classifier=False)"
   ]
  },
  {
   "cell_type": "code",
   "execution_count": 51,
   "metadata": {},
   "outputs": [
    {
     "name": "stdout",
     "output_type": "stream",
     "text": [
      "Metric: mean_squared_error\n",
      "Best CV score: 0.0226\n",
      "Standard deviation of CV scores: 0.0038\n",
      "Mean CV score: 0.0235\n",
      "Test MSE: 0.0243\n",
      "Test R2: 0.0390\n",
      ">> Leaderboard MSE: 0.0278\n",
      "Leaderboard R2: 0.0281\n"
     ]
    }
   ],
   "source": [
    "score_model(model_materialHardship, target='materialHardship', test=test, leaderboard=leaderboard, holdout=None, classifier=False)"
   ]
  },
  {
   "attachments": {},
   "cell_type": "markdown",
   "metadata": {},
   "source": [
    "# Grit\n"
   ]
  },
  {
   "cell_type": "code",
   "execution_count": 52,
   "metadata": {},
   "outputs": [
    {
     "name": "stdout",
     "output_type": "stream",
     "text": [
      "1204 features selected for grit\n",
      "N. of numerical features: 106\n",
      "N. of categorical features: 414\n",
      "N. of binary features: 570\n",
      "N. of ordinal features: 114\n"
     ]
    }
   ],
   "source": [
    "model_grit = run_model(train,target='grit', classifier=False)"
   ]
  },
  {
   "cell_type": "code",
   "execution_count": 53,
   "metadata": {},
   "outputs": [
    {
     "data": {
      "text/plain": [
       "OrderedDict([('regressor__alpha', 503.63030725474323),\n",
       "             ('regressor__max_iter', 18178)])"
      ]
     },
     "execution_count": 53,
     "metadata": {},
     "output_type": "execute_result"
    }
   ],
   "source": [
    "model_grit.best_params_"
   ]
  },
  {
   "cell_type": "code",
   "execution_count": 66,
   "metadata": {},
   "outputs": [
    {
     "name": "stdout",
     "output_type": "stream",
     "text": [
      "Metric: mean_squared_error\n",
      "Best CV score: 0.2347\n",
      "Standard deviation of CV scores: 0.0377\n",
      "Mean CV score: 0.2353\n",
      "Test MSE: 0.2257\n",
      "Test R2: -0.0061\n",
      ">> Leaderboard MSE: 0.2214\n",
      "Leaderboard R2: -0.0075\n"
     ]
    }
   ],
   "source": [
    "score_model(model_grit, target='grit', test=test, leaderboard=leaderboard, holdout=None, classifier=False)"
   ]
  },
  {
   "attachments": {},
   "cell_type": "markdown",
   "metadata": {},
   "source": [
    "# Eviction"
   ]
  },
  {
   "cell_type": "code",
   "execution_count": 55,
   "metadata": {},
   "outputs": [
    {
     "name": "stdout",
     "output_type": "stream",
     "text": [
      "1204 features selected for eviction\n",
      "N. of numerical features: 106\n",
      "N. of categorical features: 414\n",
      "N. of binary features: 570\n",
      "N. of ordinal features: 114\n"
     ]
    }
   ],
   "source": [
    "model_eviction = run_model(train,target='eviction', classifier=True)"
   ]
  },
  {
   "cell_type": "code",
   "execution_count": 56,
   "metadata": {},
   "outputs": [
    {
     "name": "stdout",
     "output_type": "stream",
     "text": [
      "Scores without threshold adjusment\n",
      "Test Brier: 0.0822\n",
      "Test F1: 0.0000\n",
      "Leaderboard Brier: 0.0962\n",
      "Number of positive predictions: 31.0\n",
      ">> Leaderboard F1: 0.1639\n",
      "Leaderboard Accuracy: 0.9038\n",
      "Leaderboard Recall: 0.1667\n"
     ]
    }
   ],
   "source": [
    "score_model(model_eviction,'eviction', test, leaderboard, holdout=None,classifier=True)"
   ]
  },
  {
   "cell_type": "code",
   "execution_count": 57,
   "metadata": {},
   "outputs": [
    {
     "name": "stdout",
     "output_type": "stream",
     "text": [
      "Scores with threshold adjusment\n"
     ]
    },
    {
     "data": {
      "image/png": "[encoded data removed]",
      "text/plain": [
       "<Figure size 640x480 with 1 Axes>"
      ]
     },
     "metadata": {},
     "output_type": "display_data"
    },
    {
     "name": "stdout",
     "output_type": "stream",
     "text": [
      "Threshold=0.000, FPR=0.708, TPR=0.933\n",
      "Test brier: 0.678\n",
      "Test F1: 0.116\n",
      "Leaderboard Brier: 0.713\n",
      "              precision    recall  f1-score   support\n",
      "\n",
      "         0.0       0.96      0.26      0.40       500\n",
      "         1.0       0.06      0.80      0.11        30\n",
      "\n",
      "    accuracy                           0.29       530\n",
      "   macro avg       0.51      0.53      0.26       530\n",
      "weighted avg       0.90      0.29      0.39       530\n",
      "\n",
      "Leaderboard F1: 0.113\n"
     ]
    }
   ],
   "source": [
    "score_classifier(model_eviction, 'eviction', test, leaderboard, holdout=None)"
   ]
  },
  {
   "attachments": {},
   "cell_type": "markdown",
   "metadata": {},
   "source": [
    "# jobTraining"
   ]
  },
  {
   "cell_type": "code",
   "execution_count": 58,
   "metadata": {},
   "outputs": [
    {
     "name": "stdout",
     "output_type": "stream",
     "text": [
      "1204 features selected for jobTraining\n",
      "N. of numerical features: 106\n",
      "N. of categorical features: 414\n",
      "N. of binary features: 570\n",
      "N. of ordinal features: 114\n"
     ]
    }
   ],
   "source": [
    "model_job = run_model(train,target='jobTraining', classifier=True)"
   ]
  },
  {
   "cell_type": "code",
   "execution_count": 68,
   "metadata": {},
   "outputs": [
    {
     "name": "stdout",
     "output_type": "stream",
     "text": [
      "Scores without threshold adjusment\n",
      "Test Brier: 0.3082\n",
      "Test F1: 0.3571\n",
      "Leaderboard Brier: 0.3811\n",
      "Number of positive predictions: 159.0\n",
      ">> Leaderboard F1: 0.3399\n",
      "Leaderboard Accuracy: 0.6189\n",
      "Leaderboard Recall: 0.3537\n"
     ]
    }
   ],
   "source": [
    "score_model(model_job, 'jobTraining', test, leaderboard, holdout=None,classifier=True)"
   ]
  },
  {
   "cell_type": "code",
   "execution_count": 60,
   "metadata": {},
   "outputs": [
    {
     "name": "stdout",
     "output_type": "stream",
     "text": [
      "Scores with threshold adjusment\n"
     ]
    },
    {
     "data": {
      "image/png": "[encoded data removed]",
      "text/plain": [
       "<Figure size 640x480 with 1 Axes>"
      ]
     },
     "metadata": {},
     "output_type": "display_data"
    },
    {
     "name": "stdout",
     "output_type": "stream",
     "text": [
      "Threshold=0.856, FPR=0.133, TPR=0.358\n",
      "Test brier: 0.253\n",
      "Test F1: 0.383\n",
      "Leaderboard Brier: 0.338\n",
      "              precision    recall  f1-score   support\n",
      "\n",
      "         0.0       0.74      0.82      0.78       383\n",
      "         1.0       0.35      0.25      0.29       147\n",
      "\n",
      "    accuracy                           0.66       530\n",
      "   macro avg       0.54      0.54      0.54       530\n",
      "weighted avg       0.63      0.66      0.64       530\n",
      "\n",
      "Leaderboard F1: 0.292\n"
     ]
    }
   ],
   "source": [
    "score_classifier(model_job, 'jobTraining', test, leaderboard, holdout=None)\n"
   ]
  },
  {
   "attachments": {},
   "cell_type": "markdown",
   "metadata": {},
   "source": [
    "# Layoff"
   ]
  },
  {
   "cell_type": "code",
   "execution_count": 61,
   "metadata": {},
   "outputs": [
    {
     "name": "stdout",
     "output_type": "stream",
     "text": [
      "1204 features selected for layoff\n",
      "N. of numerical features: 106\n",
      "N. of categorical features: 414\n",
      "N. of binary features: 570\n",
      "N. of ordinal features: 114\n"
     ]
    }
   ],
   "source": [
    "model_layoff = run_model(train, target='layoff', classifier=True)"
   ]
  },
  {
   "cell_type": "code",
   "execution_count": 62,
   "metadata": {},
   "outputs": [
    {
     "data": {
      "text/plain": [
       "OrderedDict([('regressor__max_iter', 17996)])"
      ]
     },
     "execution_count": 62,
     "metadata": {},
     "output_type": "execute_result"
    }
   ],
   "source": [
    "model_layoff.best_params_"
   ]
  },
  {
   "cell_type": "code",
   "execution_count": 63,
   "metadata": {},
   "outputs": [
    {
     "name": "stdout",
     "output_type": "stream",
     "text": [
      "Scores without threshold adjusment\n",
      "Test Brier: 0.3267\n",
      "Test F1: 0.2807\n",
      "Leaderboard Brier: 0.3679\n",
      "Number of positive predictions: 128.0\n",
      ">> Leaderboard F1: 0.2105\n",
      "Leaderboard Accuracy: 0.6321\n",
      "Leaderboard Recall: 0.2185\n"
     ]
    }
   ],
   "source": [
    "score_model(model_layoff, 'layoff', test, leaderboard, holdout=None, classifier=True)"
   ]
  },
  {
   "cell_type": "code",
   "execution_count": 64,
   "metadata": {},
   "outputs": [
    {
     "name": "stdout",
     "output_type": "stream",
     "text": [
      "Scores with threshold adjusment\n"
     ]
    },
    {
     "data": {
      "image/png": "[encoded data removed]",
      "text/plain": [
       "<Figure size 640x480 with 1 Axes>"
      ]
     },
     "metadata": {},
     "output_type": "display_data"
    },
    {
     "name": "stdout",
     "output_type": "stream",
     "text": [
      "Threshold=0.937, FPR=0.055, TPR=0.200\n",
      "Test brier: 0.207\n",
      "Test F1: 0.257\n",
      "Leaderboard Brier: 0.285\n",
      "              precision    recall  f1-score   support\n",
      "\n",
      "         0.0       0.77      0.89      0.83       411\n",
      "         1.0       0.21      0.10      0.14       119\n",
      "\n",
      "    accuracy                           0.72       530\n",
      "   macro avg       0.49      0.50      0.48       530\n",
      "weighted avg       0.65      0.72      0.67       530\n",
      "\n",
      "Leaderboard F1: 0.137\n"
     ]
    }
   ],
   "source": [
    "score_classifier(model_layoff, 'layoff', test, leaderboard, holdout=None)"
   ]
  }
 ],
 "metadata": {
  "kernelspec": {
   "display_name": ".venv",
   "language": "python",
   "name": "python3"
  },
  "language_info": {
   "codemirror_mode": {
    "name": "ipython",
    "version": 3
   },
   "file_extension": ".py",
   "mimetype": "text/x-python",
   "name": "python",
   "nbconvert_exporter": "python",
   "pygments_lexer": "ipython3",
   "version": "3.10.6"
  },
  "orig_nbformat": 4
 },
 "nbformat": 4,
 "nbformat_minor": 2
}
