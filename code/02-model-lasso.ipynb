{
 "cells": [
  {
   "cell_type": "code",
   "execution_count": 1,
   "metadata": {},
   "outputs": [],
   "source": [
    "from sklearn.preprocessing import OneHotEncoder, OrdinalEncoder, StandardScaler\n",
    "from sklearn.compose import make_column_transformer\n",
    "from sklearn.linear_model import LogisticRegression, Lasso\n",
    "from skopt import BayesSearchCV\n",
    "import skopt.space as space\n",
    "from imblearn.pipeline import Pipeline as imbPipeline\n",
    "from imblearn.over_sampling import SMOTE\n",
    "from sklearn.impute import SimpleImputer"
   ]
  },
  {
   "cell_type": "code",
   "execution_count": 2,
   "metadata": {},
   "outputs": [
    {
     "name": "stdout",
     "output_type": "stream",
     "text": [
      "(1172, 1437) (294, 1437) (530, 1437) (803, 1437)\n"
     ]
    }
   ],
   "source": [
    "from ff_custom_scripts import *\n",
    "\n",
    "train, test,leaderboard,holdout = load_files(nanvalues='keep')\n",
    "\n",
    "meta = pd.read_csv('../metadata/metadata.csv', index_col=0)\n",
    "\n",
    "print(train.shape, test.shape,leaderboard.shape,holdout.shape)"
   ]
  },
  {
   "attachments": {},
   "cell_type": "markdown",
   "metadata": {},
   "source": [
    "# Model"
   ]
  },
  {
   "cell_type": "code",
   "execution_count": 3,
   "metadata": {},
   "outputs": [],
   "source": [
    "def run_model(train, target='gpa', classifier=False, k=50):\n",
    "    X_train, y_train = prepare_data(train, target)\n",
    "    print(f'{X_train.shape[1]} features selected for {target}')\n",
    "\n",
    "    categorical_transformer = OneHotEncoder(handle_unknown='ignore')\n",
    "\n",
    "    numeric_transformer = Pipeline(steps=[\n",
    "        ('imputer', SimpleImputer(strategy='mean')),\n",
    "        ])\n",
    "\n",
    "    ordered_transformer = Pipeline(steps=[\n",
    "            ('target', OrdinalEncoder(handle_unknown='use_encoded_value', unknown_value=-1)),\n",
    "        ])\n",
    "\n",
    "    numerical_features = cols_per_type(X_train, 'Continuous')\n",
    "    print(f'Total number of numerical features: {len(numerical_features)}')\n",
    "    categorical_features = cols_per_type(X_train, 'Ordered Categorical')\n",
    "    print(f'Total number of categorical features: {len(categorical_features)}')\n",
    "    binary_features = cols_per_type(X_train, 'Binary')\n",
    "    print(f'Total number of binary features: {len(binary_features)}')\n",
    "    ordinal_features = cols_per_type(X_train, 'Unordered Categorical')\n",
    "    print(f'Total number of ordinal features: {len(ordinal_features)}')\n",
    "\n",
    "    search_space = {\n",
    "        'regressor__max_iter': space.Integer(10_000, 20_000),\n",
    "    }\n",
    "    \n",
    "    if classifier:\n",
    "        model = LogisticRegression(penalty='l2') \n",
    "\n",
    "        score = 'neg_brier_score'\n",
    "\n",
    "        numeric_transformer = Pipeline(steps=[\n",
    "            ('imputer', SimpleImputer(strategy='mean')),\n",
    "            ('scaler', StandardScaler()),\n",
    "        ])\n",
    "\n",
    "        preprocessor = make_column_transformer(\n",
    "        (categorical_transformer, categorical_features),\n",
    "        (numeric_transformer, numerical_features),\n",
    "        (ordered_transformer, ordinal_features),\n",
    "        (ordered_transformer, binary_features)\n",
    "    )\n",
    "        \n",
    "        pipes = imbPipeline(steps=[('preprocessor', preprocessor),\n",
    "                                    ('smote', SMOTE(random_state=24)),\n",
    "                                    ('regressor', model)])\n",
    "           \n",
    "    else:\n",
    "        model = Lasso()\n",
    "\n",
    "        score = 'neg_mean_squared_error'\n",
    "\n",
    "        search_space.update({\n",
    "            'regressor__alpha': space.Real(800, 1500),\n",
    "        })\n",
    "\n",
    "        preprocessor = make_column_transformer(\n",
    "        (categorical_transformer, categorical_features),\n",
    "        (numeric_transformer, numerical_features),\n",
    "        (categorical_transformer, ordinal_features),\n",
    "        (ordered_transformer, binary_features)\n",
    "    )\n",
    "\n",
    "        pipes = Pipeline(steps=[('preprocessor', preprocessor),\n",
    "                            ('regressor', model)])\n",
    "                                           \n",
    "    model = BayesSearchCV(\n",
    "        pipes,\n",
    "        search_space,\n",
    "        n_iter=10,\n",
    "        cv=5,\n",
    "        n_jobs=-1,\n",
    "        scoring=score,\n",
    "        refit=True,\n",
    "        verbose=0,\n",
    "        random_state=41\n",
    "    )\n",
    "    \n",
    "    model.fit(X_train, y_train)\n",
    "    \n",
    "    return model\n"
   ]
  },
  {
   "attachments": {},
   "cell_type": "markdown",
   "metadata": {},
   "source": [
    "# GPA"
   ]
  },
  {
   "cell_type": "code",
   "execution_count": 4,
   "metadata": {},
   "outputs": [
    {
     "name": "stdout",
     "output_type": "stream",
     "text": [
      "1431 features selected for gpa\n",
      "Total number of numerical features: 135\n",
      "Total number of categorical features: 469\n",
      "Total number of binary features: 692\n",
      "Total number of ordinal features: 135\n"
     ]
    }
   ],
   "source": [
    "gpa_model = run_model(train,target='gpa', classifier=False)"
   ]
  },
  {
   "cell_type": "code",
   "execution_count": 5,
   "metadata": {},
   "outputs": [
    {
     "name": "stdout",
     "output_type": "stream",
     "text": [
      "Metric: mean_squared_error\n",
      "Best CV score: 0.3972\n",
      "Standard deviation of CV scores: 0.0267\n",
      "Mean CV score: 0.3983\n",
      "Test MSE: 0.4291\n",
      "Test R2: 0.0572\n",
      "Leaderboard MSE: 0.4308\n",
      "Leaderboard R2: -0.1028\n"
     ]
    }
   ],
   "source": [
    "score_model(gpa_model,'gpa',test,leaderboard,holdout=None,classifier=False)"
   ]
  },
  {
   "attachments": {},
   "cell_type": "markdown",
   "metadata": {},
   "source": [
    "# Material Hardship"
   ]
  },
  {
   "cell_type": "code",
   "execution_count": 6,
   "metadata": {},
   "outputs": [
    {
     "name": "stdout",
     "output_type": "stream",
     "text": [
      "1431 features selected for materialHardship\n",
      "Total number of numerical features: 135\n",
      "Total number of categorical features: 469\n",
      "Total number of binary features: 692\n",
      "Total number of ordinal features: 135\n"
     ]
    }
   ],
   "source": [
    "model_materialHardship = run_model(train,target='materialHardship', classifier=False)"
   ]
  },
  {
   "cell_type": "code",
   "execution_count": 7,
   "metadata": {},
   "outputs": [
    {
     "name": "stdout",
     "output_type": "stream",
     "text": [
      "Metric: mean_squared_error\n",
      "Best CV score: 0.0228\n",
      "Standard deviation of CV scores: 0.0014\n",
      "Mean CV score: 0.0233\n",
      "Test MSE: 0.0264\n",
      "Test R2: 0.0335\n",
      "Leaderboard MSE: 0.0290\n",
      "Leaderboard R2: -0.0141\n",
      "Holdout MSE: 0.0246\n",
      "Holdout R2: -0.0114\n"
     ]
    }
   ],
   "source": [
    "score_model(model_materialHardship, target='materialHardship', test=test, leaderboard=leaderboard, holdout=holdout, classifier=False)"
   ]
  },
  {
   "attachments": {},
   "cell_type": "markdown",
   "metadata": {},
   "source": [
    "# Grit\n"
   ]
  },
  {
   "cell_type": "code",
   "execution_count": 8,
   "metadata": {},
   "outputs": [
    {
     "name": "stdout",
     "output_type": "stream",
     "text": [
      "1431 features selected for grit\n",
      "Total number of numerical features: 135\n",
      "Total number of categorical features: 469\n",
      "Total number of binary features: 692\n",
      "Total number of ordinal features: 135\n"
     ]
    }
   ],
   "source": [
    "model_grit = run_model(train,target='grit', classifier=False)"
   ]
  },
  {
   "cell_type": "code",
   "execution_count": 9,
   "metadata": {},
   "outputs": [
    {
     "data": {
      "text/plain": [
       "OrderedDict([('regressor__alpha', 829.4654059847685),\n",
       "             ('regressor__max_iter', 19784)])"
      ]
     },
     "execution_count": 9,
     "metadata": {},
     "output_type": "execute_result"
    }
   ],
   "source": [
    "model_grit.best_params_"
   ]
  },
  {
   "cell_type": "code",
   "execution_count": 10,
   "metadata": {},
   "outputs": [
    {
     "name": "stdout",
     "output_type": "stream",
     "text": [
      "Metric: mean_squared_error\n",
      "Best CV score: 0.2328\n",
      "Standard deviation of CV scores: 0.0277\n",
      "Mean CV score: 0.2334\n",
      "Test MSE: 0.2335\n",
      "Test R2: 0.0085\n",
      "Leaderboard MSE: 0.2234\n",
      "Leaderboard R2: -0.0168\n"
     ]
    }
   ],
   "source": [
    "score_model(model_grit, target='grit', test=test, leaderboard=leaderboard, holdout=None, classifier=False)"
   ]
  },
  {
   "attachments": {},
   "cell_type": "markdown",
   "metadata": {},
   "source": [
    "# Eviction"
   ]
  },
  {
   "cell_type": "code",
   "execution_count": 11,
   "metadata": {},
   "outputs": [
    {
     "name": "stdout",
     "output_type": "stream",
     "text": [
      "1431 features selected for eviction\n",
      "Total number of numerical features: 135\n",
      "Total number of categorical features: 469\n",
      "Total number of binary features: 692\n",
      "Total number of ordinal features: 135\n"
     ]
    }
   ],
   "source": [
    "model_eviction = run_model(train,target='eviction', classifier=True)"
   ]
  },
  {
   "cell_type": "code",
   "execution_count": 12,
   "metadata": {},
   "outputs": [
    {
     "name": "stdout",
     "output_type": "stream",
     "text": [
      "Test Brier: 0.0687\n",
      "Test F1: 0.2857\n",
      "Leaderboard Brier: 0.0792\n",
      "Leaderboard F1: 0.1250\n"
     ]
    }
   ],
   "source": [
    "score_model(model_eviction,'eviction', test, leaderboard, holdout=None,classifier=True)"
   ]
  },
  {
   "attachments": {},
   "cell_type": "markdown",
   "metadata": {},
   "source": [
    "# jobTraining"
   ]
  },
  {
   "cell_type": "code",
   "execution_count": 13,
   "metadata": {},
   "outputs": [
    {
     "name": "stdout",
     "output_type": "stream",
     "text": [
      "1431 features selected for jobTraining\n",
      "Total number of numerical features: 135\n",
      "Total number of categorical features: 469\n",
      "Total number of binary features: 692\n",
      "Total number of ordinal features: 135\n"
     ]
    }
   ],
   "source": [
    "model_job = run_model(train,target='jobTraining', classifier=True)"
   ]
  },
  {
   "cell_type": "code",
   "execution_count": 14,
   "metadata": {},
   "outputs": [
    {
     "name": "stdout",
     "output_type": "stream",
     "text": [
      "Test Brier: 0.3185\n",
      "Test F1: 0.2677\n",
      "Leaderboard Brier: 0.3585\n",
      "Leaderboard F1: 0.3015\n"
     ]
    }
   ],
   "source": [
    "score_model(model_job, 'jobTraining', test, leaderboard, holdout=None,classifier=True)"
   ]
  },
  {
   "attachments": {},
   "cell_type": "markdown",
   "metadata": {},
   "source": [
    "# Layoff"
   ]
  },
  {
   "cell_type": "code",
   "execution_count": 15,
   "metadata": {},
   "outputs": [
    {
     "name": "stdout",
     "output_type": "stream",
     "text": [
      "1431 features selected for layoff\n",
      "Total number of numerical features: 135\n",
      "Total number of categorical features: 469\n",
      "Total number of binary features: 692\n",
      "Total number of ordinal features: 135\n"
     ]
    }
   ],
   "source": [
    "model_layoff = run_model(train, target='layoff', classifier=True)"
   ]
  },
  {
   "cell_type": "code",
   "execution_count": 16,
   "metadata": {},
   "outputs": [
    {
     "data": {
      "text/plain": [
       "OrderedDict([('regressor__max_iter', 10421)])"
      ]
     },
     "execution_count": 16,
     "metadata": {},
     "output_type": "execute_result"
    }
   ],
   "source": [
    "model_layoff.best_params_"
   ]
  },
  {
   "cell_type": "code",
   "execution_count": 17,
   "metadata": {},
   "outputs": [
    {
     "name": "stdout",
     "output_type": "stream",
     "text": [
      "Test Brier: 0.2669\n",
      "Test F1: 0.3366\n",
      "Leaderboard Brier: 0.3830\n",
      "Leaderboard F1: 0.2397\n"
     ]
    }
   ],
   "source": [
    "score_model(model_layoff, 'layoff', test, leaderboard, holdout=None, classifier=True)"
   ]
  }
 ],
 "metadata": {
  "kernelspec": {
   "display_name": ".venv",
   "language": "python",
   "name": "python3"
  },
  "language_info": {
   "codemirror_mode": {
    "name": "ipython",
    "version": 3
   },
   "file_extension": ".py",
   "mimetype": "text/x-python",
   "name": "python",
   "nbconvert_exporter": "python",
   "pygments_lexer": "ipython3",
   "version": "3.10.6"
  },
  "orig_nbformat": 4
 },
 "nbformat": 4,
 "nbformat_minor": 2
}
