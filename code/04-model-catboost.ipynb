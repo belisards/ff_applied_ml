{
 "cells": [
  {
   "cell_type": "code",
   "execution_count": 1,
   "metadata": {},
   "outputs": [],
   "source": [
    "from ff_custom_scripts import *\n",
    "from sklearn.metrics import f1_score\n",
    "from catboost import CatBoostClassifier, Pool, cv, CatBoostRegressor\n",
    "from sklearn.model_selection import GridSearchCV"
   ]
  },
  {
   "cell_type": "code",
   "execution_count": 2,
   "metadata": {},
   "outputs": [
    {
     "name": "stdout",
     "output_type": "stream",
     "text": [
      "(1172, 1210) (294, 1210) (530, 1210) (1111, 1210)\n"
     ]
    }
   ],
   "source": [
    "train, test,leaderboard,holdout = load_files(nanvalues='remove')\n",
    "\n",
    "print(train.shape, test.shape,leaderboard.shape,holdout.shape)"
   ]
  },
  {
   "cell_type": "code",
   "execution_count": 3,
   "metadata": {},
   "outputs": [
    {
     "data": {
      "text/plain": [
       "[0.06, 0.94]"
      ]
     },
     "execution_count": 3,
     "metadata": {},
     "output_type": "execute_result"
    }
   ],
   "source": [
    "def get_weights(df,target):\n",
    "    weights = df[target].value_counts(normalize=True)\n",
    "    w1 = weights[0].round(2)\n",
    "    w2 = weights[1].round(2)\n",
    "    return [w2, w1]\n",
    "\n",
    "get_weights(train,'eviction')"
   ]
  },
  {
   "cell_type": "markdown",
   "metadata": {},
   "source": [
    "# Model"
   ]
  },
  {
   "cell_type": "code",
   "execution_count": 4,
   "metadata": {},
   "outputs": [],
   "source": [
    "def run_model(train, test, target='gpa', classifier=False):\n",
    "\n",
    "    catcols = train.select_dtypes(include=['category']).columns\n",
    "    train[catcols] = train[catcols].astype(str)\n",
    "    test[catcols] = test[catcols].astype(str)\n",
    "\n",
    "    X_train, y_train = prepare_data(train, target)\n",
    "    X_test, y_test = prepare_data(test, target)\n",
    "\n",
    "    print(X_train.shape, y_train.shape)\n",
    "\n",
    "    numerical_features = cols_per_type(X_train, 'Continuous')\n",
    "    print(f'N. of numerical features: {len(numerical_features)}')\n",
    "    ordinal_features = cols_per_type(X_train, 'Ordered Categorical')\n",
    "    binary_features = cols_per_type(X_train, 'Binary')\n",
    "    print(f'N. of binary features: {len(binary_features)}')\n",
    "    categorical_features = cols_per_type(X_train, 'Unordered Categorical')\n",
    "    print(f'N. of categorical features: {len(categorical_features)}')\n",
    "    print(f'N. of ordinal features: {len(ordinal_features)}')\n",
    "    \n",
    "    iter = 20_000\n",
    "\n",
    "    if classifier:\n",
    "        # score = 'neg_brier_score'\n",
    "        catboost = CatBoostClassifier(\n",
    "            thread_count=-1, cat_features=categorical_features, verbose=0,random_seed=88)\n",
    "    else:\n",
    "        \n",
    "        catboost = CatBoostRegressor(thread_count=-1, cat_features=categorical_features, random_seed=88, \n",
    "                                     iterations=iter, early_stopping_rounds=iter*0.1,verbose=10)\n",
    "\n",
    "    #     score = 'neg_mean_squared_error'\n",
    "\n",
    "    # param_grid = {\n",
    "    #     'learning_rate': [0.005, 0.02],\n",
    "    #     'depth': [4, 8],\n",
    "    #     'l2_leaf_reg': [2, 3],\n",
    "    #     'bagging_temperature': [0.5, 1],\n",
    "    # }\n",
    "\n",
    "    # model = BayesSearchCV(catboost, param_grid, cv=5, n_jobs=-1, scoring=score, verbose=20,\n",
    "    #                        n_iter=10).fit(X_train, y_train, eval_set=(X_test, y_test), use_best_model=True, verbose=0)\n",
    "    \n",
    "    model = catboost.fit(X_train, y_train, eval_set=(X_test, y_test), use_best_model=True, verbose=0)\n",
    "\n",
    "    return model\n",
    "\n",
    "\n",
    "def mse_error(model, data, target='gpa'):\n",
    "    X, y = prepare_data(data, target)\n",
    "    y_pred = model.predict(X)\n",
    "    return mean_squared_error(y, y_pred)"
   ]
  },
  {
   "cell_type": "markdown",
   "metadata": {},
   "source": [
    "# GPA"
   ]
  },
  {
   "cell_type": "code",
   "execution_count": 5,
   "metadata": {},
   "outputs": [
    {
     "name": "stdout",
     "output_type": "stream",
     "text": [
      "(929, 1204) (929,)\n",
      "N. of numerical features: 106\n",
      "N. of binary features: 570\n",
      "N. of categorical features: 114\n",
      "N. of ordinal features: 414\n"
     ]
    }
   ],
   "source": [
    "gpa_model = run_model(train,test,target='gpa', classifier=False)"
   ]
  },
  {
   "cell_type": "code",
   "execution_count": 6,
   "metadata": {},
   "outputs": [
    {
     "data": {
      "text/plain": [
       "0.39169605871407187"
      ]
     },
     "execution_count": 6,
     "metadata": {},
     "output_type": "execute_result"
    }
   ],
   "source": [
    "mse_error(gpa_model, test, target='gpa')"
   ]
  },
  {
   "cell_type": "code",
   "execution_count": 7,
   "metadata": {},
   "outputs": [
    {
     "data": {
      "text/plain": [
       "0.3825140787606819"
      ]
     },
     "execution_count": 7,
     "metadata": {},
     "output_type": "execute_result"
    }
   ],
   "source": [
    "categorical_features = cols_per_type(leaderboard, 'Unordered Categorical')\n",
    "leaderboard[categorical_features] = leaderboard[categorical_features].astype(str)\n",
    "\n",
    "mse_error(gpa_model, leaderboard, target='gpa')"
   ]
  },
  {
   "cell_type": "markdown",
   "metadata": {},
   "source": [
    "# Material Hardship"
   ]
  },
  {
   "cell_type": "code",
   "execution_count": 8,
   "metadata": {},
   "outputs": [
    {
     "name": "stdout",
     "output_type": "stream",
     "text": [
      "(1167, 1204) (1167,)\n",
      "N. of numerical features: 106\n",
      "N. of binary features: 570\n",
      "N. of categorical features: 114\n",
      "N. of ordinal features: 414\n"
     ]
    }
   ],
   "source": [
    "model_materialHardship = run_model(train,test, target='materialHardship', classifier=False)"
   ]
  },
  {
   "cell_type": "code",
   "execution_count": 9,
   "metadata": {},
   "outputs": [
    {
     "data": {
      "text/plain": [
       "0.019724772285878288"
      ]
     },
     "execution_count": 9,
     "metadata": {},
     "output_type": "execute_result"
    }
   ],
   "source": [
    "mse_error(model_materialHardship, test, target='materialHardship')"
   ]
  },
  {
   "cell_type": "code",
   "execution_count": 10,
   "metadata": {},
   "outputs": [
    {
     "data": {
      "text/plain": [
       "0.024400836453132256"
      ]
     },
     "execution_count": 10,
     "metadata": {},
     "output_type": "execute_result"
    }
   ],
   "source": [
    "mse_error(model_materialHardship, leaderboard, target='materialHardship')"
   ]
  },
  {
   "cell_type": "markdown",
   "metadata": {},
   "source": [
    "# Grit\n"
   ]
  },
  {
   "cell_type": "code",
   "execution_count": 11,
   "metadata": {},
   "outputs": [
    {
     "name": "stdout",
     "output_type": "stream",
     "text": [
      "(1134, 1204) (1134,)\n",
      "N. of numerical features: 106\n",
      "N. of binary features: 570\n",
      "N. of categorical features: 114\n",
      "N. of ordinal features: 414\n"
     ]
    }
   ],
   "source": [
    "model_grit = run_model(train,test, target='grit', classifier=False)"
   ]
  },
  {
   "cell_type": "code",
   "execution_count": 12,
   "metadata": {},
   "outputs": [
    {
     "data": {
      "text/plain": [
       "0.2149716272725388"
      ]
     },
     "execution_count": 12,
     "metadata": {},
     "output_type": "execute_result"
    }
   ],
   "source": [
    "mse_error(model_grit, test, target='grit')"
   ]
  },
  {
   "cell_type": "code",
   "execution_count": 13,
   "metadata": {},
   "outputs": [
    {
     "data": {
      "text/plain": [
       "0.24955776354118903"
      ]
     },
     "execution_count": 13,
     "metadata": {},
     "output_type": "execute_result"
    }
   ],
   "source": [
    "mse_error(model_grit, leaderboard, target='grit')"
   ]
  },
  {
   "cell_type": "markdown",
   "metadata": {},
   "source": [
    "# Eviction"
   ]
  },
  {
   "cell_type": "code",
   "execution_count": 14,
   "metadata": {},
   "outputs": [
    {
     "name": "stdout",
     "output_type": "stream",
     "text": [
      "(1167, 1204) (1167,)\n",
      "N. of numerical features: 106\n",
      "N. of binary features: 570\n",
      "N. of categorical features: 114\n",
      "N. of ordinal features: 414\n"
     ]
    }
   ],
   "source": [
    "model_eviction = run_model(train,test,target='eviction', classifier=True)"
   ]
  },
  {
   "cell_type": "code",
   "execution_count": 15,
   "metadata": {},
   "outputs": [
    {
     "name": "stdout",
     "output_type": "stream",
     "text": [
      "Scores without threshold adjusment\n",
      "Test Brier: 0.0514\n",
      "Test F1: 0.0000\n",
      "Leaderboard Brier: 0.0566\n",
      "Number of positive predictions: 0.0\n",
      ">> Leaderboard F1: 0.0000\n",
      "Leaderboard Accuracy: 0.9434\n",
      "Leaderboard Recall: 0.0000\n"
     ]
    }
   ],
   "source": [
    "score_model(model_eviction, target='eviction',test=test, leaderboard=leaderboard, classifier=True, holdout=None)"
   ]
  },
  {
   "cell_type": "code",
   "execution_count": 16,
   "metadata": {},
   "outputs": [
    {
     "name": "stdout",
     "output_type": "stream",
     "text": [
      "Scores with threshold adjusment\n"
     ]
    },
    {
     "data": {
      "image/png": "[encoded data removed]",
      "text/plain": [
       "<Figure size 640x480 with 1 Axes>"
      ]
     },
     "metadata": {},
     "output_type": "display_data"
    },
    {
     "name": "stdout",
     "output_type": "stream",
     "text": [
      "Threshold=0.060, FPR=0.282, TPR=0.667\n",
      "Test brier: 0.288\n",
      "Test F1: 0.176\n",
      "Leaderboard Brier: 0.351\n",
      "              precision    recall  f1-score   support\n",
      "\n",
      "         0.0       0.97      0.65      0.78       500\n",
      "         1.0       0.10      0.67      0.18        30\n",
      "\n",
      "    accuracy                           0.65       530\n",
      "   macro avg       0.54      0.66      0.48       530\n",
      "weighted avg       0.92      0.65      0.74       530\n",
      "\n",
      "Leaderboard F1: 0.177\n"
     ]
    }
   ],
   "source": [
    "score_classifier(model_eviction, target='eviction', holdout=None, test=test,leaderboard=leaderboard)"
   ]
  },
  {
   "cell_type": "markdown",
   "metadata": {},
   "source": [
    "# jobTraining"
   ]
  },
  {
   "cell_type": "code",
   "execution_count": 17,
   "metadata": {},
   "outputs": [
    {
     "name": "stdout",
     "output_type": "stream",
     "text": [
      "(1169, 1204) (1169,)\n",
      "N. of numerical features: 106\n",
      "N. of binary features: 570\n",
      "N. of categorical features: 114\n",
      "N. of ordinal features: 414\n"
     ]
    }
   ],
   "source": [
    "model_job = run_model(train,test,target='jobTraining', classifier=True)"
   ]
  },
  {
   "cell_type": "code",
   "execution_count": 18,
   "metadata": {},
   "outputs": [
    {
     "name": "stdout",
     "output_type": "stream",
     "text": [
      "Scores without threshold adjusment\n",
      "Test Brier: 0.2260\n",
      "Test F1: 0.0833\n",
      "Leaderboard Brier: 0.2868\n",
      "Number of positive predictions: 11.0\n",
      ">> Leaderboard F1: 0.0380\n",
      "Leaderboard Accuracy: 0.7132\n",
      "Leaderboard Recall: 0.0204\n"
     ]
    }
   ],
   "source": [
    "score_model(model_job, target='jobTraining',test=test, leaderboard=leaderboard, classifier=True, holdout=None)"
   ]
  },
  {
   "cell_type": "code",
   "execution_count": 19,
   "metadata": {},
   "outputs": [
    {
     "name": "stdout",
     "output_type": "stream",
     "text": [
      "Scores with threshold adjusment\n"
     ]
    },
    {
     "data": {
      "image/png": "[encoded data removed]",
      "text/plain": [
       "<Figure size 640x480 with 1 Axes>"
      ]
     },
     "metadata": {},
     "output_type": "display_data"
    },
    {
     "name": "stdout",
     "output_type": "stream",
     "text": [
      "Threshold=0.242, FPR=0.249, TPR=0.493\n",
      "Test brier: 0.312\n",
      "Test F1: 0.413\n",
      "Leaderboard Brier: 0.421\n",
      "              precision    recall  f1-score   support\n",
      "\n",
      "         0.0       0.78      0.58      0.67       383\n",
      "         1.0       0.35      0.58      0.43       147\n",
      "\n",
      "    accuracy                           0.58       530\n",
      "   macro avg       0.56      0.58      0.55       530\n",
      "weighted avg       0.66      0.58      0.60       530\n",
      "\n",
      "Leaderboard F1: 0.433\n"
     ]
    }
   ],
   "source": [
    "score_classifier(model_job, target='jobTraining', holdout=None, test=test,leaderboard=leaderboard)"
   ]
  },
  {
   "cell_type": "markdown",
   "metadata": {},
   "source": [
    "# Layoff"
   ]
  },
  {
   "cell_type": "code",
   "execution_count": 20,
   "metadata": {},
   "outputs": [
    {
     "name": "stdout",
     "output_type": "stream",
     "text": [
      "(1026, 1204) (1026,)\n",
      "N. of numerical features: 106\n",
      "N. of binary features: 570\n",
      "N. of categorical features: 114\n",
      "N. of ordinal features: 414\n"
     ]
    }
   ],
   "source": [
    "model_layoff = run_model(train, test, target='layoff', classifier=True)"
   ]
  },
  {
   "cell_type": "code",
   "execution_count": 21,
   "metadata": {},
   "outputs": [
    {
     "name": "stdout",
     "output_type": "stream",
     "text": [
      "Scores without threshold adjusment\n",
      "Test Brier: 0.1992\n",
      "Test F1: 0.0000\n",
      "Leaderboard Brier: 0.2245\n",
      "Number of positive predictions: 0.0\n",
      ">> Leaderboard F1: 0.0000\n",
      "Leaderboard Accuracy: 0.7755\n",
      "Leaderboard Recall: 0.0000\n"
     ]
    }
   ],
   "source": [
    "score_model(model_layoff, target='layoff',test=test, leaderboard=leaderboard, classifier=True, holdout=None)"
   ]
  },
  {
   "cell_type": "code",
   "execution_count": 22,
   "metadata": {},
   "outputs": [
    {
     "name": "stdout",
     "output_type": "stream",
     "text": [
      "Scores with threshold adjusment\n"
     ]
    },
    {
     "data": {
      "image/png": "[encoded data removed]",
      "text/plain": [
       "<Figure size 640x480 with 1 Axes>"
      ]
     },
     "metadata": {},
     "output_type": "display_data"
    },
    {
     "name": "stdout",
     "output_type": "stream",
     "text": [
      "Threshold=0.184, FPR=0.766, TPR=0.880\n",
      "Test brier: 0.641\n",
      "Test F1: 0.348\n",
      "Leaderboard Brier: 0.660\n",
      "              precision    recall  f1-score   support\n",
      "\n",
      "         0.0       0.87      0.18      0.29       411\n",
      "         1.0       0.24      0.91      0.38       119\n",
      "\n",
      "    accuracy                           0.34       530\n",
      "   macro avg       0.55      0.54      0.34       530\n",
      "weighted avg       0.73      0.34      0.31       530\n",
      "\n",
      "Leaderboard F1: 0.382\n"
     ]
    }
   ],
   "source": [
    "score_classifier(model_layoff, target='layoff', holdout=None, test=test,leaderboard=leaderboard)"
   ]
  }
 ],
 "metadata": {
  "kernelspec": {
   "display_name": "Python 3 (ipykernel)",
   "language": "python",
   "name": "python3"
  },
  "language_info": {
   "codemirror_mode": {
    "name": "ipython",
    "version": 3
   },
   "file_extension": ".py",
   "mimetype": "text/x-python",
   "name": "python",
   "nbconvert_exporter": "python",
   "pygments_lexer": "ipython3",
   "version": "3.10.6"
  }
 },
 "nbformat": 4,
 "nbformat_minor": 2
}
