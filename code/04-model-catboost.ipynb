{
 "cells": [
  {
   "cell_type": "code",
   "execution_count": 40,
   "metadata": {},
   "outputs": [],
   "source": [
    "import imblearn\n",
    "from imblearn.pipeline import Pipeline as imbPipeline\n",
    "from imblearn.over_sampling import SMOTE\n",
    "from ff_custom_scripts import *\n",
    "\n",
    "from sklearn.ensemble import RandomForestRegressor\n",
    "from sklearn.feature_selection import SelectFromModel\n",
    "\n",
    "from sklearn.impute import KNNImputer\n",
    "\n",
    "from sklearn.impute import SimpleImputer\n",
    "from sklearn.metrics import f1_score\n",
    "# import catboost as cb\n",
    "from catboost import CatBoostClassifier, Pool, cv, CatBoostRegressor\n",
    "# import gridsearchcv\n",
    "from sklearn.model_selection import GridSearchCV\n"
   ]
  },
  {
   "cell_type": "code",
   "execution_count": 41,
   "metadata": {},
   "outputs": [
    {
     "name": "stdout",
     "output_type": "stream",
     "text": [
      "(1172, 1210) (294, 1210) (530, 1210) (1111, 1210)\n"
     ]
    }
   ],
   "source": [
    "train, test,leaderboard,holdout = load_files(nanvalues='keep')\n",
    "\n",
    "print(train.shape, test.shape,leaderboard.shape,holdout.shape)"
   ]
  },
  {
   "cell_type": "code",
   "execution_count": 42,
   "metadata": {},
   "outputs": [
    {
     "data": {
      "text/plain": [
       "[0.06, 0.94]"
      ]
     },
     "execution_count": 42,
     "metadata": {},
     "output_type": "execute_result"
    }
   ],
   "source": [
    "def get_weights(df,target):\n",
    "    weights = df[target].value_counts(normalize=True)\n",
    "    w1 = weights[0].round(2)\n",
    "    w2 = weights[1].round(2)\n",
    "    return [w2, w1]\n",
    "\n",
    "get_weights(train,'eviction')"
   ]
  },
  {
   "cell_type": "markdown",
   "metadata": {},
   "source": [
    "# Model"
   ]
  },
  {
   "cell_type": "code",
   "execution_count": 43,
   "metadata": {},
   "outputs": [],
   "source": [
    "def run_model(train, test, target='gpa', classifier=False):\n",
    "\n",
    "    catcols = train.select_dtypes(include=['category']).columns\n",
    "    train[catcols] = train[catcols].astype(str)\n",
    "    test[catcols] = test[catcols].astype(str)\n",
    "\n",
    "    X_train, y_train = prepare_data(train, target)\n",
    "    X_test, y_test = prepare_data(test, target)\n",
    "\n",
    "    print(X_train.shape, y_train.shape)\n",
    "\n",
    "    numerical_features = cols_per_type(X_train, 'Continuous')\n",
    "    print(f'N. of numerical features: {len(numerical_features)}')\n",
    "    ordinal_features = cols_per_type(X_train, 'Ordered Categorical')\n",
    "    binary_features = cols_per_type(X_train, 'Binary')\n",
    "    print(f'N. of binary features: {len(binary_features)}')\n",
    "    categorical_features = cols_per_type(X_train, 'Unordered Categorical')\n",
    "    print(f'N. of categorical features: {len(categorical_features)}')\n",
    "    print(f'N. of ordinal features: {len(ordinal_features)}')\n",
    "    \n",
    "    iter = 20_000\n",
    "\n",
    "    if classifier:\n",
    "        # score = 'neg_brier_score'\n",
    "        catboost = CatBoostClassifier(\n",
    "            thread_count=-1, cat_features=categorical_features, verbose=0,random_seed=88,class_weights=get_weights(train,target))\n",
    "    else:\n",
    "        \n",
    "        catboost = CatBoostRegressor(thread_count=-1, cat_features=categorical_features, random_seed=88, \n",
    "                                     iterations=iter, early_stopping_rounds=iter*0.1,verbose=10)\n",
    "\n",
    "    #     score = 'neg_mean_squared_error'\n",
    "\n",
    "    # param_grid = {\n",
    "    #     'learning_rate': [0.005, 0.02],\n",
    "    #     'depth': [4, 8],\n",
    "    #     'l2_leaf_reg': [2, 3],\n",
    "    #     'bagging_temperature': [0.5, 1],\n",
    "    # }\n",
    "\n",
    "    # model = BayesSearchCV(catboost, param_grid, cv=5, n_jobs=-1, scoring=score, verbose=20,\n",
    "    #                        n_iter=10).fit(X_train, y_train, eval_set=(X_test, y_test), use_best_model=True, verbose=0)\n",
    "    \n",
    "    model = catboost.fit(X_train, y_train, eval_set=(X_test, y_test), use_best_model=True, verbose=0)\n",
    "\n",
    "    return model\n",
    "\n",
    "\n",
    "def mse_error(model, data, target='gpa'):\n",
    "    X, y = prepare_data(data, target)\n",
    "    y_pred = model.predict(X)\n",
    "    return mean_squared_error(y, y_pred)"
   ]
  },
  {
   "cell_type": "markdown",
   "metadata": {},
   "source": [
    "# GPA"
   ]
  },
  {
   "cell_type": "code",
   "execution_count": 44,
   "metadata": {},
   "outputs": [
    {
     "name": "stdout",
     "output_type": "stream",
     "text": [
      "(929, 1204) (929,)\n",
      "N. of numerical features: 106\n",
      "N. of binary features: 570\n",
      "N. of categorical features: 114\n",
      "N. of ordinal features: 414\n"
     ]
    }
   ],
   "source": [
    "gpa_model = run_model(train,test,target='gpa', classifier=False)"
   ]
  },
  {
   "cell_type": "code",
   "execution_count": 45,
   "metadata": {},
   "outputs": [
    {
     "data": {
      "text/plain": [
       "0.3953156309294618"
      ]
     },
     "execution_count": 45,
     "metadata": {},
     "output_type": "execute_result"
    }
   ],
   "source": [
    "mse_error(gpa_model, test, target='gpa')"
   ]
  },
  {
   "cell_type": "code",
   "execution_count": 46,
   "metadata": {},
   "outputs": [
    {
     "data": {
      "text/plain": [
       "0.381353768793594"
      ]
     },
     "execution_count": 46,
     "metadata": {},
     "output_type": "execute_result"
    }
   ],
   "source": [
    "mse_error(gpa_model, leaderboard, target='gpa')"
   ]
  },
  {
   "cell_type": "markdown",
   "metadata": {},
   "source": [
    "# Material Hardship"
   ]
  },
  {
   "cell_type": "code",
   "execution_count": 47,
   "metadata": {},
   "outputs": [
    {
     "name": "stdout",
     "output_type": "stream",
     "text": [
      "(1167, 1204) (1167,)\n",
      "N. of numerical features: 106\n",
      "N. of binary features: 570\n",
      "N. of categorical features: 114\n",
      "N. of ordinal features: 414\n"
     ]
    }
   ],
   "source": [
    "model_materialHardship = run_model(train,test, target='materialHardship', classifier=False)"
   ]
  },
  {
   "cell_type": "code",
   "execution_count": 48,
   "metadata": {},
   "outputs": [
    {
     "data": {
      "text/plain": [
       "0.019935158005541707"
      ]
     },
     "execution_count": 48,
     "metadata": {},
     "output_type": "execute_result"
    }
   ],
   "source": [
    "mse_error(model_materialHardship, test, target='materialHardship')"
   ]
  },
  {
   "cell_type": "code",
   "execution_count": 49,
   "metadata": {},
   "outputs": [
    {
     "data": {
      "text/plain": [
       "0.024591579104201622"
      ]
     },
     "execution_count": 49,
     "metadata": {},
     "output_type": "execute_result"
    }
   ],
   "source": [
    "mse_error(model_materialHardship, leaderboard, target='materialHardship')"
   ]
  },
  {
   "cell_type": "markdown",
   "metadata": {},
   "source": [
    "# Grit\n"
   ]
  },
  {
   "cell_type": "code",
   "execution_count": 50,
   "metadata": {},
   "outputs": [
    {
     "name": "stdout",
     "output_type": "stream",
     "text": [
      "(1134, 1204) (1134,)\n",
      "N. of numerical features: 106\n",
      "N. of binary features: 570\n",
      "N. of categorical features: 114\n",
      "N. of ordinal features: 414\n"
     ]
    }
   ],
   "source": [
    "model_grit = run_model(train,test, target='grit', classifier=False)"
   ]
  },
  {
   "cell_type": "code",
   "execution_count": 51,
   "metadata": {},
   "outputs": [
    {
     "data": {
      "text/plain": [
       "0.2142759524687608"
      ]
     },
     "execution_count": 51,
     "metadata": {},
     "output_type": "execute_result"
    }
   ],
   "source": [
    "mse_error(model_grit, test, target='grit')"
   ]
  },
  {
   "cell_type": "code",
   "execution_count": 52,
   "metadata": {},
   "outputs": [
    {
     "data": {
      "text/plain": [
       "0.22869351329090482"
      ]
     },
     "execution_count": 52,
     "metadata": {},
     "output_type": "execute_result"
    }
   ],
   "source": [
    "mse_error(model_grit, leaderboard, target='grit')"
   ]
  },
  {
   "cell_type": "markdown",
   "metadata": {},
   "source": [
    "# Eviction"
   ]
  },
  {
   "cell_type": "code",
   "execution_count": 53,
   "metadata": {},
   "outputs": [
    {
     "name": "stdout",
     "output_type": "stream",
     "text": [
      "(1167, 1204) (1167,)\n",
      "N. of numerical features: 106\n",
      "N. of binary features: 570\n",
      "N. of categorical features: 114\n",
      "N. of ordinal features: 414\n"
     ]
    }
   ],
   "source": [
    "model_eviction = run_model(train,test,target='eviction', classifier=True)"
   ]
  },
  {
   "cell_type": "code",
   "execution_count": 54,
   "metadata": {},
   "outputs": [
    {
     "name": "stdout",
     "output_type": "stream",
     "text": [
      "Scores without threshold adjusment\n",
      "Test Brier: 0.1610\n",
      "Test F1: 0.2034\n",
      "Leaderboard Brier: 0.1377\n",
      "Number of positive predictions: 55.0\n",
      ">> Leaderboard F1: 0.1412\n",
      "Leaderboard Accuracy: 0.8623\n",
      "Leaderboard Recall: 0.2000\n"
     ]
    }
   ],
   "source": [
    "score_model(model_eviction, target='eviction',test=test, leaderboard=leaderboard, classifier=True, holdout=None)"
   ]
  },
  {
   "cell_type": "code",
   "execution_count": 55,
   "metadata": {},
   "outputs": [
    {
     "name": "stdout",
     "output_type": "stream",
     "text": [
      "Scores with threshold adjusment\n"
     ]
    },
    {
     "data": {
      "image/png": "[encoded data removed]",
      "text/plain": [
       "<Figure size 640x480 with 1 Axes>"
      ]
     },
     "metadata": {},
     "output_type": "display_data"
    },
    {
     "name": "stdout",
     "output_type": "stream",
     "text": [
      "Threshold=0.464, FPR=0.300, TPR=0.667\n",
      "Test brier: 0.305\n",
      "Test F1: 0.168\n",
      "Leaderboard Brier: 0.264\n",
      "              precision    recall  f1-score   support\n",
      "\n",
      "         0.0       0.96      0.75      0.84       500\n",
      "         1.0       0.11      0.53      0.19        30\n",
      "\n",
      "    accuracy                           0.74       530\n",
      "   macro avg       0.54      0.64      0.51       530\n",
      "weighted avg       0.92      0.74      0.81       530\n",
      "\n",
      "Leaderboard F1: 0.186\n"
     ]
    }
   ],
   "source": [
    "score_classifier(model_eviction, target='eviction', holdout=None, test=test,leaderboard=leaderboard)"
   ]
  },
  {
   "cell_type": "markdown",
   "metadata": {},
   "source": [
    "# jobTraining"
   ]
  },
  {
   "cell_type": "code",
   "execution_count": 56,
   "metadata": {},
   "outputs": [
    {
     "name": "stdout",
     "output_type": "stream",
     "text": [
      "(1169, 1204) (1169,)\n",
      "N. of numerical features: 106\n",
      "N. of binary features: 570\n",
      "N. of categorical features: 114\n",
      "N. of ordinal features: 414\n"
     ]
    }
   ],
   "source": [
    "model_job = run_model(train,test,target='jobTraining', classifier=True)"
   ]
  },
  {
   "cell_type": "code",
   "execution_count": 57,
   "metadata": {},
   "outputs": [
    {
     "name": "stdout",
     "output_type": "stream",
     "text": [
      "Scores without threshold adjusment\n",
      "Test Brier: 0.2432\n",
      "Test F1: 0.4662\n",
      "Leaderboard Brier: 0.3340\n",
      "Number of positive predictions: 116.0\n",
      ">> Leaderboard F1: 0.3270\n",
      "Leaderboard Accuracy: 0.6660\n",
      "Leaderboard Recall: 0.2925\n"
     ]
    }
   ],
   "source": [
    "score_model(model_job, target='jobTraining',test=test, leaderboard=leaderboard, classifier=True, holdout=None)"
   ]
  },
  {
   "cell_type": "code",
   "execution_count": 58,
   "metadata": {},
   "outputs": [
    {
     "name": "stdout",
     "output_type": "stream",
     "text": [
      "Scores with threshold adjusment\n"
     ]
    },
    {
     "data": {
      "image/png": "[encoded data removed]",
      "text/plain": [
       "<Figure size 640x480 with 1 Axes>"
      ]
     },
     "metadata": {},
     "output_type": "display_data"
    },
    {
     "name": "stdout",
     "output_type": "stream",
     "text": [
      "Threshold=0.453, FPR=0.262, TPR=0.627\n",
      "Test brier: 0.291\n",
      "Test F1: 0.491\n",
      "Leaderboard Brier: 0.392\n",
      "              precision    recall  f1-score   support\n",
      "\n",
      "         0.0       0.75      0.68      0.72       383\n",
      "         1.0       0.33      0.41      0.37       147\n",
      "\n",
      "    accuracy                           0.61       530\n",
      "   macro avg       0.54      0.55      0.54       530\n",
      "weighted avg       0.63      0.61      0.62       530\n",
      "\n",
      "Leaderboard F1: 0.366\n"
     ]
    }
   ],
   "source": [
    "score_classifier(model_job, target='jobTraining', holdout=None, test=test,leaderboard=leaderboard)"
   ]
  },
  {
   "cell_type": "markdown",
   "metadata": {},
   "source": [
    "# Layoff"
   ]
  },
  {
   "cell_type": "code",
   "execution_count": 59,
   "metadata": {},
   "outputs": [
    {
     "name": "stdout",
     "output_type": "stream",
     "text": [
      "(1026, 1204) (1026,)\n",
      "N. of numerical features: 106\n",
      "N. of binary features: 570\n",
      "N. of categorical features: 114\n",
      "N. of ordinal features: 414\n"
     ]
    }
   ],
   "source": [
    "model_layoff = run_model(train, test, target='layoff', classifier=True)"
   ]
  },
  {
   "cell_type": "code",
   "execution_count": 60,
   "metadata": {},
   "outputs": [
    {
     "name": "stdout",
     "output_type": "stream",
     "text": [
      "Scores without threshold adjusment\n",
      "Test Brier: 0.4104\n",
      "Test F1: 0.2797\n",
      "Leaderboard Brier: 0.4038\n",
      "Number of positive predictions: 191.0\n",
      ">> Leaderboard F1: 0.3097\n",
      "Leaderboard Accuracy: 0.5962\n",
      "Leaderboard Recall: 0.4034\n"
     ]
    }
   ],
   "source": [
    "score_model(model_layoff, target='layoff',test=test, leaderboard=leaderboard, classifier=True, holdout=None)"
   ]
  },
  {
   "cell_type": "code",
   "execution_count": 61,
   "metadata": {},
   "outputs": [
    {
     "name": "stdout",
     "output_type": "stream",
     "text": [
      "Scores with threshold adjusment\n"
     ]
    },
    {
     "data": {
      "image/png": "[encoded data removed]",
      "text/plain": [
       "<Figure size 640x480 with 1 Axes>"
      ]
     },
     "metadata": {},
     "output_type": "display_data"
    },
    {
     "name": "stdout",
     "output_type": "stream",
     "text": [
      "Threshold=0.495, FPR=0.502, TPR=0.620\n",
      "Test brier: 0.482\n",
      "Test F1: 0.331\n",
      "Leaderboard Brier: 0.453\n",
      "              precision    recall  f1-score   support\n",
      "\n",
      "         0.0       0.80      0.55      0.65       411\n",
      "         1.0       0.26      0.53      0.34       119\n",
      "\n",
      "    accuracy                           0.55       530\n",
      "   macro avg       0.53      0.54      0.50       530\n",
      "weighted avg       0.68      0.55      0.58       530\n",
      "\n",
      "Leaderboard F1: 0.344\n"
     ]
    }
   ],
   "source": [
    "score_classifier(model_layoff, target='layoff', holdout=None, test=test,leaderboard=leaderboard)"
   ]
  }
 ],
 "metadata": {
  "kernelspec": {
   "display_name": "Python 3 (ipykernel)",
   "language": "python",
   "name": "python3"
  },
  "language_info": {
   "codemirror_mode": {
    "name": "ipython",
    "version": 3
   },
   "file_extension": ".py",
   "mimetype": "text/x-python",
   "name": "python",
   "nbconvert_exporter": "python",
   "pygments_lexer": "ipython3",
   "version": "3.10.6"
  }
 },
 "nbformat": 4,
 "nbformat_minor": 2
}
