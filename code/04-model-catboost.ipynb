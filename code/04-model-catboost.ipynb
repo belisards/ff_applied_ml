{
 "cells": [
  {
   "cell_type": "code",
   "execution_count": 14,
   "metadata": {},
   "outputs": [],
   "source": [
    "from sklearn.preprocessing import OneHotEncoder, OrdinalEncoder\n",
    "from sklearn.compose import ColumnTransformer, make_column_transformer, TransformedTargetRegressor\n",
    "from sklearn.feature_selection import VarianceThreshold\n",
    "from sklearn.linear_model import LogisticRegression, Lasso\n",
    "from sklearn.dummy import DummyClassifier\n",
    "from sklearn.metrics import mean_squared_error, r2_score, brier_score_loss, f1_score\n",
    "from sklearn.model_selection import cross_validate\n",
    "from xgboost import XGBClassifier, XGBRegressor\n",
    "from skopt import BayesSearchCV\n",
    "import skopt.space as space\n",
    "import skopt.plots as plots\n",
    "import imblearn\n",
    "from imblearn.pipeline import Pipeline as imbPipeline\n",
    "from imblearn.over_sampling import SMOTE\n",
    "from ff_custom_scripts import *\n",
    "\n",
    "from sklearn.ensemble import RandomForestRegressor\n",
    "from sklearn.feature_selection import SelectFromModel\n",
    "\n",
    "from sklearn.impute import KNNImputer\n",
    "\n",
    "from sklearn.impute import SimpleImputer\n",
    "from sklearn.metrics import f1_score\n",
    "# import catboost as cb\n",
    "from catboost import CatBoostClassifier, Pool, cv, CatBoostRegressor\n",
    "# import gridsearchcv\n",
    "from sklearn.model_selection import GridSearchCV\n"
   ]
  },
  {
   "cell_type": "code",
   "execution_count": 15,
   "metadata": {},
   "outputs": [
    {
     "name": "stdout",
     "output_type": "stream",
     "text": [
      "(1172, 1437) (294, 1437) (530, 1437) (803, 1437)\n"
     ]
    }
   ],
   "source": [
    "train, test,leaderboard,holdout = load_files(nanvalues='keep')\n",
    "\n",
    "alldata = pd.concat([train, test]) # all data available for training in the FF Challenge\n",
    "\n",
    "print(train.shape, test.shape,leaderboard.shape,holdout.shape)"
   ]
  },
  {
   "cell_type": "code",
   "execution_count": 16,
   "metadata": {},
   "outputs": [
    {
     "name": "stdout",
     "output_type": "stream",
     "text": [
      "<class 'pandas.core.frame.DataFrame'>\n",
      "Int64Index: 1172 entries, 1824 to 3219\n",
      "Columns: 469 entries, f1b26 to cm5povca\n",
      "dtypes: float64(469)\n",
      "memory usage: 4.2 MB\n"
     ]
    }
   ],
   "source": [
    "train[(cols_per_type(train, 'Ordered Categorical'))].info()"
   ]
  },
  {
   "cell_type": "code",
   "execution_count": 17,
   "metadata": {},
   "outputs": [
    {
     "data": {
      "text/html": [
       "<div>\n",
       "<style scoped>\n",
       "    .dataframe tbody tr th:only-of-type {\n",
       "        vertical-align: middle;\n",
       "    }\n",
       "\n",
       "    .dataframe tbody tr th {\n",
       "        vertical-align: top;\n",
       "    }\n",
       "\n",
       "    .dataframe thead th {\n",
       "        text-align: right;\n",
       "    }\n",
       "</style>\n",
       "<table border=\"1\" class=\"dataframe\">\n",
       "  <thead>\n",
       "    <tr style=\"text-align: right;\">\n",
       "      <th></th>\n",
       "      <th>varlab</th>\n",
       "      <th>type</th>\n",
       "      <th>one_topic</th>\n",
       "      <th>dtype</th>\n",
       "    </tr>\n",
       "    <tr>\n",
       "      <th>new_name</th>\n",
       "      <th></th>\n",
       "      <th></th>\n",
       "      <th></th>\n",
       "      <th></th>\n",
       "    </tr>\n",
       "  </thead>\n",
       "  <tbody>\n",
       "    <tr>\n",
       "      <th>f1a2</th>\n",
       "      <td>Were you present at the birth?</td>\n",
       "      <td>Binary</td>\n",
       "      <td>parenting</td>\n",
       "      <td>float64</td>\n",
       "    </tr>\n",
       "    <tr>\n",
       "      <th>f1a3</th>\n",
       "      <td>Have you held baby(ies)?</td>\n",
       "      <td>Binary</td>\n",
       "      <td>parenting</td>\n",
       "      <td>float64</td>\n",
       "    </tr>\n",
       "    <tr>\n",
       "      <th>f1a4</th>\n",
       "      <td>Will the baby(ies) have your last name?</td>\n",
       "      <td>Binary</td>\n",
       "      <td>parenting</td>\n",
       "      <td>float64</td>\n",
       "    </tr>\n",
       "    <tr>\n",
       "      <th>f1a5</th>\n",
       "      <td>Will your name be on the birth certificate?</td>\n",
       "      <td>Binary</td>\n",
       "      <td>parenting</td>\n",
       "      <td>float64</td>\n",
       "    </tr>\n",
       "    <tr>\n",
       "      <th>f1a6</th>\n",
       "      <td>Do you have other biological children?</td>\n",
       "      <td>Binary</td>\n",
       "      <td>health_and_health_behavior</td>\n",
       "      <td>float64</td>\n",
       "    </tr>\n",
       "  </tbody>\n",
       "</table>\n",
       "</div>"
      ],
      "text/plain": [
       "                                               varlab    type  \\\n",
       "new_name                                                        \n",
       "f1a2                   Were you present at the birth?  Binary   \n",
       "f1a3                         Have you held baby(ies)?  Binary   \n",
       "f1a4          Will the baby(ies) have your last name?  Binary   \n",
       "f1a5      Will your name be on the birth certificate?  Binary   \n",
       "f1a6           Do you have other biological children?  Binary   \n",
       "\n",
       "                           one_topic    dtype  \n",
       "new_name                                       \n",
       "f1a2                       parenting  float64  \n",
       "f1a3                       parenting  float64  \n",
       "f1a4                       parenting  float64  \n",
       "f1a5                       parenting  float64  \n",
       "f1a6      health_and_health_behavior  float64  "
      ]
     },
     "execution_count": 17,
     "metadata": {},
     "output_type": "execute_result"
    }
   ],
   "source": [
    "meta.head(5)"
   ]
  },
  {
   "cell_type": "markdown",
   "metadata": {},
   "source": [
    "# Model"
   ]
  },
  {
   "cell_type": "code",
   "execution_count": 44,
   "metadata": {},
   "outputs": [],
   "source": [
    "def run_model(train, test, target='gpa', classifier=False):\n",
    "\n",
    "    catcols = train.select_dtypes(include=['category']).columns\n",
    "    # transform to string\n",
    "    train[catcols] = train[catcols].astype(str)\n",
    "    test[catcols] = test[catcols].astype(str)\n",
    "    \n",
    "\n",
    "    X_train, y_train = prepare_data(train, target)\n",
    "    X_test, y_test = prepare_data(test, target)\n",
    "\n",
    "\n",
    "    print(X_train.shape, y_train.shape)\n",
    "    \n",
    "\n",
    "    numerical_features = cols_per_type(X_train, 'Continuous')\n",
    "    print(f'Total number of numerical features: {len(numerical_features)}')\n",
    "    ordinal_features = cols_per_type(X_train, 'Ordered Categorical')\n",
    "    binary_features = cols_per_type(X_train, 'Binary')\n",
    "    print(f'Total number of binary features: {len(binary_features)}')\n",
    "    categorical_features = cols_per_type(X_train, 'Unordered Categorical')\n",
    "    print(f'Total number of categorical features: {len(categorical_features)}')\n",
    "    print(f'Total number of ordinal features: {len(ordinal_features)}')\n",
    "\n",
    "\n",
    "\n",
    "    if classifier:\n",
    "        score = 'neg_brier_score'\n",
    "        catboost = CatBoostClassifier(\n",
    "            eval_metric='Logloss', loss_function='Logloss', thread_count=-1,cat_features=categorical_features,verbose=0)\n",
    "        # search_space.update({'regressor__scale_pos_weight': space.Integer(2, 17)}\n",
    "        \n",
    "    else:\n",
    "        catboost = CatBoostRegressor(thread_count=-1,cat_features=categorical_features, random_seed=123,\n",
    "                                     iterations=20_000,early_stopping_rounds=1_000)\n",
    "        \n",
    "        score = 'neg_mean_squared_error'\n",
    "\n",
    "\n",
    "    param_grid = {\n",
    "        'learning_rate': [0.01, 0.1],\n",
    "        'depth': [4, 10],\n",
    "        'l2_leaf_reg': [2, 5],\n",
    "    }\n",
    "\n",
    "    \n",
    "    # model = GridSearchCV(catboost, parameters, cv=5, n_jobs=-1, verbose=0, scoring=score)\n",
    "\n",
    "    # model = catboost.fit(X_train, y_train, eval_set=(X_test, y_test), use_best_model=True, verbose=100,plot=True)\n",
    "\n",
    "    # grid search\n",
    "\n",
    "    # model = GridSearchCV(catboost, param_grid, cv=5, n_jobs=-1,scoring=score).fit(X_train, y_train, eval_set=(X_test, y_test), use_best_model=True, verbose=1_000)\n",
    "    # bayes search\n",
    "    model = BayesSearchCV(catboost, param_grid, cv=5, n_jobs=-1,scoring=score,verbose=20,n_iter=5).fit(X_train, y_train, eval_set=(X_test, y_test), use_best_model=True, verbose=0)\n",
    "\n",
    "    return model\n"
   ]
  },
  {
   "cell_type": "markdown",
   "metadata": {},
   "source": [
    "# GPA"
   ]
  },
  {
   "cell_type": "code",
   "execution_count": 19,
   "metadata": {},
   "outputs": [
    {
     "name": "stdout",
     "output_type": "stream",
     "text": [
      "(937, 1431) (937,)\n",
      "Total number of numerical features: 135\n",
      "Total number of binary features: 692\n",
      "Total number of categorical features: 135\n",
      "Total number of ordinal features: 469\n",
      "Fitting 5 folds for each of 1 candidates, totalling 5 fits\n",
      "[CV 1/5; 1/1] START depth=6, l2_leaf_reg=2, learning_rate=0.034707855520970124..\n",
      "[CV 2/5; 1/1] START depth=6, l2_leaf_reg=2, learning_rate=0.034707855520970124..\n",
      "[CV 4/5; 1/1] START depth=6, l2_leaf_reg=2, learning_rate=0.034707855520970124..\n",
      "[CV 5/5; 1/1] START depth=6, l2_leaf_reg=2, learning_rate=0.034707855520970124..\n",
      "[CV 3/5; 1/1] START depth=6, l2_leaf_reg=2, learning_rate=0.034707855520970124..\n",
      "[CV 2/5; 1/1] END depth=6, l2_leaf_reg=2, learning_rate=0.034707855520970124;, score=-0.439 total time= 2.8min\n",
      "[CV 4/5; 1/1] END depth=6, l2_leaf_reg=2, learning_rate=0.034707855520970124;, score=-0.347 total time= 2.8min\n",
      "[CV 1/5; 1/1] END depth=6, l2_leaf_reg=2, learning_rate=0.034707855520970124;, score=-0.361 total time= 2.8min\n",
      "[CV 5/5; 1/1] END depth=6, l2_leaf_reg=2, learning_rate=0.034707855520970124;, score=-0.398 total time= 2.8min\n",
      "[CV 3/5; 1/1] END depth=6, l2_leaf_reg=2, learning_rate=0.034707855520970124;, score=-0.355 total time= 2.9min\n",
      "Fitting 5 folds for each of 1 candidates, totalling 5 fits\n",
      "[CV 1/5; 1/1] START depth=8, l2_leaf_reg=4, learning_rate=0.04491811385421353...\n",
      "[CV 2/5; 1/1] START depth=8, l2_leaf_reg=4, learning_rate=0.04491811385421353...\n",
      "[CV 3/5; 1/1] START depth=8, l2_leaf_reg=4, learning_rate=0.04491811385421353...\n",
      "[CV 4/5; 1/1] START depth=8, l2_leaf_reg=4, learning_rate=0.04491811385421353...\n",
      "[CV 5/5; 1/1] START depth=8, l2_leaf_reg=4, learning_rate=0.04491811385421353...\n",
      "[CV 4/5; 1/1] END depth=8, l2_leaf_reg=4, learning_rate=0.04491811385421353;, score=-0.357 total time= 5.1min\n",
      "[CV 3/5; 1/1] END depth=8, l2_leaf_reg=4, learning_rate=0.04491811385421353;, score=-0.373 total time= 5.1min\n",
      "[CV 1/5; 1/1] END depth=8, l2_leaf_reg=4, learning_rate=0.04491811385421353;, score=-0.370 total time= 5.2min\n",
      "[CV 5/5; 1/1] END depth=8, l2_leaf_reg=4, learning_rate=0.04491811385421353;, score=-0.391 total time= 5.5min\n",
      "[CV 2/5; 1/1] END depth=8, l2_leaf_reg=4, learning_rate=0.04491811385421353;, score=-0.428 total time= 5.9min\n",
      "Fitting 5 folds for each of 1 candidates, totalling 5 fits\n",
      "[CV 1/5; 1/1] START depth=5, l2_leaf_reg=4, learning_rate=0.039971487121568575..\n",
      "[CV 2/5; 1/1] START depth=5, l2_leaf_reg=4, learning_rate=0.039971487121568575..\n",
      "[CV 3/5; 1/1] START depth=5, l2_leaf_reg=4, learning_rate=0.039971487121568575..\n",
      "[CV 4/5; 1/1] START depth=5, l2_leaf_reg=4, learning_rate=0.039971487121568575..\n",
      "[CV 5/5; 1/1] START depth=5, l2_leaf_reg=4, learning_rate=0.039971487121568575..\n",
      "[CV 4/5; 1/1] END depth=5, l2_leaf_reg=4, learning_rate=0.039971487121568575;, score=-0.347 total time= 1.8min\n",
      "[CV 3/5; 1/1] END depth=5, l2_leaf_reg=4, learning_rate=0.039971487121568575;, score=-0.364 total time= 1.9min\n",
      "[CV 2/5; 1/1] END depth=5, l2_leaf_reg=4, learning_rate=0.039971487121568575;, score=-0.443 total time= 1.9min\n",
      "[CV 5/5; 1/1] END depth=5, l2_leaf_reg=4, learning_rate=0.039971487121568575;, score=-0.387 total time= 1.9min\n",
      "[CV 1/5; 1/1] END depth=5, l2_leaf_reg=4, learning_rate=0.039971487121568575;, score=-0.360 total time= 1.9min\n",
      "Fitting 5 folds for each of 1 candidates, totalling 5 fits\n",
      "[CV 1/5; 1/1] START depth=9, l2_leaf_reg=3, learning_rate=0.0373681660859141....[CV 2/5; 1/1] START depth=9, l2_leaf_reg=3, learning_rate=0.0373681660859141....\n",
      "\n",
      "[CV 3/5; 1/1] START depth=9, l2_leaf_reg=3, learning_rate=0.0373681660859141....\n",
      "[CV 4/5; 1/1] START depth=9, l2_leaf_reg=3, learning_rate=0.0373681660859141....\n",
      "[CV 5/5; 1/1] START depth=9, l2_leaf_reg=3, learning_rate=0.0373681660859141....\n",
      "[CV 2/5; 1/1] END depth=9, l2_leaf_reg=3, learning_rate=0.0373681660859141;, score=-0.449 total time= 6.7min\n",
      "[CV 3/5; 1/1] END depth=9, l2_leaf_reg=3, learning_rate=0.0373681660859141;, score=-0.365 total time= 7.1min\n",
      "[CV 5/5; 1/1] END depth=9, l2_leaf_reg=3, learning_rate=0.0373681660859141;, score=-0.394 total time= 7.1min\n",
      "[CV 4/5; 1/1] END depth=9, l2_leaf_reg=3, learning_rate=0.0373681660859141;, score=-0.352 total time= 7.1min\n",
      "[CV 1/5; 1/1] END depth=9, l2_leaf_reg=3, learning_rate=0.0373681660859141;, score=-0.353 total time= 7.2min\n",
      "Fitting 5 folds for each of 1 candidates, totalling 5 fits\n",
      "[CV 1/5; 1/1] START depth=7, l2_leaf_reg=4, learning_rate=0.03962223844972239...\n",
      "[CV 2/5; 1/1] START depth=7, l2_leaf_reg=4, learning_rate=0.03962223844972239...\n",
      "[CV 3/5; 1/1] START depth=7, l2_leaf_reg=4, learning_rate=0.03962223844972239...\n",
      "[CV 4/5; 1/1] START depth=7, l2_leaf_reg=4, learning_rate=0.03962223844972239...\n",
      "[CV 5/5; 1/1] START depth=7, l2_leaf_reg=4, learning_rate=0.03962223844972239...\n",
      "[CV 3/5; 1/1] END depth=7, l2_leaf_reg=4, learning_rate=0.03962223844972239;, score=-0.371 total time= 3.1min\n",
      "[CV 2/5; 1/1] END depth=7, l2_leaf_reg=4, learning_rate=0.03962223844972239;, score=-0.438 total time= 3.2min\n",
      "[CV 5/5; 1/1] END depth=7, l2_leaf_reg=4, learning_rate=0.03962223844972239;, score=-0.389 total time= 3.3min\n",
      "[CV 1/5; 1/1] END depth=7, l2_leaf_reg=4, learning_rate=0.03962223844972239;, score=-0.364 total time= 3.3min\n",
      "[CV 4/5; 1/1] END depth=7, l2_leaf_reg=4, learning_rate=0.03962223844972239;, score=-0.347 total time= 3.3min\n"
     ]
    }
   ],
   "source": [
    "# run_model(train, test, target='gpa', classifier=False).fit(X_train, y_train, eval_set=(X_test, y_test), use_best_model=True, verbose=0,plot=True)\n",
    "\n",
    "gpa_model = run_model(train,test,target='gpa', classifier=False)"
   ]
  },
  {
   "cell_type": "code",
   "execution_count": 20,
   "metadata": {},
   "outputs": [
    {
     "data": {
      "text/plain": [
       "-0.37983281274640024"
      ]
     },
     "execution_count": 20,
     "metadata": {},
     "output_type": "execute_result"
    }
   ],
   "source": [
    "gpa_model.best_score_"
   ]
  },
  {
   "cell_type": "code",
   "execution_count": 21,
   "metadata": {},
   "outputs": [],
   "source": [
    "# Woodcock-Johnson Test 10 standard score\n",
    "#  f3b3\t0.01004\tHow many times have you been apart for a week or more?\n",
    "#  m2c3j\t0.00904\tHow many days a week does father put child to bed?"
   ]
  },
  {
   "cell_type": "code",
   "execution_count": 22,
   "metadata": {},
   "outputs": [
    {
     "name": "stdout",
     "output_type": "stream",
     "text": [
      "Metric: mean_squared_error\n",
      "Best CV score: 0.3798\n",
      "Standard deviation of CV scores: 0.0321\n",
      "Mean CV score: 0.3817\n",
      "Test MSE: 0.4105\n",
      "Test R2: 0.0980\n",
      "Leaderboard MSE: 0.4748\n",
      "Leaderboard R2: -0.2155\n",
      "Holdout MSE: 0.5023\n",
      "Holdout R2: -0.1897\n"
     ]
    }
   ],
   "source": [
    "score_model(gpa_model,'gpa',test,leaderboard,holdout,classifier=False)"
   ]
  },
  {
   "cell_type": "code",
   "execution_count": 24,
   "metadata": {},
   "outputs": [],
   "source": [
    "# shap_show(gpa_model, alldata, target='gpa')"
   ]
  },
  {
   "cell_type": "markdown",
   "metadata": {},
   "source": [
    "# Material Hardship"
   ]
  },
  {
   "cell_type": "code",
   "execution_count": 26,
   "metadata": {},
   "outputs": [
    {
     "name": "stdout",
     "output_type": "stream",
     "text": [
      "(1167, 1431) (1167,)\n",
      "Total number of numerical features: 135\n",
      "Total number of binary features: 692\n",
      "Total number of categorical features: 135\n",
      "Total number of ordinal features: 469\n",
      "Fitting 5 folds for each of 1 candidates, totalling 5 fits\n",
      "[CV 1/5; 1/1] START depth=9, l2_leaf_reg=3, learning_rate=0.0653200687909089....\n",
      "[CV 3/5; 1/1] START depth=9, l2_leaf_reg=3, learning_rate=0.0653200687909089....\n",
      "[CV 2/5; 1/1] START depth=9, l2_leaf_reg=3, learning_rate=0.0653200687909089....\n",
      "[CV 5/5; 1/1] START depth=9, l2_leaf_reg=3, learning_rate=0.0653200687909089....[CV 4/5; 1/1] START depth=9, l2_leaf_reg=3, learning_rate=0.0653200687909089....\n",
      "\n",
      "[CV 2/5; 1/1] END depth=9, l2_leaf_reg=3, learning_rate=0.0653200687909089;, score=-0.022 total time= 6.9min\n",
      "[CV 1/5; 1/1] END depth=9, l2_leaf_reg=3, learning_rate=0.0653200687909089;, score=-0.019 total time= 7.0min\n",
      "[CV 5/5; 1/1] END depth=9, l2_leaf_reg=3, learning_rate=0.0653200687909089;, score=-0.020 total time= 7.1min\n",
      "[CV 4/5; 1/1] END depth=9, l2_leaf_reg=3, learning_rate=0.0653200687909089;, score=-0.018 total time= 7.3min\n",
      "[CV 3/5; 1/1] END depth=9, l2_leaf_reg=3, learning_rate=0.0653200687909089;, score=-0.021 total time= 7.7min\n",
      "Fitting 5 folds for each of 1 candidates, totalling 5 fits\n",
      "[CV 1/5; 1/1] START depth=8, l2_leaf_reg=2, learning_rate=0.043147769542643766..\n",
      "[CV 2/5; 1/1] START depth=8, l2_leaf_reg=2, learning_rate=0.043147769542643766..\n",
      "[CV 3/5; 1/1] START depth=8, l2_leaf_reg=2, learning_rate=0.043147769542643766..\n",
      "[CV 4/5; 1/1] START depth=8, l2_leaf_reg=2, learning_rate=0.043147769542643766..\n",
      "[CV 5/5; 1/1] START depth=8, l2_leaf_reg=2, learning_rate=0.043147769542643766..\n",
      "[CV 4/5; 1/1] END depth=8, l2_leaf_reg=2, learning_rate=0.043147769542643766;, score=-0.017 total time= 5.8min\n",
      "[CV 1/5; 1/1] END depth=8, l2_leaf_reg=2, learning_rate=0.043147769542643766;, score=-0.019 total time= 5.9min\n",
      "[CV 2/5; 1/1] END depth=8, l2_leaf_reg=2, learning_rate=0.043147769542643766;, score=-0.022 total time= 6.0min\n",
      "[CV 3/5; 1/1] END depth=8, l2_leaf_reg=2, learning_rate=0.043147769542643766;, score=-0.022 total time= 6.4min\n",
      "[CV 5/5; 1/1] END depth=8, l2_leaf_reg=2, learning_rate=0.043147769542643766;, score=-0.020 total time= 7.0min\n",
      "Fitting 5 folds for each of 1 candidates, totalling 5 fits\n",
      "[CV 1/5; 1/1] START depth=7, l2_leaf_reg=5, learning_rate=0.0898971579418676....\n",
      "[CV 2/5; 1/1] START depth=7, l2_leaf_reg=5, learning_rate=0.0898971579418676....\n",
      "[CV 3/5; 1/1] START depth=7, l2_leaf_reg=5, learning_rate=0.0898971579418676....\n",
      "[CV 4/5; 1/1] START depth=7, l2_leaf_reg=5, learning_rate=0.0898971579418676....\n",
      "[CV 5/5; 1/1] START depth=7, l2_leaf_reg=5, learning_rate=0.0898971579418676....\n",
      "[CV 5/5; 1/1] END depth=7, l2_leaf_reg=5, learning_rate=0.0898971579418676;, score=-0.020 total time= 3.5min\n",
      "[CV 1/5; 1/1] END depth=7, l2_leaf_reg=5, learning_rate=0.0898971579418676;, score=-0.019 total time= 3.8min\n",
      "[CV 4/5; 1/1] END depth=7, l2_leaf_reg=5, learning_rate=0.0898971579418676;, score=-0.018 total time= 3.9min\n",
      "[CV 2/5; 1/1] END depth=7, l2_leaf_reg=5, learning_rate=0.0898971579418676;, score=-0.022 total time= 3.9min\n",
      "[CV 3/5; 1/1] END depth=7, l2_leaf_reg=5, learning_rate=0.0898971579418676;, score=-0.021 total time= 3.9min\n",
      "Fitting 5 folds for each of 1 candidates, totalling 5 fits\n",
      "[CV 1/5; 1/1] START depth=5, l2_leaf_reg=3, learning_rate=0.03498615791691998...\n",
      "[CV 2/5; 1/1] START depth=5, l2_leaf_reg=3, learning_rate=0.03498615791691998...\n",
      "[CV 3/5; 1/1] START depth=5, l2_leaf_reg=3, learning_rate=0.03498615791691998...\n",
      "[CV 4/5; 1/1] START depth=5, l2_leaf_reg=3, learning_rate=0.03498615791691998...\n",
      "[CV 5/5; 1/1] START depth=5, l2_leaf_reg=3, learning_rate=0.03498615791691998...\n",
      "[CV 1/5; 1/1] END depth=5, l2_leaf_reg=3, learning_rate=0.03498615791691998;, score=-0.019 total time= 2.1min\n",
      "[CV 2/5; 1/1] END depth=5, l2_leaf_reg=3, learning_rate=0.03498615791691998;, score=-0.022 total time= 2.1min\n",
      "[CV 3/5; 1/1] END depth=5, l2_leaf_reg=3, learning_rate=0.03498615791691998;, score=-0.021 total time= 2.2min\n",
      "[CV 4/5; 1/1] END depth=5, l2_leaf_reg=3, learning_rate=0.03498615791691998;, score=-0.018 total time= 2.2min\n",
      "[CV 5/5; 1/1] END depth=5, l2_leaf_reg=3, learning_rate=0.03498615791691998;, score=-0.021 total time= 2.2min\n",
      "Fitting 5 folds for each of 1 candidates, totalling 5 fits\n",
      "[CV 1/5; 1/1] START depth=8, l2_leaf_reg=3, learning_rate=0.08756874214171077...\n",
      "[CV 2/5; 1/1] START depth=8, l2_leaf_reg=3, learning_rate=0.08756874214171077...\n",
      "[CV 3/5; 1/1] START depth=8, l2_leaf_reg=3, learning_rate=0.08756874214171077...\n",
      "[CV 4/5; 1/1] START depth=8, l2_leaf_reg=3, learning_rate=0.08756874214171077...\n",
      "[CV 5/5; 1/1] START depth=8, l2_leaf_reg=3, learning_rate=0.08756874214171077...\n",
      "[CV 3/5; 1/1] END depth=8, l2_leaf_reg=3, learning_rate=0.08756874214171077;, score=-0.021 total time= 5.3min\n",
      "[CV 4/5; 1/1] END depth=8, l2_leaf_reg=3, learning_rate=0.08756874214171077;, score=-0.018 total time= 5.5min\n",
      "[CV 5/5; 1/1] END depth=8, l2_leaf_reg=3, learning_rate=0.08756874214171077;, score=-0.020 total time= 5.6min\n",
      "[CV 2/5; 1/1] END depth=8, l2_leaf_reg=3, learning_rate=0.08756874214171077;, score=-0.022 total time= 5.6min\n",
      "[CV 1/5; 1/1] END depth=8, l2_leaf_reg=3, learning_rate=0.08756874214171077;, score=-0.019 total time= 5.7min\n"
     ]
    }
   ],
   "source": [
    "model_materialHardship = run_model(train,test, target='materialHardship', classifier=False)"
   ]
  },
  {
   "cell_type": "code",
   "execution_count": 28,
   "metadata": {},
   "outputs": [
    {
     "data": {
      "text/plain": [
       "OrderedDict([('depth', 8),\n",
       "             ('l2_leaf_reg', 2),\n",
       "             ('learning_rate', 0.043147769542643766)])"
      ]
     },
     "execution_count": 28,
     "metadata": {},
     "output_type": "execute_result"
    }
   ],
   "source": [
    "model_materialHardship.best_params_"
   ]
  },
  {
   "cell_type": "code",
   "execution_count": 29,
   "metadata": {},
   "outputs": [
    {
     "name": "stdout",
     "output_type": "stream",
     "text": [
      "Metric: mean_squared_error\n",
      "Best CV score: 0.0198\n",
      "Standard deviation of CV scores: 0.0016\n",
      "Mean CV score: 0.0200\n",
      "Test MSE: 0.0231\n",
      "Test R2: 0.1519\n",
      "Leaderboard MSE: 0.0330\n",
      "Leaderboard R2: -0.1536\n",
      "Holdout MSE: 0.0295\n",
      "Holdout R2: -0.2116\n"
     ]
    }
   ],
   "source": [
    "score_model(model_materialHardship, target='materialHardship', test=test, leaderboard=leaderboard, holdout=holdout, classifier=False)\n",
    "\n",
    "# run after here"
   ]
  },
  {
   "cell_type": "code",
   "execution_count": 32,
   "metadata": {},
   "outputs": [],
   "source": [
    "# shap_show(model_materialHardship, alldata, target='materialHardship')\n"
   ]
  },
  {
   "cell_type": "markdown",
   "metadata": {},
   "source": [
    "# Grit\n"
   ]
  },
  {
   "cell_type": "code",
   "execution_count": 34,
   "metadata": {},
   "outputs": [
    {
     "name": "stdout",
     "output_type": "stream",
     "text": [
      "(1136, 1431) (1136,)\n",
      "Total number of numerical features: 135\n",
      "Total number of binary features: 692\n",
      "Total number of categorical features: 135\n",
      "Total number of ordinal features: 469\n",
      "Fitting 5 folds for each of 1 candidates, totalling 5 fits\n",
      "[CV 3/5; 1/1] START depth=4, l2_leaf_reg=3, learning_rate=0.08758214206860822...\n",
      "[CV 5/5; 1/1] START depth=4, l2_leaf_reg=3, learning_rate=0.08758214206860822...[CV 4/5; 1/1] START depth=4, l2_leaf_reg=3, learning_rate=0.08758214206860822...[CV 1/5; 1/1] START depth=4, l2_leaf_reg=3, learning_rate=0.08758214206860822...\n",
      "\n",
      "\n",
      "[CV 2/5; 1/1] START depth=4, l2_leaf_reg=3, learning_rate=0.08758214206860822...\n",
      "[CV 2/5; 1/1] END depth=4, l2_leaf_reg=3, learning_rate=0.08758214206860822;, score=-0.285 total time=  56.4s\n",
      "[CV 3/5; 1/1] END depth=4, l2_leaf_reg=3, learning_rate=0.08758214206860822;, score=-0.214 total time=  57.2s\n",
      "[CV 5/5; 1/1] END depth=4, l2_leaf_reg=3, learning_rate=0.08758214206860822;, score=-0.217 total time=  57.7s\n",
      "[CV 1/5; 1/1] END depth=4, l2_leaf_reg=3, learning_rate=0.08758214206860822;, score=-0.220 total time=  57.8s\n",
      "[CV 4/5; 1/1] END depth=4, l2_leaf_reg=3, learning_rate=0.08758214206860822;, score=-0.211 total time=  58.1s\n",
      "Fitting 5 folds for each of 1 candidates, totalling 5 fits\n",
      "[CV 1/5; 1/1] START depth=5, l2_leaf_reg=4, learning_rate=0.07746280180342906...\n",
      "[CV 2/5; 1/1] START depth=5, l2_leaf_reg=4, learning_rate=0.07746280180342906...\n",
      "[CV 3/5; 1/1] START depth=5, l2_leaf_reg=4, learning_rate=0.07746280180342906...\n",
      "[CV 4/5; 1/1] START depth=5, l2_leaf_reg=4, learning_rate=0.07746280180342906...\n",
      "[CV 5/5; 1/1] START depth=5, l2_leaf_reg=4, learning_rate=0.07746280180342906...\n",
      "[CV 5/5; 1/1] END depth=5, l2_leaf_reg=4, learning_rate=0.07746280180342906;, score=-0.221 total time= 1.5min\n",
      "[CV 1/5; 1/1] END depth=5, l2_leaf_reg=4, learning_rate=0.07746280180342906;, score=-0.231 total time= 1.5min\n",
      "[CV 4/5; 1/1] END depth=5, l2_leaf_reg=4, learning_rate=0.07746280180342906;, score=-0.216 total time= 1.5min\n",
      "[CV 2/5; 1/1] END depth=5, l2_leaf_reg=4, learning_rate=0.07746280180342906;, score=-0.291 total time= 1.5min\n",
      "[CV 3/5; 1/1] END depth=5, l2_leaf_reg=4, learning_rate=0.07746280180342906;, score=-0.212 total time= 1.6min\n",
      "Fitting 5 folds for each of 1 candidates, totalling 5 fits\n",
      "[CV 1/5; 1/1] START depth=7, l2_leaf_reg=4, learning_rate=0.031823741074402105..[CV 2/5; 1/1] START depth=7, l2_leaf_reg=4, learning_rate=0.031823741074402105..\n",
      "\n",
      "[CV 3/5; 1/1] START depth=7, l2_leaf_reg=4, learning_rate=0.031823741074402105..\n",
      "[CV 4/5; 1/1] START depth=7, l2_leaf_reg=4, learning_rate=0.031823741074402105..\n",
      "[CV 5/5; 1/1] START depth=7, l2_leaf_reg=4, learning_rate=0.031823741074402105..\n",
      "[CV 2/5; 1/1] END depth=7, l2_leaf_reg=4, learning_rate=0.031823741074402105;, score=-0.288 total time= 3.3min\n",
      "[CV 5/5; 1/1] END depth=7, l2_leaf_reg=4, learning_rate=0.031823741074402105;, score=-0.221 total time= 3.3min\n",
      "[CV 1/5; 1/1] END depth=7, l2_leaf_reg=4, learning_rate=0.031823741074402105;, score=-0.225 total time= 3.3min\n",
      "[CV 3/5; 1/1] END depth=7, l2_leaf_reg=4, learning_rate=0.031823741074402105;, score=-0.211 total time= 3.3min\n",
      "[CV 4/5; 1/1] END depth=7, l2_leaf_reg=4, learning_rate=0.031823741074402105;, score=-0.213 total time= 3.5min\n",
      "Fitting 5 folds for each of 1 candidates, totalling 5 fits\n",
      "[CV 1/5; 1/1] START depth=9, l2_leaf_reg=4, learning_rate=0.05723315747871707...\n",
      "[CV 2/5; 1/1] START depth=9, l2_leaf_reg=4, learning_rate=0.05723315747871707...\n",
      "[CV 3/5; 1/1] START depth=9, l2_leaf_reg=4, learning_rate=0.05723315747871707...\n",
      "[CV 4/5; 1/1] START depth=9, l2_leaf_reg=4, learning_rate=0.05723315747871707...\n",
      "[CV 5/5; 1/1] START depth=9, l2_leaf_reg=4, learning_rate=0.05723315747871707...\n",
      "[CV 5/5; 1/1] END depth=9, l2_leaf_reg=4, learning_rate=0.05723315747871707;, score=-0.221 total time= 6.5min\n",
      "[CV 4/5; 1/1] END depth=9, l2_leaf_reg=4, learning_rate=0.05723315747871707;, score=-0.214 total time= 6.7min\n",
      "[CV 3/5; 1/1] END depth=9, l2_leaf_reg=4, learning_rate=0.05723315747871707;, score=-0.213 total time= 6.7min\n",
      "[CV 1/5; 1/1] END depth=9, l2_leaf_reg=4, learning_rate=0.05723315747871707;, score=-0.224 total time= 6.8min\n",
      "[CV 2/5; 1/1] END depth=9, l2_leaf_reg=4, learning_rate=0.05723315747871707;, score=-0.286 total time= 6.8min\n",
      "Fitting 5 folds for each of 1 candidates, totalling 5 fits\n",
      "[CV 1/5; 1/1] START depth=9, l2_leaf_reg=5, learning_rate=0.06731735402163878...\n",
      "[CV 2/5; 1/1] START depth=9, l2_leaf_reg=5, learning_rate=0.06731735402163878...\n",
      "[CV 3/5; 1/1] START depth=9, l2_leaf_reg=5, learning_rate=0.06731735402163878...\n",
      "[CV 4/5; 1/1] START depth=9, l2_leaf_reg=5, learning_rate=0.06731735402163878...\n",
      "[CV 5/5; 1/1] START depth=9, l2_leaf_reg=5, learning_rate=0.06731735402163878...\n",
      "[CV 5/5; 1/1] END depth=9, l2_leaf_reg=5, learning_rate=0.06731735402163878;, score=-0.221 total time= 6.1min\n",
      "[CV 3/5; 1/1] END depth=9, l2_leaf_reg=5, learning_rate=0.06731735402163878;, score=-0.213 total time= 6.1min\n",
      "[CV 1/5; 1/1] END depth=9, l2_leaf_reg=5, learning_rate=0.06731735402163878;, score=-0.229 total time= 6.2min\n",
      "[CV 4/5; 1/1] END depth=9, l2_leaf_reg=5, learning_rate=0.06731735402163878;, score=-0.214 total time= 6.3min\n",
      "[CV 2/5; 1/1] END depth=9, l2_leaf_reg=5, learning_rate=0.06731735402163878;, score=-0.290 total time= 6.3min\n"
     ]
    }
   ],
   "source": [
    "model_grit = run_model(train,test, target='grit', classifier=False)"
   ]
  },
  {
   "cell_type": "code",
   "execution_count": 35,
   "metadata": {},
   "outputs": [],
   "source": [
    "# Value 2 for “(He/she) stares blankly.”\n",
    "#  hv4r10a_3_1\t0.01520\tValue 1 for “Any hazardous condition 3: broken glass”\n",
    "#  hv5_wj9raw\t0.00946\tWoodcock-Johnson Test 9 raw score"
   ]
  },
  {
   "cell_type": "code",
   "execution_count": 39,
   "metadata": {},
   "outputs": [
    {
     "data": {
      "text/plain": [
       "OrderedDict([('depth', 4),\n",
       "             ('l2_leaf_reg', 3),\n",
       "             ('learning_rate', 0.08758214206860822)])"
      ]
     },
     "execution_count": 39,
     "metadata": {},
     "output_type": "execute_result"
    }
   ],
   "source": [
    "model_grit.best_params_"
   ]
  },
  {
   "cell_type": "code",
   "execution_count": 40,
   "metadata": {},
   "outputs": [
    {
     "name": "stdout",
     "output_type": "stream",
     "text": [
      "Metric: mean_squared_error\n",
      "Best CV score: 0.2295\n",
      "Standard deviation of CV scores: 0.0285\n",
      "Mean CV score: 0.2321\n",
      "Test MSE: 0.0023\n",
      "Test R2: 0.9901\n",
      "Leaderboard MSE: 0.6261\n",
      "Leaderboard R2: -1.8492\n",
      "Holdout MSE: 0.6657\n",
      "Holdout R2: -1.7867\n"
     ]
    }
   ],
   "source": [
    "score_model(model_grit, target='grit', test=test, leaderboard=leaderboard, holdout=holdout, classifier=False)"
   ]
  },
  {
   "cell_type": "code",
   "execution_count": 41,
   "metadata": {},
   "outputs": [],
   "source": [
    "# shap_show(model_grit, alldata, target='grit')"
   ]
  },
  {
   "cell_type": "markdown",
   "metadata": {},
   "source": [
    "# Eviction"
   ]
  },
  {
   "cell_type": "code",
   "execution_count": 45,
   "metadata": {},
   "outputs": [
    {
     "name": "stdout",
     "output_type": "stream",
     "text": [
      "(1168, 1431) (1168,)\n",
      "Total number of numerical features: 135\n",
      "Total number of binary features: 692\n",
      "Total number of categorical features: 135\n",
      "Total number of ordinal features: 469\n",
      "Fitting 5 folds for each of 1 candidates, totalling 5 fits\n",
      "[CV 1/5; 1/1] START depth=8, l2_leaf_reg=4, learning_rate=0.057855217977802076..\n",
      "[CV 2/5; 1/1] START depth=8, l2_leaf_reg=4, learning_rate=0.057855217977802076..\n",
      "[CV 5/5; 1/1] START depth=8, l2_leaf_reg=4, learning_rate=0.057855217977802076..\n",
      "[CV 4/5; 1/1] START depth=8, l2_leaf_reg=4, learning_rate=0.057855217977802076..\n",
      "[CV 3/5; 1/1] START depth=8, l2_leaf_reg=4, learning_rate=0.057855217977802076..\n",
      "[CV 2/5; 1/1] END depth=8, l2_leaf_reg=4, learning_rate=0.057855217977802076;, score=-0.060 total time= 4.1min\n",
      "[CV 3/5; 1/1] END depth=8, l2_leaf_reg=4, learning_rate=0.057855217977802076;, score=-0.059 total time= 4.1min\n",
      "[CV 5/5; 1/1] END depth=8, l2_leaf_reg=4, learning_rate=0.057855217977802076;, score=-0.055 total time= 4.1min\n",
      "[CV 4/5; 1/1] END depth=8, l2_leaf_reg=4, learning_rate=0.057855217977802076;, score=-0.056 total time= 4.1min\n",
      "[CV 1/5; 1/1] END depth=8, l2_leaf_reg=4, learning_rate=0.057855217977802076;, score=-0.059 total time= 4.1min\n",
      "Fitting 5 folds for each of 1 candidates, totalling 5 fits\n",
      "[CV 1/5; 1/1] START depth=7, l2_leaf_reg=3, learning_rate=0.0554488464169297....\n",
      "[CV 3/5; 1/1] START depth=7, l2_leaf_reg=3, learning_rate=0.0554488464169297....\n",
      "[CV 2/5; 1/1] START depth=7, l2_leaf_reg=3, learning_rate=0.0554488464169297....\n",
      "[CV 4/5; 1/1] START depth=7, l2_leaf_reg=3, learning_rate=0.0554488464169297....\n",
      "[CV 5/5; 1/1] START depth=7, l2_leaf_reg=3, learning_rate=0.0554488464169297....\n",
      "[CV 3/5; 1/1] END depth=7, l2_leaf_reg=3, learning_rate=0.0554488464169297;, score=-0.061 total time= 2.8min\n",
      "[CV 2/5; 1/1] END depth=7, l2_leaf_reg=3, learning_rate=0.0554488464169297;, score=-0.059 total time= 2.8min\n",
      "[CV 5/5; 1/1] END depth=7, l2_leaf_reg=3, learning_rate=0.0554488464169297;, score=-0.055 total time= 2.9min\n",
      "[CV 1/5; 1/1] END depth=7, l2_leaf_reg=3, learning_rate=0.0554488464169297;, score=-0.059 total time= 2.9min\n",
      "[CV 4/5; 1/1] END depth=7, l2_leaf_reg=3, learning_rate=0.0554488464169297;, score=-0.056 total time= 2.9min\n",
      "Fitting 5 folds for each of 1 candidates, totalling 5 fits\n",
      "[CV 1/5; 1/1] START depth=9, l2_leaf_reg=3, learning_rate=0.032174310981906123..\n",
      "[CV 2/5; 1/1] START depth=9, l2_leaf_reg=3, learning_rate=0.032174310981906123..\n",
      "[CV 3/5; 1/1] START depth=9, l2_leaf_reg=3, learning_rate=0.032174310981906123..\n",
      "[CV 4/5; 1/1] START depth=9, l2_leaf_reg=3, learning_rate=0.032174310981906123..\n",
      "[CV 5/5; 1/1] START depth=9, l2_leaf_reg=3, learning_rate=0.032174310981906123..\n",
      "[CV 2/5; 1/1] END depth=9, l2_leaf_reg=3, learning_rate=0.032174310981906123;, score=-0.060 total time= 5.8min\n",
      "[CV 1/5; 1/1] END depth=9, l2_leaf_reg=3, learning_rate=0.032174310981906123;, score=-0.059 total time= 5.9min\n",
      "[CV 3/5; 1/1] END depth=9, l2_leaf_reg=3, learning_rate=0.032174310981906123;, score=-0.060 total time= 5.9min\n",
      "[CV 4/5; 1/1] END depth=9, l2_leaf_reg=3, learning_rate=0.032174310981906123;, score=-0.056 total time= 5.9min\n",
      "[CV 5/5; 1/1] END depth=9, l2_leaf_reg=3, learning_rate=0.032174310981906123;, score=-0.056 total time= 5.9min\n",
      "Fitting 5 folds for each of 1 candidates, totalling 5 fits\n",
      "[CV 1/5; 1/1] START depth=5, l2_leaf_reg=4, learning_rate=0.0646966606031094....\n",
      "[CV 2/5; 1/1] START depth=5, l2_leaf_reg=4, learning_rate=0.0646966606031094....\n",
      "[CV 3/5; 1/1] START depth=5, l2_leaf_reg=4, learning_rate=0.0646966606031094....\n",
      "[CV 4/5; 1/1] START depth=5, l2_leaf_reg=4, learning_rate=0.0646966606031094....\n",
      "[CV 5/5; 1/1] START depth=5, l2_leaf_reg=4, learning_rate=0.0646966606031094....\n",
      "[CV 1/5; 1/1] END depth=5, l2_leaf_reg=4, learning_rate=0.0646966606031094;, score=-0.058 total time= 1.5min\n",
      "[CV 2/5; 1/1] END depth=5, l2_leaf_reg=4, learning_rate=0.0646966606031094;, score=-0.060 total time= 1.5min\n",
      "[CV 4/5; 1/1] END depth=5, l2_leaf_reg=4, learning_rate=0.0646966606031094;, score=-0.055 total time= 1.5min\n",
      "[CV 3/5; 1/1] END depth=5, l2_leaf_reg=4, learning_rate=0.0646966606031094;, score=-0.060 total time= 1.5min\n",
      "[CV 5/5; 1/1] END depth=5, l2_leaf_reg=4, learning_rate=0.0646966606031094;, score=-0.055 total time= 1.5min\n",
      "Fitting 5 folds for each of 1 candidates, totalling 5 fits\n",
      "[CV 2/5; 1/1] START depth=6, l2_leaf_reg=3, learning_rate=0.019020949179828658..[CV 3/5; 1/1] START depth=6, l2_leaf_reg=3, learning_rate=0.019020949179828658..\n",
      "\n",
      "[CV 5/5; 1/1] START depth=6, l2_leaf_reg=3, learning_rate=0.019020949179828658..\n",
      "[CV 1/5; 1/1] START depth=6, l2_leaf_reg=3, learning_rate=0.019020949179828658..\n",
      "[CV 4/5; 1/1] START depth=6, l2_leaf_reg=3, learning_rate=0.019020949179828658..\n",
      "[CV 1/5; 1/1] END depth=6, l2_leaf_reg=3, learning_rate=0.019020949179828658;, score=-0.059 total time= 1.9min\n",
      "[CV 4/5; 1/1] END depth=6, l2_leaf_reg=3, learning_rate=0.019020949179828658;, score=-0.055 total time= 1.9min\n",
      "[CV 2/5; 1/1] END depth=6, l2_leaf_reg=3, learning_rate=0.019020949179828658;, score=-0.059 total time= 1.9min\n",
      "[CV 3/5; 1/1] END depth=6, l2_leaf_reg=3, learning_rate=0.019020949179828658;, score=-0.060 total time= 1.9min\n",
      "[CV 5/5; 1/1] END depth=6, l2_leaf_reg=3, learning_rate=0.019020949179828658;, score=-0.056 total time= 1.9min\n"
     ]
    }
   ],
   "source": [
    "model_eviction = run_model(train,test,target='eviction', classifier=True)"
   ]
  },
  {
   "cell_type": "code",
   "execution_count": null,
   "metadata": {},
   "outputs": [
    {
     "name": "stdout",
     "output_type": "stream",
     "text": [
      "Test Brier: 0.0515\n",
      "Test F1: 0.0000\n",
      "Leaderboard Brier: 0.0660\n",
      "Leaderboard F1: 0.0541\n"
     ]
    }
   ],
   "source": [
    "score_model(model_eviction, 'eviction', test, leaderboard, holdout=None, classifier=True)"
   ]
  },
  {
   "cell_type": "code",
   "execution_count": null,
   "metadata": {},
   "outputs": [],
   "source": [
    "# Value “yes” for “Telephone service disconnected because wasn’t enough money in past 12 months.”\n",
    "#  m5f23c_1\t0.05842\tValue “yes” for “Did not pay full amount of rent/mortgage payments in past 12 months.”\n",
    "#  m3i4\t0.02062\tHow much rent do you pay each month?"
   ]
  },
  {
   "cell_type": "code",
   "execution_count": null,
   "metadata": {},
   "outputs": [
    {
     "name": "stderr",
     "output_type": "stream",
     "text": [
      "No data for colormapping provided via 'c'. Parameters 'vmin', 'vmax' will be ignored\n"
     ]
    },
    {
     "data": {
      "image/png": "[encoded data removed]",
      "text/plain": [
       "<Figure size 800x350 with 2 Axes>"
      ]
     },
     "metadata": {},
     "output_type": "display_data"
    },
    {
     "data": {
      "text/plain": [
       "{('F23C. Did not pay full amount of rent/mortgage payments in past 12 months',): 'p5j10',\n",
       " ('In past year, was telephone service ever disconnected?',): 'm4j2e',\n",
       " ('In past year, did your-Telephone service get disconnected for nonpayment?',): 'm2h19h',\n",
       " ('How much do you weigh?',): 'm3i6a',\n",
       " ('J10. Amount of money spent eating out in last month',): 'm5f23c'}"
      ]
     },
     "execution_count": 31,
     "metadata": {},
     "output_type": "execute_result"
    }
   ],
   "source": [
    "shap_show(model_eviction, alldata, target='eviction')"
   ]
  },
  {
   "cell_type": "code",
   "execution_count": null,
   "metadata": {},
   "outputs": [],
   "source": [
    "# top5 = ['m5f23k','p3m39','m5i3c']\n",
    "\n",
    "# meta[meta.index.isin(top5)].varlab.values"
   ]
  },
  {
   "cell_type": "markdown",
   "metadata": {},
   "source": [
    "# jobTraining"
   ]
  },
  {
   "cell_type": "code",
   "execution_count": null,
   "metadata": {},
   "outputs": [],
   "source": [
    "# Value “yes” for “In the last 2 years, have you taken any classes to improve your job skills?”\n",
    "#  m5i1_1\t0.06355\tValue “yes” for “You are currently attending any school/trainings program/classes.”\n",
    "#  m5i3b_1\t0.06355\tValue “yes” for “You have taken classes to improve job skills since last interview.”"
   ]
  },
  {
   "cell_type": "code",
   "execution_count": 48,
   "metadata": {},
   "outputs": [
    {
     "name": "stdout",
     "output_type": "stream",
     "text": [
      "(1169, 1431) (1169,)\n",
      "Total number of numerical features: 135\n",
      "Total number of binary features: 692\n",
      "Total number of categorical features: 135\n",
      "Total number of ordinal features: 469\n",
      "Fitting 5 folds for each of 1 candidates, totalling 5 fits\n",
      "[CV 1/5; 1/1] START depth=10, l2_leaf_reg=3, learning_rate=0.03144706586596128..\n",
      "[CV 2/5; 1/1] START depth=10, l2_leaf_reg=3, learning_rate=0.03144706586596128..\n",
      "[CV 3/5; 1/1] START depth=10, l2_leaf_reg=3, learning_rate=0.03144706586596128..\n",
      "[CV 4/5; 1/1] START depth=10, l2_leaf_reg=3, learning_rate=0.03144706586596128..\n",
      "[CV 5/5; 1/1] START depth=10, l2_leaf_reg=3, learning_rate=0.03144706586596128..\n",
      "[CV 5/5; 1/1] END depth=10, l2_leaf_reg=3, learning_rate=0.03144706586596128;, score=-0.172 total time= 6.3min\n",
      "[CV 1/5; 1/1] END depth=10, l2_leaf_reg=3, learning_rate=0.03144706586596128;, score=-0.167 total time= 6.4min\n",
      "[CV 3/5; 1/1] END depth=10, l2_leaf_reg=3, learning_rate=0.03144706586596128;, score=-0.172 total time= 6.4min\n",
      "[CV 4/5; 1/1] END depth=10, l2_leaf_reg=3, learning_rate=0.03144706586596128;, score=-0.172 total time= 6.4min\n",
      "[CV 2/5; 1/1] END depth=10, l2_leaf_reg=3, learning_rate=0.03144706586596128;, score=-0.175 total time= 6.4min\n",
      "Fitting 5 folds for each of 1 candidates, totalling 5 fits\n",
      "[CV 1/5; 1/1] START depth=8, l2_leaf_reg=4, learning_rate=0.07345608495147737...\n",
      "[CV 2/5; 1/1] START depth=8, l2_leaf_reg=4, learning_rate=0.07345608495147737...\n",
      "[CV 3/5; 1/1] START depth=8, l2_leaf_reg=4, learning_rate=0.07345608495147737...\n",
      "[CV 4/5; 1/1] START depth=8, l2_leaf_reg=4, learning_rate=0.07345608495147737...\n",
      "[CV 5/5; 1/1] START depth=8, l2_leaf_reg=4, learning_rate=0.07345608495147737...\n",
      "[CV 5/5; 1/1] END depth=8, l2_leaf_reg=4, learning_rate=0.07345608495147737;, score=-0.172 total time= 4.2min\n",
      "[CV 1/5; 1/1] END depth=8, l2_leaf_reg=4, learning_rate=0.07345608495147737;, score=-0.170 total time= 4.3min\n",
      "[CV 2/5; 1/1] END depth=8, l2_leaf_reg=4, learning_rate=0.07345608495147737;, score=-0.178 total time= 4.3min\n",
      "[CV 4/5; 1/1] END depth=8, l2_leaf_reg=4, learning_rate=0.07345608495147737;, score=-0.173 total time= 4.3min\n",
      "[CV 3/5; 1/1] END depth=8, l2_leaf_reg=4, learning_rate=0.07345608495147737;, score=-0.176 total time= 4.3min\n",
      "Fitting 5 folds for each of 1 candidates, totalling 5 fits\n",
      "[CV 1/5; 1/1] START depth=8, l2_leaf_reg=4, learning_rate=0.0675379454289761....\n",
      "[CV 2/5; 1/1] START depth=8, l2_leaf_reg=4, learning_rate=0.0675379454289761....\n",
      "[CV 3/5; 1/1] START depth=8, l2_leaf_reg=4, learning_rate=0.0675379454289761....\n",
      "[CV 4/5; 1/1] START depth=8, l2_leaf_reg=4, learning_rate=0.0675379454289761....\n",
      "[CV 5/5; 1/1] START depth=8, l2_leaf_reg=4, learning_rate=0.0675379454289761....\n",
      "[CV 5/5; 1/1] END depth=8, l2_leaf_reg=4, learning_rate=0.0675379454289761;, score=-0.174 total time= 4.2min\n",
      "[CV 1/5; 1/1] END depth=8, l2_leaf_reg=4, learning_rate=0.0675379454289761;, score=-0.168 total time= 4.2min\n",
      "[CV 2/5; 1/1] END depth=8, l2_leaf_reg=4, learning_rate=0.0675379454289761;, score=-0.172 total time= 4.2min\n",
      "[CV 4/5; 1/1] END depth=8, l2_leaf_reg=4, learning_rate=0.0675379454289761;, score=-0.168 total time= 4.2min\n",
      "[CV 3/5; 1/1] END depth=8, l2_leaf_reg=4, learning_rate=0.0675379454289761;, score=-0.174 total time= 4.2min\n",
      "Fitting 5 folds for each of 1 candidates, totalling 5 fits\n",
      "[CV 1/5; 1/1] START depth=9, l2_leaf_reg=3, learning_rate=0.058300896704352186..\n",
      "[CV 2/5; 1/1] START depth=9, l2_leaf_reg=3, learning_rate=0.058300896704352186..\n",
      "[CV 3/5; 1/1] START depth=9, l2_leaf_reg=3, learning_rate=0.058300896704352186..\n",
      "[CV 4/5; 1/1] START depth=9, l2_leaf_reg=3, learning_rate=0.058300896704352186..\n",
      "[CV 5/5; 1/1] START depth=9, l2_leaf_reg=3, learning_rate=0.058300896704352186..\n",
      "[CV 5/5; 1/1] END depth=9, l2_leaf_reg=3, learning_rate=0.058300896704352186;, score=-0.178 total time= 6.2min\n",
      "[CV 2/5; 1/1] END depth=9, l2_leaf_reg=3, learning_rate=0.058300896704352186;, score=-0.181 total time= 6.2min\n",
      "[CV 1/5; 1/1] END depth=9, l2_leaf_reg=3, learning_rate=0.058300896704352186;, score=-0.168 total time= 6.2min\n",
      "[CV 4/5; 1/1] END depth=9, l2_leaf_reg=3, learning_rate=0.058300896704352186;, score=-0.178 total time= 6.3min\n",
      "[CV 3/5; 1/1] END depth=9, l2_leaf_reg=3, learning_rate=0.058300896704352186;, score=-0.170 total time= 6.3min\n",
      "Fitting 5 folds for each of 1 candidates, totalling 5 fits\n",
      "[CV 1/5; 1/1] START depth=8, l2_leaf_reg=3, learning_rate=0.06413343910582413...\n",
      "[CV 2/5; 1/1] START depth=8, l2_leaf_reg=3, learning_rate=0.06413343910582413...\n",
      "[CV 3/5; 1/1] START depth=8, l2_leaf_reg=3, learning_rate=0.06413343910582413...\n",
      "[CV 4/5; 1/1] START depth=8, l2_leaf_reg=3, learning_rate=0.06413343910582413...\n",
      "[CV 5/5; 1/1] START depth=8, l2_leaf_reg=3, learning_rate=0.06413343910582413...\n",
      "[CV 5/5; 1/1] END depth=8, l2_leaf_reg=3, learning_rate=0.06413343910582413;, score=-0.168 total time= 4.1min\n",
      "[CV 1/5; 1/1] END depth=8, l2_leaf_reg=3, learning_rate=0.06413343910582413;, score=-0.171 total time= 4.1min\n",
      "[CV 2/5; 1/1] END depth=8, l2_leaf_reg=3, learning_rate=0.06413343910582413;, score=-0.173 total time= 4.1min\n",
      "[CV 4/5; 1/1] END depth=8, l2_leaf_reg=3, learning_rate=0.06413343910582413;, score=-0.170 total time= 4.1min\n",
      "[CV 3/5; 1/1] END depth=8, l2_leaf_reg=3, learning_rate=0.06413343910582413;, score=-0.168 total time= 4.1min\n"
     ]
    }
   ],
   "source": [
    "model_job = run_model(train,test,target='jobTraining', classifier=True)"
   ]
  },
  {
   "cell_type": "code",
   "execution_count": 50,
   "metadata": {},
   "outputs": [
    {
     "name": "stdout",
     "output_type": "stream",
     "text": [
      "Test Brier: 0.2671\n",
      "Test F1: 0.0000\n",
      "Leaderboard Brier: 0.2925\n",
      "Leaderboard F1: 0.0000\n"
     ]
    }
   ],
   "source": [
    "score_model(model_job, 'jobTraining', test, leaderboard, holdout=None, classifier=True)"
   ]
  },
  {
   "cell_type": "code",
   "execution_count": 49,
   "metadata": {},
   "outputs": [],
   "source": [
    "# shap_show(model_job, alldata, target='jobTraining',n=5)"
   ]
  },
  {
   "cell_type": "markdown",
   "metadata": {},
   "source": [
    "# Layoff"
   ]
  },
  {
   "cell_type": "code",
   "execution_count": null,
   "metadata": {},
   "outputs": [],
   "source": [
    "# mount of money spent eating out in last month\n",
    "#  m3i0q\t0.01678\tHow important is it to serve in the military when at war?\n",
    "#  f5i13\t0.01678\tHow much you earn in that job, before taxes"
   ]
  },
  {
   "cell_type": "code",
   "execution_count": 51,
   "metadata": {},
   "outputs": [
    {
     "name": "stdout",
     "output_type": "stream",
     "text": [
      "(1026, 1431) (1026,)\n",
      "Total number of numerical features: 135\n",
      "Total number of binary features: 692\n",
      "Total number of categorical features: 135\n",
      "Total number of ordinal features: 469\n",
      "Fitting 5 folds for each of 1 candidates, totalling 5 fits\n",
      "[CV 1/5; 1/1] START depth=8, l2_leaf_reg=2, learning_rate=0.0866585196203543....\n",
      "[CV 2/5; 1/1] START depth=8, l2_leaf_reg=2, learning_rate=0.0866585196203543....\n",
      "[CV 3/5; 1/1] START depth=8, l2_leaf_reg=2, learning_rate=0.0866585196203543....\n",
      "[CV 4/5; 1/1] START depth=8, l2_leaf_reg=2, learning_rate=0.0866585196203543....\n",
      "[CV 5/5; 1/1] START depth=8, l2_leaf_reg=2, learning_rate=0.0866585196203543....\n",
      "[CV 1/5; 1/1] END depth=8, l2_leaf_reg=2, learning_rate=0.0866585196203543;, score=-0.166 total time= 4.2min\n",
      "[CV 2/5; 1/1] END depth=8, l2_leaf_reg=2, learning_rate=0.0866585196203543;, score=-0.167 total time= 4.2min\n",
      "[CV 5/5; 1/1] END depth=8, l2_leaf_reg=2, learning_rate=0.0866585196203543;, score=-0.165 total time= 4.3min\n",
      "[CV 3/5; 1/1] END depth=8, l2_leaf_reg=2, learning_rate=0.0866585196203543;, score=-0.167 total time= 4.3min\n",
      "[CV 4/5; 1/1] END depth=8, l2_leaf_reg=2, learning_rate=0.0866585196203543;, score=-0.161 total time= 4.3min\n",
      "Fitting 5 folds for each of 1 candidates, totalling 5 fits\n",
      "[CV 3/5; 1/1] START depth=10, l2_leaf_reg=4, learning_rate=0.084561139559732....[CV 2/5; 1/1] START depth=10, l2_leaf_reg=4, learning_rate=0.084561139559732....\n",
      "\n",
      "[CV 1/5; 1/1] START depth=10, l2_leaf_reg=4, learning_rate=0.084561139559732....\n",
      "[CV 4/5; 1/1] START depth=10, l2_leaf_reg=4, learning_rate=0.084561139559732....\n",
      "[CV 5/5; 1/1] START depth=10, l2_leaf_reg=4, learning_rate=0.084561139559732....\n"
     ]
    }
   ],
   "source": [
    "model_layoff = run_model(train, test, target='layoff', classifier=True)"
   ]
  },
  {
   "cell_type": "code",
   "execution_count": null,
   "metadata": {},
   "outputs": [
    {
     "data": {
      "text/plain": [
       "OrderedDict([('regressor__learning_rate', 0.016032433969661176),\n",
       "             ('regressor__max_depth', 9),\n",
       "             ('regressor__scale_pos_weight', 7)])"
      ]
     },
     "execution_count": 39,
     "metadata": {},
     "output_type": "execute_result"
    }
   ],
   "source": [
    "model_layoff.best_params_"
   ]
  },
  {
   "cell_type": "code",
   "execution_count": null,
   "metadata": {},
   "outputs": [
    {
     "name": "stdout",
     "output_type": "stream",
     "text": [
      "Test Brier: 0.2231\n",
      "Test F1: 0.0968\n",
      "Leaderboard Brier: 0.2528\n",
      "Leaderboard F1: 0.1067\n",
      "Holdout Brier: 0.2428\n"
     ]
    }
   ],
   "source": [
    "score_model(model_layoff, 'layoff', test, leaderboard, holdout, classifier=True)"
   ]
  },
  {
   "cell_type": "code",
   "execution_count": null,
   "metadata": {},
   "outputs": [
    {
     "name": "stderr",
     "output_type": "stream",
     "text": [
      "No data for colormapping provided via 'c'. Parameters 'vmin', 'vmax' will be ignored\n"
     ]
    },
    {
     "data": {
      "image/png": "[encoded data removed]",
      "text/plain": [
       "<Figure size 800x350 with 2 Axes>"
      ]
     },
     "metadata": {},
     "output_type": "display_data"
    },
    {
     "data": {
      "text/plain": [
       "{('In past year, did you not pay full gas/oil/electricity bill?',): 'm5f8a3',\n",
       " ('People who currently live in your HH - 1st age?',): 'm4f2c1',\n",
       " ('I15. Number of hours TV is on',): 'p5i15',\n",
       " (\"What is first person's age? (years)\",): 'm1e1d1',\n",
       " ('F8A3. Received income from other assistance in last 12 months',): 'm3i23d'}"
      ]
     },
     "execution_count": 41,
     "metadata": {},
     "output_type": "execute_result"
    }
   ],
   "source": [
    "# shap_show(model_layoff, alldata, target='layoff')"
   ]
  }
 ],
 "metadata": {
  "kernelspec": {
   "display_name": "Python 3 (ipykernel)",
   "language": "python",
   "name": "python3"
  },
  "language_info": {
   "codemirror_mode": {
    "name": "ipython",
    "version": 3
   },
   "file_extension": ".py",
   "mimetype": "text/x-python",
   "name": "python",
   "nbconvert_exporter": "python",
   "pygments_lexer": "ipython3",
   "version": "3.10.6"
  }
 },
 "nbformat": 4,
 "nbformat_minor": 2
}
