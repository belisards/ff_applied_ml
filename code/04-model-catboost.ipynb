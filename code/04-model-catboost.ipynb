{
 "cells": [
  {
   "cell_type": "code",
   "execution_count": 1,
   "metadata": {},
   "outputs": [],
   "source": [
    "from sklearn.preprocessing import OneHotEncoder, OrdinalEncoder\n",
    "from sklearn.compose import ColumnTransformer, make_column_transformer, TransformedTargetRegressor\n",
    "from sklearn.feature_selection import VarianceThreshold\n",
    "from sklearn.linear_model import LogisticRegression, Lasso\n",
    "from sklearn.dummy import DummyClassifier\n",
    "from sklearn.metrics import mean_squared_error, r2_score, brier_score_loss, f1_score\n",
    "from sklearn.model_selection import cross_validate\n",
    "from xgboost import XGBClassifier, XGBRegressor\n",
    "from skopt import BayesSearchCV\n",
    "import skopt.space as space\n",
    "import skopt.plots as plots\n",
    "import imblearn\n",
    "from imblearn.pipeline import Pipeline as imbPipeline\n",
    "from imblearn.over_sampling import SMOTE\n",
    "from ff_custom_scripts import *\n",
    "\n",
    "from sklearn.ensemble import RandomForestRegressor\n",
    "from sklearn.feature_selection import SelectFromModel\n",
    "\n",
    "from sklearn.impute import KNNImputer\n",
    "\n",
    "from sklearn.impute import SimpleImputer\n",
    "from sklearn.metrics import f1_score\n",
    "# import catboost as cb\n",
    "from catboost import CatBoostClassifier, Pool, cv, CatBoostRegressor\n",
    "# import gridsearchcv\n",
    "from sklearn.model_selection import GridSearchCV\n"
   ]
  },
  {
   "cell_type": "code",
   "execution_count": 2,
   "metadata": {},
   "outputs": [
    {
     "name": "stdout",
     "output_type": "stream",
     "text": [
      "(1172, 1437) (294, 1437) (530, 1437) (1111, 1437)\n"
     ]
    }
   ],
   "source": [
    "train, test,leaderboard,holdout = load_files(nanvalues='keep')\n",
    "\n",
    "alldata = pd.concat([train, test]) # all data available for training in the FF Challenge\n",
    "\n",
    "print(train.shape, test.shape,leaderboard.shape,holdout.shape)"
   ]
  },
  {
   "cell_type": "markdown",
   "metadata": {},
   "source": [
    "# Model"
   ]
  },
  {
   "cell_type": "code",
   "execution_count": 3,
   "metadata": {},
   "outputs": [],
   "source": [
    "# def run_model(train, test, target='gpa', classifier=False):\n",
    "\n",
    "#     catcols = train.select_dtypes(include=['category']).columns\n",
    "#     train[catcols] = train[catcols].astype(str)\n",
    "#     test[catcols] = test[catcols].astype(str)\n",
    "\n",
    "#     X_train, y_train = prepare_data(train, target)\n",
    "#     X_test, y_test = prepare_data(test, target)\n",
    "\n",
    "#     print(X_train.shape, y_train.shape)\n",
    "\n",
    "#     numerical_features = cols_per_type(X_train, 'Continuous')\n",
    "#     print(f'N. of numerical features: {len(numerical_features)}')\n",
    "#     ordinal_features = cols_per_type(X_train, 'Ordered Categorical')\n",
    "#     binary_features = cols_per_type(X_train, 'Binary')\n",
    "#     print(f'N. of binary features: {len(binary_features)}')\n",
    "#     categorical_features = cols_per_type(X_train, 'Unordered Categorical')\n",
    "#     print(f'N. of categorical features: {len(categorical_features)}')\n",
    "#     print(f'N. of ordinal features: {len(ordinal_features)}')\n",
    "    \n",
    "#     iter = 20_000\n",
    "\n",
    "#     if classifier:\n",
    "#         score = 'neg_brier_score'\n",
    "#         catboost = CatBoostClassifier(\n",
    "#             eval_metric='Logloss', loss_function='Logloss', thread_count=-1, cat_features=categorical_features, verbose=0)\n",
    "#     else:\n",
    "        \n",
    "#         catboost = CatBoostRegressor(thread_count=-1, cat_features=categorical_features, random_seed=123,\n",
    "#                                      iterations=iter, early_stopping_rounds=iter*0.05,verbose=0)\n",
    "\n",
    "#         score = 'neg_mean_squared_error'\n",
    "\n",
    "#     param_grid = {\n",
    "#         'learning_rate': [0.005, 0.01],\n",
    "#         'depth': [4, 8],\n",
    "#         'l2_leaf_reg': [2, 4],\n",
    "#         'bagging_temperature': [0.5, 1],\n",
    "#     }\n",
    "\n",
    "#     model = BayesSearchCV(catboost, param_grid, cv=5, n_jobs=-1, scoring=score, verbose=1,\n",
    "#                            n_iter=10).fit(X_train, y_train, eval_set=(X_test, y_test), use_best_model=True)\n",
    "    \n",
    "#     return model\n"
   ]
  },
  {
   "cell_type": "markdown",
   "metadata": {},
   "source": [
    "# GPA"
   ]
  },
  {
   "cell_type": "code",
   "execution_count": 33,
   "metadata": {},
   "outputs": [],
   "source": [
    "def run_model(train, test, target='gpa', classifier=False):\n",
    "\n",
    "    catcols = train.select_dtypes(include=['category']).columns\n",
    "    train[catcols] = train[catcols].astype(str)\n",
    "    test[catcols] = test[catcols].astype(str)\n",
    "\n",
    "    X_train, y_train = prepare_data(train, target)\n",
    "    X_test, y_test = prepare_data(test, target)\n",
    "\n",
    "    print(X_train.shape, y_train.shape)\n",
    "\n",
    "    numerical_features = cols_per_type(X_train, 'Continuous')\n",
    "    print(f'N. of numerical features: {len(numerical_features)}')\n",
    "    ordinal_features = cols_per_type(X_train, 'Ordered Categorical')\n",
    "    binary_features = cols_per_type(X_train, 'Binary')\n",
    "    print(f'N. of binary features: {len(binary_features)}')\n",
    "    categorical_features = cols_per_type(X_train, 'Unordered Categorical')\n",
    "    print(f'N. of categorical features: {len(categorical_features)}')\n",
    "    print(f'N. of ordinal features: {len(ordinal_features)}')\n",
    "    \n",
    "    iter = 20_000\n",
    "\n",
    "    if classifier:\n",
    "        score = 'neg_brier_score'\n",
    "        catboost = CatBoostClassifier(\n",
    "            eval_metric='Logloss', loss_function='Logloss', thread_count=-1, cat_features=categorical_features, verbose=0)\n",
    "    else:\n",
    "        \n",
    "        catboost = CatBoostRegressor(thread_count=-1, cat_features=categorical_features, random_seed=123,\n",
    "                                     iterations=iter, early_stopping_rounds=iter*0.1,verbose=10)\n",
    "\n",
    "        score = 'neg_mean_squared_error'\n",
    "\n",
    "    param_grid = {\n",
    "        'learning_rate': [0.005, 0.02],\n",
    "        'depth': [4, 8],\n",
    "        'l2_leaf_reg': [2, 3],\n",
    "        'bagging_temperature': [0.5, 1],\n",
    "    }\n",
    "\n",
    "    # model = BayesSearchCV(catboost, param_grid, cv=5, n_jobs=-1, scoring=score, verbose=20,\n",
    "    #                        n_iter=10).fit(X_train, y_train, eval_set=(X_test, y_test), use_best_model=True, verbose=0)\n",
    "    \n",
    "    model = catboost.fit(X_train, y_train, eval_set=(X_test, y_test), use_best_model=True, verbose=0)\n",
    "\n",
    "    return model\n",
    "\n",
    "\n",
    "def score_model(model, data, target='gpa', classifier=False):\n",
    "    X, y = prepare_data(data, target)\n",
    "    if classifier:\n",
    "        y_pred = model.predict_proba(X)\n",
    "        # get 0 or 1 based on the highest probability\n",
    "        y_pred = np.argmax(y_pred, axis=1)\n",
    "        return brier_score_loss(y, y_pred)\n",
    "        \n",
    "    else:\n",
    "        y_pred = model.predict(X)\n",
    "        return mean_squared_error(y, y_pred)"
   ]
  },
  {
   "cell_type": "code",
   "execution_count": 5,
   "metadata": {},
   "outputs": [
    {
     "name": "stdout",
     "output_type": "stream",
     "text": [
      "(929, 1431) (929,)\n",
      "N. of numerical features: 135\n",
      "N. of binary features: 692\n",
      "N. of categorical features: 135\n",
      "N. of ordinal features: 469\n"
     ]
    }
   ],
   "source": [
    "gpa_model = run_model(train,test,target='gpa', classifier=False)"
   ]
  },
  {
   "cell_type": "code",
   "execution_count": 11,
   "metadata": {},
   "outputs": [
    {
     "data": {
      "text/plain": [
       "0.405033814007716"
      ]
     },
     "execution_count": 11,
     "metadata": {},
     "output_type": "execute_result"
    }
   ],
   "source": [
    "score_model(gpa_model, test, target='gpa', classifier=False)"
   ]
  },
  {
   "cell_type": "code",
   "execution_count": 6,
   "metadata": {},
   "outputs": [
    {
     "data": {
      "text/plain": [
       "0.38116522430321753"
      ]
     },
     "execution_count": 6,
     "metadata": {},
     "output_type": "execute_result"
    }
   ],
   "source": [
    "score_model(gpa_model, leaderboard, target='gpa', classifier=False)"
   ]
  },
  {
   "cell_type": "markdown",
   "metadata": {},
   "source": [
    "# Material Hardship"
   ]
  },
  {
   "cell_type": "code",
   "execution_count": 12,
   "metadata": {},
   "outputs": [
    {
     "name": "stdout",
     "output_type": "stream",
     "text": [
      "(1167, 1431) (1167,)\n",
      "N. of numerical features: 135\n",
      "N. of binary features: 692\n",
      "N. of categorical features: 135\n",
      "N. of ordinal features: 469\n"
     ]
    }
   ],
   "source": [
    "model_materialHardship = run_model(train,test, target='materialHardship', classifier=False)"
   ]
  },
  {
   "cell_type": "code",
   "execution_count": 13,
   "metadata": {},
   "outputs": [
    {
     "data": {
      "text/plain": [
       "0.01970861724690436"
      ]
     },
     "execution_count": 13,
     "metadata": {},
     "output_type": "execute_result"
    }
   ],
   "source": [
    "score_model(model_materialHardship, test, target='materialHardship', classifier=False)"
   ]
  },
  {
   "cell_type": "code",
   "execution_count": 14,
   "metadata": {},
   "outputs": [
    {
     "data": {
      "text/plain": [
       "0.024661091378832763"
      ]
     },
     "execution_count": 14,
     "metadata": {},
     "output_type": "execute_result"
    }
   ],
   "source": [
    "score_model(model_materialHardship, leaderboard, target='materialHardship', classifier=False)"
   ]
  },
  {
   "cell_type": "markdown",
   "metadata": {},
   "source": [
    "# Grit\n"
   ]
  },
  {
   "cell_type": "code",
   "execution_count": 15,
   "metadata": {},
   "outputs": [
    {
     "name": "stdout",
     "output_type": "stream",
     "text": [
      "(1134, 1431) (1134,)\n",
      "N. of numerical features: 135\n",
      "N. of binary features: 692\n",
      "N. of categorical features: 135\n",
      "N. of ordinal features: 469\n"
     ]
    }
   ],
   "source": [
    "model_grit = run_model(train,test, target='grit', classifier=False)"
   ]
  },
  {
   "cell_type": "code",
   "execution_count": 17,
   "metadata": {},
   "outputs": [
    {
     "data": {
      "text/plain": [
       "0.21626631143339764"
      ]
     },
     "execution_count": 17,
     "metadata": {},
     "output_type": "execute_result"
    }
   ],
   "source": [
    "score_model(model_grit, test, target='grit', classifier=False)"
   ]
  },
  {
   "cell_type": "code",
   "execution_count": 19,
   "metadata": {},
   "outputs": [
    {
     "data": {
      "text/plain": [
       "0.22790289790229024"
      ]
     },
     "execution_count": 19,
     "metadata": {},
     "output_type": "execute_result"
    }
   ],
   "source": [
    "score_model(model_grit, leaderboard, target='grit', classifier=False)"
   ]
  },
  {
   "cell_type": "markdown",
   "metadata": {},
   "source": [
    "# Eviction"
   ]
  },
  {
   "cell_type": "code",
   "execution_count": 18,
   "metadata": {},
   "outputs": [
    {
     "name": "stdout",
     "output_type": "stream",
     "text": [
      "(1167, 1431) (1167,)\n",
      "N. of numerical features: 135\n",
      "N. of binary features: 692\n",
      "N. of categorical features: 135\n",
      "N. of ordinal features: 469\n"
     ]
    }
   ],
   "source": [
    "model_eviction = run_model(train,test,target='eviction', classifier=True)"
   ]
  },
  {
   "cell_type": "code",
   "execution_count": 34,
   "metadata": {},
   "outputs": [
    {
     "data": {
      "text/plain": [
       "0.05136986301369863"
      ]
     },
     "execution_count": 34,
     "metadata": {},
     "output_type": "execute_result"
    }
   ],
   "source": [
    "score_model(model_eviction, test, target='eviction', classifier=True)"
   ]
  },
  {
   "cell_type": "code",
   "execution_count": 35,
   "metadata": {},
   "outputs": [
    {
     "data": {
      "text/plain": [
       "0.05660377358490566"
      ]
     },
     "execution_count": 35,
     "metadata": {},
     "output_type": "execute_result"
    }
   ],
   "source": [
    "score_model(model_eviction, leaderboard, target='eviction', classifier=True)"
   ]
  },
  {
   "cell_type": "markdown",
   "metadata": {},
   "source": [
    "# jobTraining"
   ]
  },
  {
   "cell_type": "code",
   "execution_count": 24,
   "metadata": {},
   "outputs": [
    {
     "name": "stdout",
     "output_type": "stream",
     "text": [
      "(1169, 1431) (1169,)\n",
      "N. of numerical features: 135\n",
      "N. of binary features: 692\n",
      "N. of categorical features: 135\n",
      "N. of ordinal features: 469\n"
     ]
    }
   ],
   "source": [
    "model_job = run_model(train,test,target='jobTraining', classifier=True)"
   ]
  },
  {
   "cell_type": "code",
   "execution_count": 36,
   "metadata": {},
   "outputs": [
    {
     "data": {
      "text/plain": [
       "0.22602739726027396"
      ]
     },
     "execution_count": 36,
     "metadata": {},
     "output_type": "execute_result"
    }
   ],
   "source": [
    "score_model(model_job, test, target='jobTraining', classifier=True)"
   ]
  },
  {
   "cell_type": "code",
   "execution_count": 37,
   "metadata": {},
   "outputs": [
    {
     "data": {
      "text/plain": [
       "0.2849056603773585"
      ]
     },
     "execution_count": 37,
     "metadata": {},
     "output_type": "execute_result"
    }
   ],
   "source": [
    "score_model(model_job, leaderboard, target='jobTraining', classifier=True)"
   ]
  },
  {
   "cell_type": "markdown",
   "metadata": {},
   "source": [
    "# Layoff"
   ]
  },
  {
   "cell_type": "code",
   "execution_count": 38,
   "metadata": {},
   "outputs": [
    {
     "name": "stdout",
     "output_type": "stream",
     "text": [
      "(1026, 1431) (1026,)\n",
      "N. of numerical features: 135\n",
      "N. of binary features: 692\n",
      "N. of categorical features: 135\n",
      "N. of ordinal features: 469\n"
     ]
    }
   ],
   "source": [
    "model_layoff = run_model(train, test, target='layoff', classifier=True)"
   ]
  },
  {
   "cell_type": "code",
   "execution_count": 39,
   "metadata": {},
   "outputs": [
    {
     "data": {
      "text/plain": [
       "0.199203187250996"
      ]
     },
     "execution_count": 39,
     "metadata": {},
     "output_type": "execute_result"
    }
   ],
   "source": [
    "score_model(model_layoff, test, target='layoff', classifier=True)"
   ]
  },
  {
   "cell_type": "code",
   "execution_count": 40,
   "metadata": {},
   "outputs": [
    {
     "data": {
      "text/plain": [
       "0.22452830188679246"
      ]
     },
     "execution_count": 40,
     "metadata": {},
     "output_type": "execute_result"
    }
   ],
   "source": [
    "score_model(model_layoff, leaderboard, target='layoff', classifier=True)"
   ]
  }
 ],
 "metadata": {
  "kernelspec": {
   "display_name": "Python 3 (ipykernel)",
   "language": "python",
   "name": "python3"
  },
  "language_info": {
   "codemirror_mode": {
    "name": "ipython",
    "version": 3
   },
   "file_extension": ".py",
   "mimetype": "text/x-python",
   "name": "python",
   "nbconvert_exporter": "python",
   "pygments_lexer": "ipython3",
   "version": "3.10.6"
  }
 },
 "nbformat": 4,
 "nbformat_minor": 2
}
