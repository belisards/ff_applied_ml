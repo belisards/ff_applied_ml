{
 "cells": [
  {
   "cell_type": "code",
   "execution_count": 1,
   "metadata": {},
   "outputs": [],
   "source": [
    "from sklearn.preprocessing import OneHotEncoder\n",
    "from sklearn.compose import make_column_transformer\n",
    "from skopt import BayesSearchCV\n",
    "import skopt.space as space\n",
    "from lightgbm import LGBMClassifier, LGBMRegressor\n",
    "from sklearn.pipeline import Pipeline\n"
   ]
  },
  {
   "cell_type": "code",
   "execution_count": 2,
   "metadata": {},
   "outputs": [
    {
     "name": "stdout",
     "output_type": "stream",
     "text": [
      "(1172, 1210) (294, 1210) (530, 1210) (1111, 1210)\n"
     ]
    }
   ],
   "source": [
    "from ff_custom_scripts import *\n",
    "\n",
    "train, test,leaderboard,holdout = load_files(nanvalues='remove')\n",
    "\n",
    "print(train.shape, test.shape,leaderboard.shape,holdout.shape)"
   ]
  },
  {
   "attachments": {},
   "cell_type": "markdown",
   "metadata": {},
   "source": [
    "# Model"
   ]
  },
  {
   "cell_type": "code",
   "execution_count": 3,
   "metadata": {},
   "outputs": [],
   "source": [
    "def run_model(train, target='gpa', classifier=False):\n",
    "\n",
    "    X_train, y_train = prepare_data(train, target)\n",
    "    print(X_train.shape, y_train.shape)\n",
    "    \n",
    "    print(X_train.shape, y_train.shape)\n",
    "\n",
    "    categorical_transformer = OneHotEncoder(handle_unknown='ignore')\n",
    "\n",
    "    numerical_features = cols_per_type(X_train, 'Continuous')\n",
    "    print(f'N. of numerical features: {len(numerical_features)}')\n",
    "    categorical_features = cols_per_type(X_train, 'Ordered Categorical')\n",
    "    print(f'N. of categorical features: {len(categorical_features)}')\n",
    "    binary_features = cols_per_type(X_train, 'Binary')\n",
    "    print(f'N. of binary features: {len(binary_features)}')\n",
    "    ordinal_features = cols_per_type(X_train, 'Unordered Categorical')\n",
    "    print(f'N. of ordinal features: {len(ordinal_features)}')\n",
    "\n",
    "    preprocessor = make_column_transformer(\n",
    "        (categorical_transformer, categorical_features),\n",
    "        ('passthrough', numerical_features),\n",
    "        ('passthrough', ordinal_features),\n",
    "        ('passthrough', binary_features)\n",
    "    )\n",
    "\n",
    "    search_space = {\n",
    "        'regressor__learning_rate': space.Real(0.01, 0.06),\n",
    "        'regressor__max_depth': space.Integer(5, 15),\n",
    "    }\n",
    "\n",
    "    if classifier:\n",
    "        score = 'neg_brier_score'\n",
    "        lgbm = LGBMClassifier(learning_rate=0.01, max_depth=8,random_state=123)\n",
    "        search_space.update({'regressor__scale_pos_weight': space.Integer(25, 35)})\n",
    "    else:\n",
    "        lgbm = LGBMRegressor(random_state=123)\n",
    "        score = 'neg_mean_squared_error'\n",
    "\n",
    "    pipes = Pipeline(steps=[('preprocessor', preprocessor),\n",
    "                            ('regressor', lgbm)])\n",
    "    \n",
    "    model = BayesSearchCV(\n",
    "        pipes,\n",
    "        search_space,\n",
    "        n_iter=10,\n",
    "        cv=5,\n",
    "        n_jobs=-1,\n",
    "        scoring=score,\n",
    "        refit=True,\n",
    "        verbose=0,\n",
    "        random_state=41\n",
    "    )\n",
    " \n",
    "    # ytrain shape\n",
    "    model.fit(X_train, y_train)\n",
    "\n",
    "    return model\n"
   ]
  },
  {
   "attachments": {},
   "cell_type": "markdown",
   "metadata": {},
   "source": [
    "# GPA"
   ]
  },
  {
   "cell_type": "code",
   "execution_count": 4,
   "metadata": {},
   "outputs": [
    {
     "name": "stdout",
     "output_type": "stream",
     "text": [
      "(929, 1204) (929,)\n",
      "(929, 1204) (929,)\n",
      "N. of numerical features: 106\n",
      "N. of categorical features: 414\n",
      "N. of binary features: 570\n",
      "N. of ordinal features: 114\n"
     ]
    }
   ],
   "source": [
    "gpa_model = run_model(train,target='gpa', classifier=False)"
   ]
  },
  {
   "cell_type": "code",
   "execution_count": 5,
   "metadata": {},
   "outputs": [
    {
     "name": "stdout",
     "output_type": "stream",
     "text": [
      "Metric: mean_squared_error\n",
      "Best CV score: 0.4022\n",
      "Standard deviation of CV scores: 0.0352\n",
      "Mean CV score: 0.4088\n",
      "Test MSE: 0.4083\n",
      "Test R2: 0.0971\n",
      ">> Leaderboard MSE: 0.3938\n",
      "Leaderboard R2: -0.0082\n"
     ]
    }
   ],
   "source": [
    "score_model(gpa_model,'gpa',test,leaderboard,holdout=None,classifier=False)"
   ]
  },
  {
   "attachments": {},
   "cell_type": "markdown",
   "metadata": {},
   "source": [
    "# Material Hardship"
   ]
  },
  {
   "cell_type": "code",
   "execution_count": 6,
   "metadata": {},
   "outputs": [
    {
     "name": "stdout",
     "output_type": "stream",
     "text": [
      "(1167, 1204) (1167,)\n",
      "(1167, 1204) (1167,)\n",
      "N. of numerical features: 106\n",
      "N. of categorical features: 414\n",
      "N. of binary features: 570\n",
      "N. of ordinal features: 114\n"
     ]
    }
   ],
   "source": [
    "model_materialHardship = run_model(train,target='materialHardship', classifier=False)"
   ]
  },
  {
   "cell_type": "code",
   "execution_count": 7,
   "metadata": {},
   "outputs": [
    {
     "data": {
      "text/plain": [
       "OrderedDict([('regressor__learning_rate', 0.022288208566756673),\n",
       "             ('regressor__max_depth', 9)])"
      ]
     },
     "execution_count": 7,
     "metadata": {},
     "output_type": "execute_result"
    }
   ],
   "source": [
    "model_materialHardship.best_params_"
   ]
  },
  {
   "cell_type": "code",
   "execution_count": 8,
   "metadata": {},
   "outputs": [
    {
     "name": "stdout",
     "output_type": "stream",
     "text": [
      "Metric: mean_squared_error\n",
      "Best CV score: 0.0216\n",
      "Standard deviation of CV scores: 0.0036\n",
      "Mean CV score: 0.0218\n",
      "Test MSE: 0.0206\n",
      "Test R2: 0.1833\n",
      ">> Leaderboard MSE: 0.0249\n",
      "Leaderboard R2: 0.1301\n"
     ]
    }
   ],
   "source": [
    "score_model(model_materialHardship, target='materialHardship', test=test, leaderboard=leaderboard, holdout=None, classifier=False)"
   ]
  },
  {
   "attachments": {},
   "cell_type": "markdown",
   "metadata": {},
   "source": [
    "# Grit\n"
   ]
  },
  {
   "cell_type": "code",
   "execution_count": 9,
   "metadata": {},
   "outputs": [
    {
     "name": "stdout",
     "output_type": "stream",
     "text": [
      "(1134, 1204) (1134,)\n",
      "(1134, 1204) (1134,)\n",
      "N. of numerical features: 106\n",
      "N. of categorical features: 414\n",
      "N. of binary features: 570\n",
      "N. of ordinal features: 114\n"
     ]
    }
   ],
   "source": [
    "model_grit = run_model(train,target='grit', classifier=False)"
   ]
  },
  {
   "cell_type": "code",
   "execution_count": 10,
   "metadata": {},
   "outputs": [
    {
     "data": {
      "text/plain": [
       "OrderedDict([('regressor__learning_rate', 0.012104671856054891),\n",
       "             ('regressor__max_depth', 15)])"
      ]
     },
     "execution_count": 10,
     "metadata": {},
     "output_type": "execute_result"
    }
   ],
   "source": [
    "model_grit.best_params_"
   ]
  },
  {
   "cell_type": "code",
   "execution_count": 11,
   "metadata": {},
   "outputs": [
    {
     "name": "stdout",
     "output_type": "stream",
     "text": [
      "Metric: mean_squared_error\n",
      "Best CV score: 0.2396\n",
      "Standard deviation of CV scores: 0.0407\n",
      "Mean CV score: 0.2483\n",
      "Test MSE: 0.2202\n",
      "Test R2: 0.0182\n",
      ">> Leaderboard MSE: 0.2254\n",
      "Leaderboard R2: -0.0258\n"
     ]
    }
   ],
   "source": [
    "score_model(model_grit, target='grit', test=test, leaderboard=leaderboard, holdout=None, classifier=False)"
   ]
  },
  {
   "attachments": {},
   "cell_type": "markdown",
   "metadata": {},
   "source": [
    "# Eviction"
   ]
  },
  {
   "cell_type": "code",
   "execution_count": 12,
   "metadata": {},
   "outputs": [
    {
     "name": "stdout",
     "output_type": "stream",
     "text": [
      "(1167, 1204) (1167,)\n",
      "(1167, 1204) (1167,)\n",
      "N. of numerical features: 106\n",
      "N. of categorical features: 414\n",
      "N. of binary features: 570\n",
      "N. of ordinal features: 114\n"
     ]
    }
   ],
   "source": [
    "model_eviction = run_model(train,target='eviction', classifier=True)"
   ]
  },
  {
   "cell_type": "code",
   "execution_count": 13,
   "metadata": {},
   "outputs": [
    {
     "name": "stdout",
     "output_type": "stream",
     "text": [
      "Scores without threshold adjusment\n",
      "Test Brier: 0.0514\n",
      "Test F1: 0.0000\n",
      "Leaderboard Brier: 0.0566\n",
      "Number of positive predictions: 0.0\n",
      ">> Leaderboard F1: 0.0000\n",
      "Leaderboard Accuracy: 0.9434\n",
      "Leaderboard Recall: 0.0000\n"
     ]
    }
   ],
   "source": [
    "score_model(model_eviction, target='eviction', test=test, leaderboard=leaderboard, holdout=None, classifier=True)"
   ]
  },
  {
   "cell_type": "code",
   "execution_count": 14,
   "metadata": {},
   "outputs": [
    {
     "name": "stdout",
     "output_type": "stream",
     "text": [
      "Scores with threshold adjusment\n"
     ]
    },
    {
     "data": {
      "image/png": "[encoded data removed]",
      "text/plain": [
       "<Figure size 640x480 with 1 Axes>"
      ]
     },
     "metadata": {},
     "output_type": "display_data"
    },
    {
     "name": "stdout",
     "output_type": "stream",
     "text": [
      "Threshold=0.113, FPR=0.152, TPR=0.267\n",
      "Test brier: 0.185\n",
      "Test F1: 0.100\n",
      "Leaderboard Brier: 0.162\n",
      "              precision    recall  f1-score   support\n",
      "\n",
      "         0.0       0.95      0.88      0.91       500\n",
      "         1.0       0.09      0.20      0.12        30\n",
      "\n",
      "    accuracy                           0.84       530\n",
      "   macro avg       0.52      0.54      0.52       530\n",
      "weighted avg       0.90      0.84      0.87       530\n",
      "\n",
      "Leaderboard F1: 0.122\n"
     ]
    }
   ],
   "source": [
    "score_classifier(model_eviction, target='eviction', test=test, leaderboard=leaderboard, holdout=None)"
   ]
  },
  {
   "attachments": {},
   "cell_type": "markdown",
   "metadata": {},
   "source": [
    "# jobTraining"
   ]
  },
  {
   "cell_type": "code",
   "execution_count": 15,
   "metadata": {},
   "outputs": [
    {
     "name": "stdout",
     "output_type": "stream",
     "text": [
      "(1169, 1204) (1169,)\n",
      "(1169, 1204) (1169,)\n",
      "N. of numerical features: 106\n",
      "N. of categorical features: 414\n",
      "N. of binary features: 570\n",
      "N. of ordinal features: 114\n"
     ]
    }
   ],
   "source": [
    "model_job = run_model(train,target='jobTraining', classifier=True)"
   ]
  },
  {
   "cell_type": "code",
   "execution_count": 16,
   "metadata": {},
   "outputs": [
    {
     "name": "stdout",
     "output_type": "stream",
     "text": [
      "Scores without threshold adjusment\n",
      "Test Brier: 0.3493\n",
      "Test F1: 0.4270\n",
      "Leaderboard Brier: 0.3906\n",
      "Number of positive predictions: 166.0\n",
      ">> Leaderboard F1: 0.3387\n",
      "Leaderboard Accuracy: 0.6094\n",
      "Leaderboard Recall: 0.3605\n"
     ]
    }
   ],
   "source": [
    "score_model(model_job, target='jobTraining', test=test, leaderboard=leaderboard, holdout=None, classifier=True)"
   ]
  },
  {
   "cell_type": "code",
   "execution_count": 17,
   "metadata": {},
   "outputs": [
    {
     "name": "stdout",
     "output_type": "stream",
     "text": [
      "Scores with threshold adjusment\n"
     ]
    },
    {
     "data": {
      "image/png": "[encoded data removed]",
      "text/plain": [
       "<Figure size 640x480 with 1 Axes>"
      ]
     },
     "metadata": {},
     "output_type": "display_data"
    },
    {
     "name": "stdout",
     "output_type": "stream",
     "text": [
      "Threshold=0.404, FPR=0.533, TPR=0.821\n",
      "Test brier: 0.455\n",
      "Test F1: 0.448\n",
      "Leaderboard Brier: 0.498\n",
      "              precision    recall  f1-score   support\n",
      "\n",
      "         0.0       0.74      0.49      0.58       383\n",
      "         1.0       0.29      0.54      0.38       147\n",
      "\n",
      "    accuracy                           0.50       530\n",
      "   macro avg       0.51      0.51      0.48       530\n",
      "weighted avg       0.61      0.50      0.53       530\n",
      "\n",
      "Leaderboard F1: 0.377\n"
     ]
    }
   ],
   "source": [
    "score_classifier(model_job, target='jobTraining', test=test, leaderboard=leaderboard, holdout=None)"
   ]
  },
  {
   "attachments": {},
   "cell_type": "markdown",
   "metadata": {},
   "source": [
    "# Layoff"
   ]
  },
  {
   "cell_type": "code",
   "execution_count": 18,
   "metadata": {},
   "outputs": [
    {
     "name": "stdout",
     "output_type": "stream",
     "text": [
      "(1026, 1204) (1026,)\n",
      "(1026, 1204) (1026,)\n",
      "N. of numerical features: 106\n",
      "N. of categorical features: 414\n",
      "N. of binary features: 570\n",
      "N. of ordinal features: 114\n"
     ]
    }
   ],
   "source": [
    "model_layoff = run_model(train, target='layoff', classifier=True)"
   ]
  },
  {
   "cell_type": "code",
   "execution_count": 19,
   "metadata": {},
   "outputs": [
    {
     "data": {
      "text/plain": [
       "OrderedDict([('regressor__learning_rate', 0.012104671856054891),\n",
       "             ('regressor__max_depth', 15),\n",
       "             ('regressor__scale_pos_weight', 32)])"
      ]
     },
     "execution_count": 19,
     "metadata": {},
     "output_type": "execute_result"
    }
   ],
   "source": [
    "model_layoff.best_params_"
   ]
  },
  {
   "cell_type": "code",
   "execution_count": 20,
   "metadata": {},
   "outputs": [
    {
     "name": "stdout",
     "output_type": "stream",
     "text": [
      "Scores with threshold adjusment\n"
     ]
    },
    {
     "data": {
      "image/png": "[encoded data removed]",
      "text/plain": [
       "<Figure size 640x480 with 1 Axes>"
      ]
     },
     "metadata": {},
     "output_type": "display_data"
    },
    {
     "name": "stdout",
     "output_type": "stream",
     "text": [
      "Threshold=0.404, FPR=0.533, TPR=0.821\n",
      "Test brier: 0.455\n",
      "Test F1: 0.448\n",
      "Leaderboard Brier: 0.498\n",
      "              precision    recall  f1-score   support\n",
      "\n",
      "         0.0       0.74      0.49      0.58       383\n",
      "         1.0       0.29      0.54      0.38       147\n",
      "\n",
      "    accuracy                           0.50       530\n",
      "   macro avg       0.51      0.51      0.48       530\n",
      "weighted avg       0.61      0.50      0.53       530\n",
      "\n",
      "Leaderboard F1: 0.377\n"
     ]
    }
   ],
   "source": [
    "score_classifier(model_job, target='jobTraining', test=test, leaderboard=leaderboard, holdout=None)"
   ]
  }
 ],
 "metadata": {
  "kernelspec": {
   "display_name": ".venv",
   "language": "python",
   "name": "python3"
  },
  "language_info": {
   "codemirror_mode": {
    "name": "ipython",
    "version": 3
   },
   "file_extension": ".py",
   "mimetype": "text/x-python",
   "name": "python",
   "nbconvert_exporter": "python",
   "pygments_lexer": "ipython3",
   "version": "3.10.6"
  },
  "orig_nbformat": 4
 },
 "nbformat": 4,
 "nbformat_minor": 2
}
