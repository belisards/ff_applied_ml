{
 "cells": [
  {
   "cell_type": "code",
   "execution_count": 1,
   "metadata": {},
   "outputs": [],
   "source": [
    "from sklearn.preprocessing import OneHotEncoder\n",
    "from sklearn.compose import make_column_transformer\n",
    "from skopt import BayesSearchCV\n",
    "import skopt.space as space\n",
    "from lightgbm import LGBMClassifier, LGBMRegressor\n",
    "from sklearn.pipeline import Pipeline\n"
   ]
  },
  {
   "cell_type": "code",
   "execution_count": 2,
   "metadata": {},
   "outputs": [
    {
     "name": "stdout",
     "output_type": "stream",
     "text": [
      "(1172, 1437) (294, 1437) (530, 1437) (1111, 1437)\n"
     ]
    }
   ],
   "source": [
    "from ff_custom_scripts import *\n",
    "\n",
    "train, test,leaderboard,holdout = load_files(nanvalues='remove')\n",
    "\n",
    "alldata = pd.concat([train, test]) # all data available for training in the FF Challenge\n",
    "\n",
    "print(train.shape, test.shape,leaderboard.shape,holdout.shape)"
   ]
  },
  {
   "attachments": {},
   "cell_type": "markdown",
   "metadata": {},
   "source": [
    "# Model"
   ]
  },
  {
   "cell_type": "code",
   "execution_count": 3,
   "metadata": {},
   "outputs": [],
   "source": [
    "def run_model(train, target='gpa', classifier=False):\n",
    "\n",
    "    X_train, y_train = prepare_data(train, target)\n",
    "    print(X_train.shape, y_train.shape)\n",
    "    \n",
    "    print(X_train.shape, y_train.shape)\n",
    "\n",
    "    categorical_transformer = OneHotEncoder(handle_unknown='ignore')\n",
    "\n",
    "    numerical_features = cols_per_type(X_train, 'Continuous')\n",
    "    print(f'N. of numerical features: {len(numerical_features)}')\n",
    "    categorical_features = cols_per_type(X_train, 'Ordered Categorical')\n",
    "    print(f'N. of categorical features: {len(categorical_features)}')\n",
    "    binary_features = cols_per_type(X_train, 'Binary')\n",
    "    print(f'N. of binary features: {len(binary_features)}')\n",
    "    ordinal_features = cols_per_type(X_train, 'Unordered Categorical')\n",
    "    print(f'N. of ordinal features: {len(ordinal_features)}')\n",
    "\n",
    "    preprocessor = make_column_transformer(\n",
    "        (categorical_transformer, categorical_features),\n",
    "        ('passthrough', numerical_features),\n",
    "        ('passthrough', ordinal_features),\n",
    "        ('passthrough', binary_features)\n",
    "    )\n",
    "\n",
    "    search_space = {\n",
    "        'regressor__learning_rate': space.Real(0.01, 0.06),\n",
    "        'regressor__max_depth': space.Integer(5, 10),\n",
    "    }\n",
    "\n",
    "    if classifier:\n",
    "        score = 'neg_brier_score'\n",
    "        lgbm = LGBMClassifier()\n",
    "        search_space.update({'regressor__scale_pos_weight': space.Integer(2, 17)})\n",
    "    else:\n",
    "        lgbm = LGBMRegressor()\n",
    "        score = 'neg_mean_squared_error'\n",
    "\n",
    "    pipes = Pipeline(steps=[('preprocessor', preprocessor),\n",
    "                            ('regressor', lgbm)])\n",
    "\n",
    "    model = BayesSearchCV(\n",
    "        pipes,\n",
    "        search_space,\n",
    "        n_iter=10,\n",
    "        cv=5,\n",
    "        n_jobs=-1,\n",
    "        scoring=score,\n",
    "        refit=True,\n",
    "        verbose=0,\n",
    "        random_state=41\n",
    "    )\n",
    "\n",
    "    # ytrain shape\n",
    "    model.fit(X_train, y_train)\n",
    "\n",
    "    return model\n"
   ]
  },
  {
   "attachments": {},
   "cell_type": "markdown",
   "metadata": {},
   "source": [
    "# GPA"
   ]
  },
  {
   "cell_type": "code",
   "execution_count": 4,
   "metadata": {},
   "outputs": [
    {
     "name": "stdout",
     "output_type": "stream",
     "text": [
      "(929, 1431) (929,)\n",
      "(929, 1431) (929,)\n",
      "N. of numerical features: 135\n",
      "N. of categorical features: 469\n",
      "N. of binary features: 692\n",
      "N. of ordinal features: 135\n"
     ]
    }
   ],
   "source": [
    "gpa_model = run_model(train,target='gpa', classifier=False)"
   ]
  },
  {
   "cell_type": "code",
   "execution_count": 5,
   "metadata": {},
   "outputs": [
    {
     "name": "stdout",
     "output_type": "stream",
     "text": [
      "Metric: mean_squared_error\n",
      "Best CV score: 0.3986\n",
      "Standard deviation of CV scores: 0.0332\n",
      "Mean CV score: 0.4077\n",
      "Test MSE: 0.3974\n",
      "Test R2: 0.1212\n",
      "Leaderboard MSE: 0.3952\n",
      "Leaderboard R2: -0.0117\n"
     ]
    }
   ],
   "source": [
    "score_model(gpa_model,'gpa',test,leaderboard,holdout=None,classifier=False)"
   ]
  },
  {
   "cell_type": "code",
   "execution_count": 6,
   "metadata": {},
   "outputs": [],
   "source": [
    "# shap_show(gpa_model, alldata, target='gpa')"
   ]
  },
  {
   "attachments": {},
   "cell_type": "markdown",
   "metadata": {},
   "source": [
    "# Material Hardship"
   ]
  },
  {
   "cell_type": "code",
   "execution_count": 7,
   "metadata": {},
   "outputs": [
    {
     "name": "stdout",
     "output_type": "stream",
     "text": [
      "(1167, 1431) (1167,)\n",
      "(1167, 1431) (1167,)\n",
      "N. of numerical features: 135\n",
      "N. of categorical features: 469\n",
      "N. of binary features: 692\n",
      "N. of ordinal features: 135\n"
     ]
    }
   ],
   "source": [
    "model_materialHardship = run_model(train,target='materialHardship', classifier=False)"
   ]
  },
  {
   "cell_type": "code",
   "execution_count": 8,
   "metadata": {},
   "outputs": [
    {
     "data": {
      "text/plain": [
       "OrderedDict([('regressor__learning_rate', 0.022288208566756673),\n",
       "             ('regressor__max_depth', 7)])"
      ]
     },
     "execution_count": 8,
     "metadata": {},
     "output_type": "execute_result"
    }
   ],
   "source": [
    "model_materialHardship.best_params_"
   ]
  },
  {
   "cell_type": "code",
   "execution_count": 9,
   "metadata": {},
   "outputs": [
    {
     "name": "stdout",
     "output_type": "stream",
     "text": [
      "Metric: mean_squared_error\n",
      "Best CV score: 0.0216\n",
      "Standard deviation of CV scores: 0.0037\n",
      "Mean CV score: 0.0219\n",
      "Test MSE: 0.0208\n",
      "Test R2: 0.1770\n",
      "Leaderboard MSE: 0.0248\n",
      "Leaderboard R2: 0.1317\n"
     ]
    }
   ],
   "source": [
    "score_model(model_materialHardship, target='materialHardship', test=test, leaderboard=leaderboard, holdout=None, classifier=False)"
   ]
  },
  {
   "attachments": {},
   "cell_type": "markdown",
   "metadata": {},
   "source": [
    "# Grit\n"
   ]
  },
  {
   "cell_type": "code",
   "execution_count": 11,
   "metadata": {},
   "outputs": [
    {
     "name": "stdout",
     "output_type": "stream",
     "text": [
      "(1134, 1431) (1134,)\n",
      "(1134, 1431) (1134,)\n",
      "N. of numerical features: 135\n",
      "N. of categorical features: 469\n",
      "N. of binary features: 692\n",
      "N. of ordinal features: 135\n"
     ]
    }
   ],
   "source": [
    "model_grit = run_model(train,target='grit', classifier=False)"
   ]
  },
  {
   "cell_type": "code",
   "execution_count": 12,
   "metadata": {},
   "outputs": [
    {
     "data": {
      "text/plain": [
       "OrderedDict([('regressor__learning_rate', 0.012104671856054891),\n",
       "             ('regressor__max_depth', 10)])"
      ]
     },
     "execution_count": 12,
     "metadata": {},
     "output_type": "execute_result"
    }
   ],
   "source": [
    "model_grit.best_params_"
   ]
  },
  {
   "cell_type": "code",
   "execution_count": 13,
   "metadata": {},
   "outputs": [
    {
     "name": "stdout",
     "output_type": "stream",
     "text": [
      "Metric: mean_squared_error\n",
      "Best CV score: 0.2378\n",
      "Standard deviation of CV scores: 0.0412\n",
      "Mean CV score: 0.2452\n",
      "Test MSE: 0.2217\n",
      "Test R2: 0.0114\n",
      "Leaderboard MSE: 0.2232\n",
      "Leaderboard R2: -0.0160\n"
     ]
    }
   ],
   "source": [
    "score_model(model_grit, target='grit', test=test, leaderboard=leaderboard, holdout=None, classifier=False)"
   ]
  },
  {
   "attachments": {},
   "cell_type": "markdown",
   "metadata": {},
   "source": [
    "# Eviction"
   ]
  },
  {
   "cell_type": "code",
   "execution_count": 14,
   "metadata": {},
   "outputs": [
    {
     "name": "stdout",
     "output_type": "stream",
     "text": [
      "(1167, 1431) (1167,)\n",
      "(1167, 1431) (1167,)\n",
      "N. of numerical features: 135\n",
      "N. of categorical features: 469\n",
      "N. of binary features: 692\n",
      "N. of ordinal features: 135\n"
     ]
    }
   ],
   "source": [
    "model_eviction = run_model(train,target='eviction', classifier=True)"
   ]
  },
  {
   "cell_type": "code",
   "execution_count": 24,
   "metadata": {},
   "outputs": [
    {
     "data": {
      "text/plain": [
       "OrderedDict([('regressor__learning_rate', 0.012104671856054891),\n",
       "             ('regressor__max_depth', 10),\n",
       "             ('regressor__scale_pos_weight', 12)])"
      ]
     },
     "execution_count": 24,
     "metadata": {},
     "output_type": "execute_result"
    }
   ],
   "source": [
    "model_eviction.best_params_"
   ]
  },
  {
   "cell_type": "code",
   "execution_count": 15,
   "metadata": {},
   "outputs": [
    {
     "name": "stdout",
     "output_type": "stream",
     "text": [
      "Test Brier: 0.0514\n",
      "Test F1: 0.0000\n",
      "Leaderboard Brier: 0.0566\n",
      "Leaderboard F1: 0.0000\n"
     ]
    }
   ],
   "source": [
    "score_model(model_eviction, 'eviction', test, leaderboard, holdout=None, classifier=True)"
   ]
  },
  {
   "attachments": {},
   "cell_type": "markdown",
   "metadata": {},
   "source": [
    "# jobTraining"
   ]
  },
  {
   "cell_type": "code",
   "execution_count": 17,
   "metadata": {},
   "outputs": [
    {
     "name": "stdout",
     "output_type": "stream",
     "text": [
      "(1169, 1431) (1169,)\n",
      "(1169, 1431) (1169,)\n",
      "N. of numerical features: 135\n",
      "N. of categorical features: 469\n",
      "N. of binary features: 692\n",
      "N. of ordinal features: 135\n"
     ]
    }
   ],
   "source": [
    "model_job = run_model(train,target='jobTraining', classifier=True)"
   ]
  },
  {
   "cell_type": "code",
   "execution_count": 18,
   "metadata": {},
   "outputs": [
    {
     "name": "stdout",
     "output_type": "stream",
     "text": [
      "Test Brier: 0.2500\n",
      "Test F1: 0.3178\n",
      "Leaderboard Brier: 0.3057\n",
      "Leaderboard F1: 0.2430\n"
     ]
    }
   ],
   "source": [
    "score_model(model_job, 'jobTraining', test, leaderboard, holdout=None, classifier=True)"
   ]
  },
  {
   "attachments": {},
   "cell_type": "markdown",
   "metadata": {},
   "source": [
    "# Layoff"
   ]
  },
  {
   "cell_type": "code",
   "execution_count": 20,
   "metadata": {},
   "outputs": [
    {
     "name": "stdout",
     "output_type": "stream",
     "text": [
      "(1026, 1431) (1026,)\n",
      "(1026, 1431) (1026,)\n",
      "N. of numerical features: 135\n",
      "N. of categorical features: 469\n",
      "N. of binary features: 692\n",
      "N. of ordinal features: 135\n"
     ]
    }
   ],
   "source": [
    "model_layoff = run_model(train, target='layoff', classifier=True)"
   ]
  },
  {
   "cell_type": "code",
   "execution_count": 21,
   "metadata": {},
   "outputs": [
    {
     "data": {
      "text/plain": [
       "OrderedDict([('regressor__learning_rate', 0.022288208566756673),\n",
       "             ('regressor__max_depth', 7),\n",
       "             ('regressor__scale_pos_weight', 3)])"
      ]
     },
     "execution_count": 21,
     "metadata": {},
     "output_type": "execute_result"
    }
   ],
   "source": [
    "model_layoff.best_params_"
   ]
  },
  {
   "cell_type": "code",
   "execution_count": 22,
   "metadata": {},
   "outputs": [
    {
     "name": "stdout",
     "output_type": "stream",
     "text": [
      "Test Brier: 0.1992\n",
      "Test F1: 0.0741\n",
      "Leaderboard Brier: 0.2340\n",
      "Leaderboard F1: 0.0462\n"
     ]
    }
   ],
   "source": [
    "score_model(model_layoff, 'layoff', test, leaderboard, holdout=None, classifier=True)"
   ]
  }
 ],
 "metadata": {
  "kernelspec": {
   "display_name": ".venv",
   "language": "python",
   "name": "python3"
  },
  "language_info": {
   "codemirror_mode": {
    "name": "ipython",
    "version": 3
   },
   "file_extension": ".py",
   "mimetype": "text/x-python",
   "name": "python",
   "nbconvert_exporter": "python",
   "pygments_lexer": "ipython3",
   "version": "3.10.6"
  },
  "orig_nbformat": 4
 },
 "nbformat": 4,
 "nbformat_minor": 2
}
