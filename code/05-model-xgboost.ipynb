{
 "cells": [
  {
   "cell_type": "code",
   "execution_count": 13,
   "metadata": {},
   "outputs": [],
   "source": [
    "from sklearn.preprocessing import OneHotEncoder\n",
    "from sklearn.compose import make_column_transformer\n",
    "from xgboost import XGBClassifier, XGBRegressor\n",
    "from skopt import BayesSearchCV\n",
    "import skopt.space as space\n",
    "from sklearn.pipeline import Pipeline\n",
    "from ff_custom_scripts import *"
   ]
  },
  {
   "cell_type": "code",
   "execution_count": 14,
   "metadata": {},
   "outputs": [
    {
     "name": "stdout",
     "output_type": "stream",
     "text": [
      "(1172, 1210) (294, 1210) (530, 1210) (1111, 1210)\n"
     ]
    }
   ],
   "source": [
    "train, test,leaderboard,holdout = load_files(nanvalues='remove')\n",
    "\n",
    "alldata = pd.concat([train, test]) # all data available for training in the FF Challenge\n",
    "\n",
    "print(train.shape, test.shape,leaderboard.shape,holdout.shape)"
   ]
  },
  {
   "cell_type": "markdown",
   "metadata": {},
   "source": [
    "# Model"
   ]
  },
  {
   "cell_type": "code",
   "execution_count": 15,
   "metadata": {},
   "outputs": [],
   "source": [
    "def run_model(train, target='gpa', classifier=False):\n",
    "\n",
    "    X_train, y_train = prepare_data(train, target)\n",
    "    \n",
    "    categorical_transformer = OneHotEncoder(handle_unknown='ignore')\n",
    "\n",
    "    numerical_features = cols_per_type(X_train, 'Continuous')\n",
    "    print(f'N. of numerical features: {len(numerical_features)}')\n",
    "    categorical_features = cols_per_type(X_train, 'Ordered Categorical')\n",
    "    print(f'N. of categorical features: {len(categorical_features)}')\n",
    "    binary_features = cols_per_type(X_train, 'Binary')\n",
    "    print(f'N. of binary features: {len(binary_features)}')\n",
    "    ordinal_features = cols_per_type(X_train, 'Unordered Categorical')\n",
    "    print(f'N. of ordinal features: {len(ordinal_features)}')\n",
    "    \n",
    "    preprocessor = make_column_transformer(\n",
    "        (categorical_transformer, categorical_features),\n",
    "        ('passthrough', numerical_features),\n",
    "        ('passthrough', ordinal_features),\n",
    "        ('passthrough', binary_features)\n",
    "    )\n",
    "    \n",
    "    search_space = {\n",
    "            'regressor__n_estimators': space.Integer(100, 1000),\n",
    "            'regressor__learning_rate': space.Real(0.01, 0.05),\n",
    "            'regressor__max_depth': space.Integer(2, 5),\n",
    "            'regressor__subsample': space.Real(0.4, 0.8),\n",
    "            'regressor__colsample_bytree': space.Real(0.4, 0.8),\n",
    "        }\n",
    "    \n",
    "    if classifier:\n",
    "        score = 'neg_brier_score'\n",
    "        xgboost = XGBClassifier(n_jobs=-1, eval_metric='logloss', objective='binary:logistic')\n",
    "        search_space.update({'regressor__scale_pos_weight': space.Integer(2, 17)})\n",
    "           \n",
    "    else:\n",
    "        xgboost = XGBRegressor(n_jobs=-1, eval_metric='rmse')\n",
    "        score = 'neg_mean_squared_error'\n",
    "    \n",
    "        \n",
    "    pipes = Pipeline(steps=[('preprocessor', preprocessor),\n",
    "                            ('regressor', xgboost)])\n",
    "                            \n",
    "    model = BayesSearchCV(\n",
    "        pipes,\n",
    "        search_space,\n",
    "        n_iter=10,\n",
    "        cv=5,\n",
    "        n_jobs=-1,\n",
    "        scoring=score,\n",
    "        refit=True,\n",
    "        verbose=0,\n",
    "        random_state=32\n",
    "    )\n",
    "    \n",
    "    model.fit(X_train, y_train)\n",
    "    \n",
    "    return model\n"
   ]
  },
  {
   "cell_type": "markdown",
   "metadata": {},
   "source": [
    "# GPA"
   ]
  },
  {
   "cell_type": "code",
   "execution_count": 16,
   "metadata": {},
   "outputs": [
    {
     "name": "stdout",
     "output_type": "stream",
     "text": [
      "N. of numerical features: 106\n",
      "N. of categorical features: 414\n",
      "N. of binary features: 570\n",
      "N. of ordinal features: 114\n"
     ]
    }
   ],
   "source": [
    "gpa_model = run_model(train,target='gpa', classifier=False)"
   ]
  },
  {
   "cell_type": "code",
   "execution_count": 17,
   "metadata": {},
   "outputs": [
    {
     "name": "stdout",
     "output_type": "stream",
     "text": [
      "Metric: mean_squared_error\n",
      "Best CV score: 0.4061\n",
      "Standard deviation of CV scores: 0.0401\n",
      "Mean CV score: 0.4159\n",
      "Test MSE: 0.3968\n",
      "Test R2: 0.1227\n",
      ">> Leaderboard MSE: 0.3845\n",
      "Leaderboard R2: 0.0158\n"
     ]
    }
   ],
   "source": [
    "score_model(gpa_model,'gpa',test,leaderboard,holdout=None,classifier=False)"
   ]
  },
  {
   "cell_type": "markdown",
   "metadata": {},
   "source": [
    "# Material Hardship"
   ]
  },
  {
   "cell_type": "code",
   "execution_count": 18,
   "metadata": {},
   "outputs": [
    {
     "name": "stdout",
     "output_type": "stream",
     "text": [
      "N. of numerical features: 106\n",
      "N. of categorical features: 414\n",
      "N. of binary features: 570\n",
      "N. of ordinal features: 114\n"
     ]
    }
   ],
   "source": [
    "model_materialHardship = run_model(train,target='materialHardship', classifier=False)"
   ]
  },
  {
   "cell_type": "code",
   "execution_count": 19,
   "metadata": {},
   "outputs": [
    {
     "data": {
      "text/plain": [
       "OrderedDict([('regressor__colsample_bytree', 0.41221838274599537),\n",
       "             ('regressor__learning_rate', 0.021130901339300144),\n",
       "             ('regressor__max_depth', 3),\n",
       "             ('regressor__n_estimators', 454),\n",
       "             ('regressor__subsample', 0.6904807538403688)])"
      ]
     },
     "execution_count": 19,
     "metadata": {},
     "output_type": "execute_result"
    }
   ],
   "source": [
    "model_materialHardship.best_params_"
   ]
  },
  {
   "cell_type": "code",
   "execution_count": 20,
   "metadata": {},
   "outputs": [
    {
     "name": "stdout",
     "output_type": "stream",
     "text": [
      "Metric: mean_squared_error\n",
      "Best CV score: 0.0215\n",
      "Standard deviation of CV scores: 0.0037\n",
      "Mean CV score: 0.0220\n",
      "Test MSE: 0.0199\n",
      "Test R2: 0.2106\n",
      ">> Leaderboard MSE: 0.0245\n",
      "Leaderboard R2: 0.1429\n"
     ]
    }
   ],
   "source": [
    "score_model(model_materialHardship, target='materialHardship', test=test, leaderboard=leaderboard, holdout=None, classifier=False)"
   ]
  },
  {
   "cell_type": "markdown",
   "metadata": {},
   "source": [
    "# Grit\n"
   ]
  },
  {
   "cell_type": "code",
   "execution_count": 21,
   "metadata": {},
   "outputs": [
    {
     "name": "stdout",
     "output_type": "stream",
     "text": [
      "N. of numerical features: 106\n",
      "N. of categorical features: 414\n",
      "N. of binary features: 570\n",
      "N. of ordinal features: 114\n"
     ]
    }
   ],
   "source": [
    "model_grit = run_model(train,target='grit', classifier=False)"
   ]
  },
  {
   "cell_type": "code",
   "execution_count": 22,
   "metadata": {},
   "outputs": [
    {
     "data": {
      "text/plain": [
       "OrderedDict([('regressor__colsample_bytree', 0.6138721865203991),\n",
       "             ('regressor__learning_rate', 0.026903038203804172),\n",
       "             ('regressor__max_depth', 3),\n",
       "             ('regressor__n_estimators', 282),\n",
       "             ('regressor__subsample', 0.7385616673608244)])"
      ]
     },
     "execution_count": 22,
     "metadata": {},
     "output_type": "execute_result"
    }
   ],
   "source": [
    "model_grit.best_params_"
   ]
  },
  {
   "cell_type": "code",
   "execution_count": 23,
   "metadata": {},
   "outputs": [
    {
     "name": "stdout",
     "output_type": "stream",
     "text": [
      "Metric: mean_squared_error\n",
      "Best CV score: 0.2427\n",
      "Standard deviation of CV scores: 0.0413\n",
      "Mean CV score: 0.2504\n",
      "Test MSE: 0.2207\n",
      "Test R2: 0.0159\n",
      ">> Leaderboard MSE: 0.2891\n",
      "Leaderboard R2: -0.3159\n"
     ]
    }
   ],
   "source": [
    "score_model(model_grit, target='grit', test=test, leaderboard=leaderboard, holdout=None, classifier=False)"
   ]
  },
  {
   "cell_type": "markdown",
   "metadata": {},
   "source": [
    "# Eviction"
   ]
  },
  {
   "cell_type": "code",
   "execution_count": 24,
   "metadata": {},
   "outputs": [
    {
     "name": "stdout",
     "output_type": "stream",
     "text": [
      "N. of numerical features: 106\n",
      "N. of categorical features: 414\n",
      "N. of binary features: 570\n",
      "N. of ordinal features: 114\n"
     ]
    }
   ],
   "source": [
    "model_eviction = run_model(train,target='eviction', classifier=True)"
   ]
  },
  {
   "cell_type": "code",
   "execution_count": 25,
   "metadata": {},
   "outputs": [
    {
     "data": {
      "text/plain": [
       "OrderedDict([('regressor__colsample_bytree', 0.6573580990269696),\n",
       "             ('regressor__learning_rate', 0.03839797463244792),\n",
       "             ('regressor__max_depth', 5),\n",
       "             ('regressor__n_estimators', 497),\n",
       "             ('regressor__scale_pos_weight', 8),\n",
       "             ('regressor__subsample', 0.4089659185057217)])"
      ]
     },
     "execution_count": 25,
     "metadata": {},
     "output_type": "execute_result"
    }
   ],
   "source": [
    "model_eviction.best_params_"
   ]
  },
  {
   "cell_type": "code",
   "execution_count": 26,
   "metadata": {},
   "outputs": [
    {
     "name": "stdout",
     "output_type": "stream",
     "text": [
      "Scores without threshold adjusment\n",
      "Test Brier: 0.0514\n",
      "Test F1: 0.0000\n",
      "Leaderboard Brier: 0.0585\n",
      "Number of positive predictions: 1\n",
      ">> Leaderboard F1: 0.0000\n",
      "Leaderboard Accuracy: 0.9415\n",
      "Leaderboard Recall: 0.0000\n"
     ]
    }
   ],
   "source": [
    "score_model(model_eviction, 'eviction', test, leaderboard, holdout=None, classifier=True)"
   ]
  },
  {
   "cell_type": "code",
   "execution_count": 27,
   "metadata": {},
   "outputs": [
    {
     "name": "stdout",
     "output_type": "stream",
     "text": [
      "Scores with threshold adjusment\n"
     ]
    },
    {
     "data": {
      "image/png": "[encoded data removed]",
      "text/plain": [
       "<Figure size 640x480 with 1 Axes>"
      ]
     },
     "metadata": {},
     "output_type": "display_data"
    },
    {
     "name": "stdout",
     "output_type": "stream",
     "text": [
      "Threshold=0.012, FPR=0.379, TPR=0.600\n",
      "Test brier: 0.384\n",
      "Test F1: 0.125\n",
      "Leaderboard Brier: 0.370\n",
      "              precision    recall  f1-score   support\n",
      "\n",
      "         0.0       0.96      0.63      0.76       500\n",
      "         1.0       0.09      0.57      0.15        30\n",
      "\n",
      "    accuracy                           0.63       530\n",
      "   macro avg       0.52      0.60      0.46       530\n",
      "weighted avg       0.91      0.63      0.73       530\n",
      "\n",
      "Leaderboard F1: 0.148\n"
     ]
    }
   ],
   "source": [
    "score_classifier(model_eviction, 'eviction', test, leaderboard, holdout=None)"
   ]
  },
  {
   "cell_type": "markdown",
   "metadata": {},
   "source": [
    "# jobTraining"
   ]
  },
  {
   "cell_type": "code",
   "execution_count": 28,
   "metadata": {},
   "outputs": [
    {
     "name": "stdout",
     "output_type": "stream",
     "text": [
      "N. of numerical features: 106\n",
      "N. of categorical features: 414\n",
      "N. of binary features: 570\n",
      "N. of ordinal features: 114\n"
     ]
    }
   ],
   "source": [
    "model_job = run_model(train,target='jobTraining', classifier=True)"
   ]
  },
  {
   "cell_type": "code",
   "execution_count": 29,
   "metadata": {},
   "outputs": [
    {
     "data": {
      "text/plain": [
       "OrderedDict([('regressor__colsample_bytree', 0.6573580990269696),\n",
       "             ('regressor__learning_rate', 0.03839797463244792),\n",
       "             ('regressor__max_depth', 5),\n",
       "             ('regressor__n_estimators', 497),\n",
       "             ('regressor__scale_pos_weight', 8),\n",
       "             ('regressor__subsample', 0.4089659185057217)])"
      ]
     },
     "execution_count": 29,
     "metadata": {},
     "output_type": "execute_result"
    }
   ],
   "source": [
    "model_job.best_params_"
   ]
  },
  {
   "cell_type": "code",
   "execution_count": 30,
   "metadata": {},
   "outputs": [
    {
     "name": "stdout",
     "output_type": "stream",
     "text": [
      "Scores without threshold adjusment\n",
      "Test Brier: 0.2637\n",
      "Test F1: 0.3636\n",
      "Leaderboard Brier: 0.3057\n",
      "Number of positive predictions: 69\n",
      ">> Leaderboard F1: 0.2500\n",
      "Leaderboard Accuracy: 0.6943\n",
      "Leaderboard Recall: 0.1837\n"
     ]
    }
   ],
   "source": [
    "score_model(model_job, 'jobTraining', test, leaderboard, holdout=None, classifier=True)"
   ]
  },
  {
   "cell_type": "code",
   "execution_count": 37,
   "metadata": {},
   "outputs": [
    {
     "name": "stdout",
     "output_type": "stream",
     "text": [
      "Scores with threshold adjusment\n"
     ]
    },
    {
     "data": {
      "image/png": "[encoded data removed]",
      "text/plain": [
       "<Figure size 640x480 with 1 Axes>"
      ]
     },
     "metadata": {},
     "output_type": "display_data"
    },
    {
     "name": "stdout",
     "output_type": "stream",
     "text": [
      "Threshold=0.390, FPR=0.222, TPR=0.507\n",
      "Test brier: 0.288\n",
      "Test F1: 0.440\n",
      "Leaderboard Brier: 0.328\n",
      "              precision    recall  f1-score   support\n",
      "\n",
      "         0.0       0.74      0.83      0.79       383\n",
      "         1.0       0.37      0.25      0.30       147\n",
      "\n",
      "    accuracy                           0.67       530\n",
      "   macro avg       0.55      0.54      0.54       530\n",
      "weighted avg       0.64      0.67      0.65       530\n",
      "\n",
      "Leaderboard F1: 0.298\n"
     ]
    }
   ],
   "source": [
    "score_classifier(model_job, 'jobTraining', test, leaderboard, holdout=None)"
   ]
  },
  {
   "cell_type": "markdown",
   "metadata": {},
   "source": [
    "# Layoff"
   ]
  },
  {
   "cell_type": "code",
   "execution_count": 32,
   "metadata": {},
   "outputs": [
    {
     "name": "stdout",
     "output_type": "stream",
     "text": [
      "N. of numerical features: 106\n",
      "N. of categorical features: 414\n",
      "N. of binary features: 570\n",
      "N. of ordinal features: 114\n"
     ]
    }
   ],
   "source": [
    "model_layoff = run_model(train, target='layoff', classifier=True)"
   ]
  },
  {
   "cell_type": "code",
   "execution_count": 33,
   "metadata": {},
   "outputs": [
    {
     "data": {
      "text/plain": [
       "OrderedDict([('regressor__colsample_bytree', 0.6573580990269696),\n",
       "             ('regressor__learning_rate', 0.03839797463244792),\n",
       "             ('regressor__max_depth', 5),\n",
       "             ('regressor__n_estimators', 497),\n",
       "             ('regressor__scale_pos_weight', 8),\n",
       "             ('regressor__subsample', 0.4089659185057217)])"
      ]
     },
     "execution_count": 33,
     "metadata": {},
     "output_type": "execute_result"
    }
   ],
   "source": [
    "model_layoff.best_params_"
   ]
  },
  {
   "cell_type": "code",
   "execution_count": 34,
   "metadata": {},
   "outputs": [
    {
     "name": "stdout",
     "output_type": "stream",
     "text": [
      "Scores without threshold adjusment\n",
      "Test Brier: 0.2231\n",
      "Test F1: 0.1515\n",
      "Leaderboard Brier: 0.2453\n",
      "Number of positive predictions: 31\n",
      ">> Leaderboard F1: 0.1333\n",
      "Leaderboard Accuracy: 0.7547\n",
      "Leaderboard Recall: 0.0840\n"
     ]
    }
   ],
   "source": [
    "score_model(model_layoff, 'layoff', test, leaderboard, holdout=None, classifier=True)"
   ]
  },
  {
   "cell_type": "code",
   "execution_count": 35,
   "metadata": {},
   "outputs": [
    {
     "name": "stdout",
     "output_type": "stream",
     "text": [
      "Scores with threshold adjusment\n"
     ]
    },
    {
     "data": {
      "image/png": "[encoded data removed]",
      "text/plain": [
       "<Figure size 640x480 with 1 Axes>"
      ]
     },
     "metadata": {},
     "output_type": "display_data"
    },
    {
     "name": "stdout",
     "output_type": "stream",
     "text": [
      "Threshold=0.500, FPR=0.055, TPR=0.120\n",
      "Test brier: 0.223\n",
      "Test F1: 0.152\n",
      "Leaderboard Brier: 0.245\n",
      "              precision    recall  f1-score   support\n",
      "\n",
      "         0.0       0.78      0.95      0.86       411\n",
      "         1.0       0.32      0.08      0.13       119\n",
      "\n",
      "    accuracy                           0.75       530\n",
      "   macro avg       0.55      0.52      0.50       530\n",
      "weighted avg       0.68      0.75      0.69       530\n",
      "\n",
      "Leaderboard F1: 0.133\n"
     ]
    }
   ],
   "source": [
    "score_classifier(model_layoff, 'layoff', test, leaderboard, holdout=None)"
   ]
  }
 ],
 "metadata": {
  "kernelspec": {
   "display_name": "Python 3 (ipykernel)",
   "language": "python",
   "name": "python3"
  },
  "language_info": {
   "codemirror_mode": {
    "name": "ipython",
    "version": 3
   },
   "file_extension": ".py",
   "mimetype": "text/x-python",
   "name": "python",
   "nbconvert_exporter": "python",
   "pygments_lexer": "ipython3",
   "version": "3.10.6"
  }
 },
 "nbformat": 4,
 "nbformat_minor": 2
}
