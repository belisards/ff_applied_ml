{
 "cells": [
  {
   "cell_type": "code",
   "execution_count": 1,
   "metadata": {},
   "outputs": [],
   "source": [
    "from sklearn.preprocessing import OneHotEncoder\n",
    "from sklearn.compose import make_column_transformer\n",
    "from xgboost import XGBClassifier, XGBRegressor\n",
    "from skopt import BayesSearchCV\n",
    "import skopt.space as space\n",
    "from sklearn.pipeline import Pipeline\n",
    "from ff_custom_scripts import *"
   ]
  },
  {
   "cell_type": "code",
   "execution_count": 2,
   "metadata": {},
   "outputs": [],
   "source": [
    "train, test,leaderboard,holdout = load_files(nanvalues='remove')\n",
    "\n",
    "alldata = pd.concat([train, test]) # all data available for training in the FF Challenge\n",
    "\n",
    "print(train.shape, test.shape,leaderboard.shape,holdout.shape)"
   ]
  },
  {
   "cell_type": "markdown",
   "metadata": {},
   "source": [
    "# Model"
   ]
  },
  {
   "cell_type": "code",
   "execution_count": null,
   "metadata": {},
   "outputs": [],
   "source": [
    "def run_model(train, target='gpa', classifier=False):\n",
    "\n",
    "    X_train, y_train = prepare_data(train, target)\n",
    "    \n",
    "    categorical_transformer = OneHotEncoder(handle_unknown='ignore')\n",
    "\n",
    "    numerical_features = cols_per_type(X_train, 'Continuous')\n",
    "    print(f'N. of numerical features: {len(numerical_features)}')\n",
    "    categorical_features = cols_per_type(X_train, 'Ordered Categorical')\n",
    "    print(f'N. of categorical features: {len(categorical_features)}')\n",
    "    binary_features = cols_per_type(X_train, 'Binary')\n",
    "    print(f'N. of binary features: {len(binary_features)}')\n",
    "    ordinal_features = cols_per_type(X_train, 'Unordered Categorical')\n",
    "    print(f'N. of ordinal features: {len(ordinal_features)}')\n",
    "    \n",
    "    preprocessor = make_column_transformer(\n",
    "        (categorical_transformer, categorical_features),\n",
    "        ('passthrough', numerical_features),\n",
    "        ('passthrough', ordinal_features),\n",
    "        ('passthrough', binary_features)\n",
    "    )\n",
    "    \n",
    "    search_space = {\n",
    "            'regressor__n_estimators': space.Integer(100, 1000),\n",
    "            'regressor__learning_rate': space.Real(0.01, 0.05),\n",
    "            'regressor__max_depth': space.Integer(2, 5),\n",
    "            'regressor__subsample': space.Real(0.4, 0.8),\n",
    "            'regressor__colsample_bytree': space.Real(0.4, 0.8),\n",
    "        }\n",
    "    \n",
    "    if classifier:\n",
    "        score = 'neg_brier_score'\n",
    "        xgboost = XGBClassifier(n_jobs=-1, eval_metric='logloss', objective='binary:logistic')\n",
    "        search_space.update({'regressor__scale_pos_weight': space.Integer(2, 17)})\n",
    "           \n",
    "    else:\n",
    "        xgboost = XGBRegressor(n_jobs=-1, eval_metric='rmse')\n",
    "        score = 'neg_mean_squared_error'\n",
    "    \n",
    "        \n",
    "    pipes = Pipeline(steps=[('preprocessor', preprocessor),\n",
    "                            ('regressor', xgboost)])\n",
    "                            \n",
    "    model = BayesSearchCV(\n",
    "        pipes,\n",
    "        search_space,\n",
    "        n_iter=10,\n",
    "        cv=5,\n",
    "        n_jobs=-1,\n",
    "        scoring=score,\n",
    "        refit=True,\n",
    "        verbose=0,\n",
    "        random_state=32\n",
    "    )\n",
    "    \n",
    "    model.fit(X_train, y_train)\n",
    "    \n",
    "    return model\n"
   ]
  },
  {
   "cell_type": "markdown",
   "metadata": {},
   "source": [
    "# GPA"
   ]
  },
  {
   "cell_type": "code",
   "execution_count": null,
   "metadata": {},
   "outputs": [
    {
     "name": "stdout",
     "output_type": "stream",
     "text": [
      "N. of numerical features: 135\n",
      "N. of categorical features: 469\n",
      "N. of binary features: 692\n",
      "N. of ordinal features: 135\n"
     ]
    }
   ],
   "source": [
    "gpa_model = run_model(train,target='gpa', classifier=False)"
   ]
  },
  {
   "cell_type": "code",
   "execution_count": null,
   "metadata": {},
   "outputs": [
    {
     "name": "stdout",
     "output_type": "stream",
     "text": [
      "Metric: mean_squared_error\n",
      "Best CV score: 0.3979\n",
      "Standard deviation of CV scores: 0.0375\n",
      "Mean CV score: 0.4094\n",
      "Test MSE: 0.3920\n",
      "Test R2: 0.1333\n",
      ">> Leaderboard MSE: 0.3859\n",
      "Leaderboard R2: 0.0120\n"
     ]
    }
   ],
   "source": [
    "score_model(gpa_model,'gpa',test,leaderboard,holdout=None,classifier=False)"
   ]
  },
  {
   "cell_type": "markdown",
   "metadata": {},
   "source": [
    "# Material Hardship"
   ]
  },
  {
   "cell_type": "code",
   "execution_count": null,
   "metadata": {},
   "outputs": [
    {
     "name": "stdout",
     "output_type": "stream",
     "text": [
      "N. of numerical features: 135\n",
      "N. of categorical features: 469\n",
      "N. of binary features: 692\n",
      "N. of ordinal features: 135\n"
     ]
    }
   ],
   "source": [
    "model_materialHardship = run_model(train,target='materialHardship', classifier=False)"
   ]
  },
  {
   "cell_type": "code",
   "execution_count": null,
   "metadata": {},
   "outputs": [
    {
     "data": {
      "text/plain": [
       "OrderedDict([('regressor__colsample_bytree', 0.6138721865203991),\n",
       "             ('regressor__learning_rate', 0.026903038203804172),\n",
       "             ('regressor__max_depth', 3),\n",
       "             ('regressor__n_estimators', 282),\n",
       "             ('regressor__subsample', 0.7385616673608244)])"
      ]
     },
     "execution_count": 7,
     "metadata": {},
     "output_type": "execute_result"
    }
   ],
   "source": [
    "model_materialHardship.best_params_"
   ]
  },
  {
   "cell_type": "code",
   "execution_count": null,
   "metadata": {},
   "outputs": [
    {
     "name": "stdout",
     "output_type": "stream",
     "text": [
      "Metric: mean_squared_error\n",
      "Best CV score: 0.0212\n",
      "Standard deviation of CV scores: 0.0037\n",
      "Mean CV score: 0.0219\n",
      "Test MSE: 0.0196\n",
      "Test R2: 0.2251\n",
      ">> Leaderboard MSE: 0.0242\n",
      "Leaderboard R2: 0.1536\n"
     ]
    }
   ],
   "source": [
    "score_model(model_materialHardship, target='materialHardship', test=test, leaderboard=leaderboard, holdout=None, classifier=False)"
   ]
  },
  {
   "cell_type": "markdown",
   "metadata": {},
   "source": [
    "# Grit\n"
   ]
  },
  {
   "cell_type": "code",
   "execution_count": null,
   "metadata": {},
   "outputs": [
    {
     "name": "stdout",
     "output_type": "stream",
     "text": [
      "N. of numerical features: 135\n",
      "N. of categorical features: 469\n",
      "N. of binary features: 692\n",
      "N. of ordinal features: 135\n"
     ]
    }
   ],
   "source": [
    "model_grit = run_model(train,target='grit', classifier=False)"
   ]
  },
  {
   "cell_type": "code",
   "execution_count": null,
   "metadata": {},
   "outputs": [
    {
     "data": {
      "text/plain": [
       "OrderedDict([('regressor__colsample_bytree', 0.41221838274599537),\n",
       "             ('regressor__learning_rate', 0.021130901339300144),\n",
       "             ('regressor__max_depth', 3),\n",
       "             ('regressor__n_estimators', 454),\n",
       "             ('regressor__subsample', 0.6904807538403688)])"
      ]
     },
     "execution_count": 10,
     "metadata": {},
     "output_type": "execute_result"
    }
   ],
   "source": [
    "model_grit.best_params_"
   ]
  },
  {
   "cell_type": "code",
   "execution_count": null,
   "metadata": {},
   "outputs": [
    {
     "name": "stdout",
     "output_type": "stream",
     "text": [
      "Metric: mean_squared_error\n",
      "Best CV score: 0.2422\n",
      "Standard deviation of CV scores: 0.0399\n",
      "Mean CV score: 0.2503\n",
      "Test MSE: 0.2280\n",
      "Test R2: -0.0167\n",
      ">> Leaderboard MSE: 0.2845\n",
      "Leaderboard R2: -0.2949\n"
     ]
    }
   ],
   "source": [
    "score_model(model_grit, target='grit', test=test, leaderboard=leaderboard, holdout=None, classifier=False)"
   ]
  },
  {
   "cell_type": "markdown",
   "metadata": {},
   "source": [
    "# Eviction"
   ]
  },
  {
   "cell_type": "code",
   "execution_count": null,
   "metadata": {},
   "outputs": [
    {
     "name": "stdout",
     "output_type": "stream",
     "text": [
      "N. of numerical features: 135\n",
      "N. of categorical features: 469\n",
      "N. of binary features: 692\n",
      "N. of ordinal features: 135\n"
     ]
    }
   ],
   "source": [
    "model_eviction = run_model(train,target='eviction', classifier=True)"
   ]
  },
  {
   "cell_type": "code",
   "execution_count": null,
   "metadata": {},
   "outputs": [
    {
     "data": {
      "text/plain": [
       "OrderedDict([('regressor__colsample_bytree', 0.5306473060393044),\n",
       "             ('regressor__learning_rate', 0.03233783338131135),\n",
       "             ('regressor__max_depth', 2),\n",
       "             ('regressor__n_estimators', 572),\n",
       "             ('regressor__scale_pos_weight', 5),\n",
       "             ('regressor__subsample', 0.7471998635981993)])"
      ]
     },
     "execution_count": 13,
     "metadata": {},
     "output_type": "execute_result"
    }
   ],
   "source": [
    "model_eviction.best_params_"
   ]
  },
  {
   "cell_type": "code",
   "execution_count": null,
   "metadata": {},
   "outputs": [
    {
     "name": "stdout",
     "output_type": "stream",
     "text": [
      "Scores without threshold adjusment\n",
      "Test Brier: 0.0514\n",
      "Test F1: 0.0000\n",
      "Leaderboard Brier: 0.0604\n",
      "Number of positive predictions: 6\n",
      ">> Leaderboard F1: 0.1111\n",
      "Leaderboard Accuracy: 0.9396\n",
      "Leaderboard Recall: 0.0667\n"
     ]
    }
   ],
   "source": [
    "score_model(model_eviction, 'eviction', test, leaderboard, holdout=None, classifier=True)"
   ]
  },
  {
   "cell_type": "code",
   "execution_count": null,
   "metadata": {},
   "outputs": [
    {
     "name": "stdout",
     "output_type": "stream",
     "text": [
      "Scores with threshold adjusment\n"
     ]
    },
    {
     "data": {
      "image/png": "[encoded data removed]",
      "text/plain": [
       "<Figure size 640x480 with 1 Axes>"
      ]
     },
     "metadata": {},
     "output_type": "display_data"
    },
    {
     "name": "stdout",
     "output_type": "stream",
     "text": [
      "Threshold=0.015, FPR=0.690, TPR=0.867\n",
      "Test brier: 0.664\n",
      "Test F1: 0.110\n",
      "Leaderboard Brier: 0.642\n",
      "              precision    recall  f1-score   support\n",
      "\n",
      "         0.0       0.97      0.33      0.49       500\n",
      "         1.0       0.07      0.80      0.12        30\n",
      "\n",
      "    accuracy                           0.36       530\n",
      "   macro avg       0.52      0.57      0.31       530\n",
      "weighted avg       0.91      0.36      0.47       530\n",
      "\n",
      "Leaderboard F1: 0.124\n"
     ]
    }
   ],
   "source": [
    "score_classifier(model_eviction, 'eviction', test, leaderboard, holdout=None)"
   ]
  },
  {
   "cell_type": "markdown",
   "metadata": {},
   "source": [
    "# jobTraining"
   ]
  },
  {
   "cell_type": "code",
   "execution_count": null,
   "metadata": {},
   "outputs": [
    {
     "name": "stdout",
     "output_type": "stream",
     "text": [
      "N. of numerical features: 135\n",
      "N. of categorical features: 469\n",
      "N. of binary features: 692\n",
      "N. of ordinal features: 135\n"
     ]
    }
   ],
   "source": [
    "model_job = run_model(train,target='jobTraining', classifier=True)"
   ]
  },
  {
   "cell_type": "code",
   "execution_count": null,
   "metadata": {},
   "outputs": [
    {
     "data": {
      "text/plain": [
       "OrderedDict([('regressor__colsample_bytree', 0.6573580990269696),\n",
       "             ('regressor__learning_rate', 0.03839797463244792),\n",
       "             ('regressor__max_depth', 5),\n",
       "             ('regressor__n_estimators', 497),\n",
       "             ('regressor__scale_pos_weight', 8),\n",
       "             ('regressor__subsample', 0.4089659185057217)])"
      ]
     },
     "execution_count": 17,
     "metadata": {},
     "output_type": "execute_result"
    }
   ],
   "source": [
    "model_job.best_params_"
   ]
  },
  {
   "cell_type": "code",
   "execution_count": null,
   "metadata": {},
   "outputs": [
    {
     "name": "stdout",
     "output_type": "stream",
     "text": [
      "Scores without threshold adjusment\n",
      "Test Brier: 0.2432\n",
      "Test F1: 0.3486\n",
      "Leaderboard Brier: 0.3075\n",
      "Number of positive predictions: 44\n",
      ">> Leaderboard F1: 0.1466\n",
      "Leaderboard Accuracy: 0.6925\n",
      "Leaderboard Recall: 0.0952\n"
     ]
    }
   ],
   "source": [
    "score_model(model_job, 'jobTraining', test, leaderboard, holdout=None, classifier=True)"
   ]
  },
  {
   "cell_type": "code",
   "execution_count": null,
   "metadata": {},
   "outputs": [
    {
     "name": "stdout",
     "output_type": "stream",
     "text": [
      "Scores with threshold adjusment\n"
     ]
    },
    {
     "data": {
      "image/png": "[encoded data removed]",
      "text/plain": [
       "<Figure size 640x480 with 1 Axes>"
      ]
     },
     "metadata": {},
     "output_type": "display_data"
    },
    {
     "name": "stdout",
     "output_type": "stream",
     "text": [
      "Threshold=0.276, FPR=0.289, TPR=0.522\n",
      "Test brier: 0.336\n",
      "Test F1: 0.410\n",
      "Leaderboard Brier: 0.391\n",
      "              precision    recall  f1-score   support\n",
      "\n",
      "         0.0       0.72      0.75      0.73       383\n",
      "         1.0       0.27      0.24      0.26       147\n",
      "\n",
      "    accuracy                           0.61       530\n",
      "   macro avg       0.50      0.50      0.50       530\n",
      "weighted avg       0.60      0.61      0.60       530\n",
      "\n",
      "Leaderboard F1: 0.258\n"
     ]
    }
   ],
   "source": [
    "score_classifier(model_job, 'jobTraining', test, leaderboard, holdout=None)"
   ]
  },
  {
   "cell_type": "markdown",
   "metadata": {},
   "source": [
    "# Layoff"
   ]
  },
  {
   "cell_type": "code",
   "execution_count": null,
   "metadata": {},
   "outputs": [
    {
     "name": "stdout",
     "output_type": "stream",
     "text": [
      "N. of numerical features: 135\n",
      "N. of categorical features: 469\n",
      "N. of binary features: 692\n",
      "N. of ordinal features: 135\n"
     ]
    }
   ],
   "source": [
    "model_layoff = run_model(train, target='layoff', classifier=True)"
   ]
  },
  {
   "cell_type": "code",
   "execution_count": null,
   "metadata": {},
   "outputs": [
    {
     "data": {
      "text/plain": [
       "OrderedDict([('regressor__colsample_bytree', 0.6573580990269696),\n",
       "             ('regressor__learning_rate', 0.03839797463244792),\n",
       "             ('regressor__max_depth', 5),\n",
       "             ('regressor__n_estimators', 497),\n",
       "             ('regressor__scale_pos_weight', 8),\n",
       "             ('regressor__subsample', 0.4089659185057217)])"
      ]
     },
     "execution_count": 21,
     "metadata": {},
     "output_type": "execute_result"
    }
   ],
   "source": [
    "model_layoff.best_params_"
   ]
  },
  {
   "cell_type": "code",
   "execution_count": null,
   "metadata": {},
   "outputs": [
    {
     "name": "stdout",
     "output_type": "stream",
     "text": [
      "Scores without threshold adjusment\n",
      "Test Brier: 0.2390\n",
      "Test F1: 0.1176\n",
      "Leaderboard Brier: 0.2472\n",
      "Number of positive predictions: 28\n",
      ">> Leaderboard F1: 0.1088\n",
      "Leaderboard Accuracy: 0.7528\n",
      "Leaderboard Recall: 0.0672\n"
     ]
    }
   ],
   "source": [
    "score_model(model_layoff, 'layoff', test, leaderboard, holdout=None, classifier=True)"
   ]
  },
  {
   "cell_type": "code",
   "execution_count": null,
   "metadata": {},
   "outputs": [
    {
     "name": "stdout",
     "output_type": "stream",
     "text": [
      "Scores with threshold adjusment\n"
     ]
    },
    {
     "data": {
      "image/png": "[encoded data removed]",
      "text/plain": [
       "<Figure size 640x480 with 1 Axes>"
      ]
     },
     "metadata": {},
     "output_type": "display_data"
    },
    {
     "name": "stdout",
     "output_type": "stream",
     "text": [
      "Threshold=0.086, FPR=0.627, TPR=0.720\n",
      "Test brier: 0.562\n",
      "Test F1: 0.332\n",
      "Leaderboard Brier: 0.575\n",
      "              precision    recall  f1-score   support\n",
      "\n",
      "         0.0       0.76      0.37      0.50       411\n",
      "         1.0       0.22      0.60      0.32       119\n",
      "\n",
      "    accuracy                           0.42       530\n",
      "   macro avg       0.49      0.49      0.41       530\n",
      "weighted avg       0.64      0.42      0.46       530\n",
      "\n",
      "Leaderboard F1: 0.318\n"
     ]
    }
   ],
   "source": [
    "score_classifier(model_layoff, 'layoff', test, leaderboard, holdout=None)"
   ]
  }
 ],
 "metadata": {
  "kernelspec": {
   "display_name": "Python 3 (ipykernel)",
   "language": "python",
   "name": "python3"
  },
  "language_info": {
   "codemirror_mode": {
    "name": "ipython",
    "version": 3
   },
   "file_extension": ".py",
   "mimetype": "text/x-python",
   "name": "python",
   "nbconvert_exporter": "python",
   "pygments_lexer": "ipython3",
   "version": "3.10.6"
  }
 },
 "nbformat": 4,
 "nbformat_minor": 2
}
