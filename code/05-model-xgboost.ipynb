{
 "cells": [
  {
   "cell_type": "code",
   "execution_count": 1,
   "metadata": {},
   "outputs": [],
   "source": [
    "from sklearn.preprocessing import OneHotEncoder\n",
    "from sklearn.compose import make_column_transformer\n",
    "from xgboost import XGBClassifier, XGBRegressor\n",
    "from skopt import BayesSearchCV\n",
    "import skopt.space as space\n",
    "from sklearn.pipeline import Pipeline\n",
    "\n",
    "from ff_custom_scripts import *\n",
    "\n"
   ]
  },
  {
   "cell_type": "code",
   "execution_count": 2,
   "metadata": {},
   "outputs": [
    {
     "name": "stdout",
     "output_type": "stream",
     "text": [
      "(1172, 1437) (294, 1437) (530, 1437) (1111, 1437)\n"
     ]
    }
   ],
   "source": [
    "train, test,leaderboard,holdout = load_files(nanvalues='remove')\n",
    "\n",
    "alldata = pd.concat([train, test]) # all data available for training in the FF Challenge\n",
    "\n",
    "print(train.shape, test.shape,leaderboard.shape,holdout.shape)"
   ]
  },
  {
   "cell_type": "markdown",
   "metadata": {},
   "source": [
    "# Model"
   ]
  },
  {
   "cell_type": "code",
   "execution_count": 3,
   "metadata": {},
   "outputs": [],
   "source": [
    "def run_model(train, target='gpa', classifier=False):\n",
    "\n",
    "    X_train, y_train = prepare_data(train, target)\n",
    "    \n",
    "    categorical_transformer = OneHotEncoder(handle_unknown='ignore')\n",
    "\n",
    "    numerical_features = cols_per_type(X_train, 'Continuous')\n",
    "    categorical_features = cols_per_type(X_train, 'Categorical')\n",
    "    binary_features = cols_per_type(X_train, 'Binary')\n",
    "    ordinal_features = cols_per_type(X_train, 'Ordinal')\n",
    "    \n",
    "    preprocessor = make_column_transformer(\n",
    "        (categorical_transformer, categorical_features),\n",
    "        ('passthrough', numerical_features),\n",
    "        ('passthrough', ordinal_features),\n",
    "        ('passthrough', binary_features)\n",
    "    )\n",
    "    \n",
    "    search_space = {\n",
    "            'regressor__n_estimators': space.Integer(100, 1000),\n",
    "            'regressor__learning_rate': space.Real(0.01, 0.05),\n",
    "            'regressor__max_depth': space.Integer(2, 5),\n",
    "            'regressor__subsample': space.Real(0.4, 0.8),\n",
    "            'regressor__colsample_bytree': space.Real(0.4, 0.8),\n",
    "        }\n",
    "    \n",
    "    if classifier:\n",
    "        score = 'neg_brier_score'\n",
    "        xgboost = XGBClassifier(n_jobs=-1, eval_metric='logloss', objective='binary:logistic')\n",
    "        search_space.update({'regressor__scale_pos_weight': space.Integer(2, 17)})\n",
    "           \n",
    "    else:\n",
    "        xgboost = XGBRegressor(n_jobs=-1, eval_metric='rmse')\n",
    "        score = 'neg_mean_squared_error'\n",
    "    \n",
    "        \n",
    "    pipes = Pipeline(steps=[('preprocessor', preprocessor),\n",
    "                            ('regressor', xgboost)])\n",
    "                            \n",
    "    model = BayesSearchCV(\n",
    "        pipes,\n",
    "        search_space,\n",
    "        n_iter=10,\n",
    "        cv=5,\n",
    "        n_jobs=-1,\n",
    "        scoring=score,\n",
    "        refit=True,\n",
    "        verbose=0,\n",
    "        random_state=32\n",
    "    )\n",
    "    \n",
    "    model.fit(X_train, y_train)\n",
    "    \n",
    "    return model\n"
   ]
  },
  {
   "cell_type": "markdown",
   "metadata": {},
   "source": [
    "# GPA"
   ]
  },
  {
   "cell_type": "code",
   "execution_count": 4,
   "metadata": {},
   "outputs": [],
   "source": [
    "gpa_model = run_model(train,target='gpa', classifier=False)"
   ]
  },
  {
   "cell_type": "code",
   "execution_count": 5,
   "metadata": {},
   "outputs": [
    {
     "name": "stdout",
     "output_type": "stream",
     "text": [
      "Metric: mean_squared_error\n",
      "Best CV score: 0.4059\n",
      "Standard deviation of CV scores: 0.0411\n",
      "Mean CV score: 0.4184\n",
      "Test MSE: 0.4123\n",
      "Test R2: 0.0884\n",
      "Leaderboard MSE: 0.3890\n",
      "Leaderboard R2: 0.0041\n"
     ]
    }
   ],
   "source": [
    "score_model(gpa_model,'gpa',test,leaderboard,holdout=None,classifier=False)"
   ]
  },
  {
   "cell_type": "markdown",
   "metadata": {},
   "source": [
    "# Material Hardship"
   ]
  },
  {
   "cell_type": "code",
   "execution_count": 7,
   "metadata": {},
   "outputs": [],
   "source": [
    "model_materialHardship = run_model(train,target='materialHardship', classifier=False)"
   ]
  },
  {
   "cell_type": "code",
   "execution_count": 8,
   "metadata": {},
   "outputs": [
    {
     "data": {
      "text/plain": [
       "OrderedDict([('regressor__colsample_bytree', 0.6138721865203991),\n",
       "             ('regressor__learning_rate', 0.026903038203804172),\n",
       "             ('regressor__max_depth', 3),\n",
       "             ('regressor__n_estimators', 282),\n",
       "             ('regressor__subsample', 0.7385616673608244)])"
      ]
     },
     "execution_count": 8,
     "metadata": {},
     "output_type": "execute_result"
    }
   ],
   "source": [
    "model_materialHardship.best_params_"
   ]
  },
  {
   "cell_type": "code",
   "execution_count": 9,
   "metadata": {},
   "outputs": [
    {
     "name": "stdout",
     "output_type": "stream",
     "text": [
      "Metric: mean_squared_error\n",
      "Best CV score: 0.0214\n",
      "Standard deviation of CV scores: 0.0033\n",
      "Mean CV score: 0.0219\n",
      "Test MSE: 0.0204\n",
      "Test R2: 0.1908\n",
      "Leaderboard MSE: 0.0252\n",
      "Leaderboard R2: 0.1177\n"
     ]
    }
   ],
   "source": [
    "score_model(model_materialHardship, target='materialHardship', test=test, leaderboard=leaderboard, holdout=None, classifier=False)"
   ]
  },
  {
   "cell_type": "markdown",
   "metadata": {},
   "source": [
    "# Grit\n"
   ]
  },
  {
   "cell_type": "code",
   "execution_count": 11,
   "metadata": {},
   "outputs": [],
   "source": [
    "model_grit = run_model(train,target='grit', classifier=False)"
   ]
  },
  {
   "cell_type": "code",
   "execution_count": 12,
   "metadata": {},
   "outputs": [
    {
     "data": {
      "text/plain": [
       "OrderedDict([('regressor__colsample_bytree', 0.6138721865203991),\n",
       "             ('regressor__learning_rate', 0.026903038203804172),\n",
       "             ('regressor__max_depth', 3),\n",
       "             ('regressor__n_estimators', 282),\n",
       "             ('regressor__subsample', 0.7385616673608244)])"
      ]
     },
     "execution_count": 12,
     "metadata": {},
     "output_type": "execute_result"
    }
   ],
   "source": [
    "model_grit.best_params_"
   ]
  },
  {
   "cell_type": "code",
   "execution_count": 13,
   "metadata": {},
   "outputs": [
    {
     "name": "stdout",
     "output_type": "stream",
     "text": [
      "Metric: mean_squared_error\n",
      "Best CV score: 0.2506\n",
      "Standard deviation of CV scores: 0.0441\n",
      "Mean CV score: 0.2648\n",
      "Test MSE: 0.2242\n",
      "Test R2: 0.0004\n",
      "Leaderboard MSE: 0.3231\n",
      "Leaderboard R2: -0.4703\n"
     ]
    }
   ],
   "source": [
    "score_model(model_grit, target='grit', test=test, leaderboard=leaderboard, holdout=None, classifier=False)"
   ]
  },
  {
   "cell_type": "markdown",
   "metadata": {},
   "source": [
    "# Eviction"
   ]
  },
  {
   "cell_type": "code",
   "execution_count": 15,
   "metadata": {},
   "outputs": [],
   "source": [
    "model_eviction = run_model(train,target='eviction', classifier=True)"
   ]
  },
  {
   "cell_type": "code",
   "execution_count": 23,
   "metadata": {},
   "outputs": [
    {
     "data": {
      "text/plain": [
       "OrderedDict([('regressor__colsample_bytree', 0.6510334011091358),\n",
       "             ('regressor__learning_rate', 0.01980905463264343),\n",
       "             ('regressor__max_depth', 4),\n",
       "             ('regressor__n_estimators', 772),\n",
       "             ('regressor__scale_pos_weight', 13),\n",
       "             ('regressor__subsample', 0.690421136549473)])"
      ]
     },
     "execution_count": 23,
     "metadata": {},
     "output_type": "execute_result"
    }
   ],
   "source": [
    "model_eviction.best_params_"
   ]
  },
  {
   "cell_type": "code",
   "execution_count": 27,
   "metadata": {},
   "outputs": [
    {
     "name": "stdout",
     "output_type": "stream",
     "text": [
      "Test Brier: 0.0514\n",
      "Test F1: 0.0000\n",
      "Leaderboard Brier: 0.0528\n",
      "Leaderboard F1: 0.1250\n"
     ]
    }
   ],
   "source": [
    "score_model(model_eviction, 'eviction', test, leaderboard, holdout=None, classifier=True)"
   ]
  },
  {
   "cell_type": "markdown",
   "metadata": {},
   "source": [
    "# jobTraining"
   ]
  },
  {
   "cell_type": "code",
   "execution_count": 18,
   "metadata": {},
   "outputs": [],
   "source": [
    "model_job = run_model(train,target='jobTraining', classifier=True)"
   ]
  },
  {
   "cell_type": "code",
   "execution_count": 24,
   "metadata": {},
   "outputs": [
    {
     "data": {
      "text/plain": [
       "OrderedDict([('regressor__colsample_bytree', 0.6573580990269696),\n",
       "             ('regressor__learning_rate', 0.03839797463244792),\n",
       "             ('regressor__max_depth', 5),\n",
       "             ('regressor__n_estimators', 497),\n",
       "             ('regressor__scale_pos_weight', 8),\n",
       "             ('regressor__subsample', 0.4089659185057217)])"
      ]
     },
     "execution_count": 24,
     "metadata": {},
     "output_type": "execute_result"
    }
   ],
   "source": [
    "model_job.best_params_"
   ]
  },
  {
   "cell_type": "code",
   "execution_count": 19,
   "metadata": {},
   "outputs": [
    {
     "name": "stdout",
     "output_type": "stream",
     "text": [
      "Test Brier: 0.2842\n",
      "Test F1: 0.2906\n",
      "Leaderboard Brier: 0.3340\n",
      "Leaderboard F1: 0.1690\n"
     ]
    }
   ],
   "source": [
    "score_model(model_job, 'jobTraining', test, leaderboard, holdout=None, classifier=True)"
   ]
  },
  {
   "cell_type": "markdown",
   "metadata": {},
   "source": [
    "# Layoff"
   ]
  },
  {
   "cell_type": "code",
   "execution_count": 20,
   "metadata": {},
   "outputs": [],
   "source": [
    "model_layoff = run_model(train, target='layoff', classifier=True)"
   ]
  },
  {
   "cell_type": "code",
   "execution_count": 21,
   "metadata": {},
   "outputs": [
    {
     "data": {
      "text/plain": [
       "OrderedDict([('regressor__colsample_bytree', 0.6573580990269696),\n",
       "             ('regressor__learning_rate', 0.03839797463244792),\n",
       "             ('regressor__max_depth', 5),\n",
       "             ('regressor__n_estimators', 497),\n",
       "             ('regressor__scale_pos_weight', 8),\n",
       "             ('regressor__subsample', 0.4089659185057217)])"
      ]
     },
     "execution_count": 21,
     "metadata": {},
     "output_type": "execute_result"
    }
   ],
   "source": [
    "model_layoff.best_params_"
   ]
  },
  {
   "cell_type": "code",
   "execution_count": 26,
   "metadata": {},
   "outputs": [
    {
     "name": "stdout",
     "output_type": "stream",
     "text": [
      "Test Brier: 0.2311\n",
      "Test F1: 0.2368\n",
      "Leaderboard Brier: 0.2830\n",
      "Leaderboard F1: 0.1071\n"
     ]
    }
   ],
   "source": [
    "score_model(model_layoff, 'layoff', test, leaderboard, holdout=None, classifier=True)"
   ]
  }
 ],
 "metadata": {
  "kernelspec": {
   "display_name": "Python 3 (ipykernel)",
   "language": "python",
   "name": "python3"
  },
  "language_info": {
   "codemirror_mode": {
    "name": "ipython",
    "version": 3
   },
   "file_extension": ".py",
   "mimetype": "text/x-python",
   "name": "python",
   "nbconvert_exporter": "python",
   "pygments_lexer": "ipython3",
   "version": "3.10.6"
  }
 },
 "nbformat": 4,
 "nbformat_minor": 2
}
